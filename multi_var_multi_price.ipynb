{
 "cells": [
  {
   "cell_type": "code",
   "execution_count": 1,
   "id": "5386f183-beef-446a-a3a2-a72da4ce0cbc",
   "metadata": {},
   "outputs": [
    {
     "name": "stderr",
     "output_type": "stream",
     "text": [
      "2021-11-28 18:54:11.475472: W tensorflow/stream_executor/platform/default/dso_loader.cc:64] Could not load dynamic library 'libcudart.so.11.0'; dlerror: libcudart.so.11.0: cannot open shared object file: No such file or directory\n",
      "2021-11-28 18:54:11.475493: I tensorflow/stream_executor/cuda/cudart_stub.cc:29] Ignore above cudart dlerror if you do not have a GPU set up on your machine.\n"
     ]
    }
   ],
   "source": [
    "# Imports\n",
    "import numpy as np\n",
    "from tensorflow.keras.models import Sequential\n",
    "from tensorflow.keras.layers import LSTM\n",
    "from tensorflow.keras.layers import Dense, Dropout\n",
    "import pandas as pd\n",
    "from matplotlib import pyplot as plt\n",
    "from sklearn.preprocessing import StandardScaler\n",
    "import seaborn as sns\n",
    "import access_api as api\n",
    "from datetime import datetime, timedelta"
   ]
  },
  {
   "cell_type": "code",
   "execution_count": 2,
   "id": "3a73f5de-a352-44c1-85d7-0b6ecfc0615b",
   "metadata": {},
   "outputs": [
    {
     "name": "stdout",
     "output_type": "stream",
     "text": [
      "                 High        Low       Open      Close       Volume  Adj Close\n",
      "Date                                                                          \n",
      "2019-11-11  65.617500  64.570000  64.574997  65.550003   81821200.0  64.590576\n",
      "2019-11-12  65.697502  65.230003  65.387497  65.489998   87388800.0  64.531456\n",
      "2019-11-13  66.195000  65.267502  65.282501  66.117500  102734400.0  65.149757\n",
      "2019-11-14  66.220001  65.525002  65.937500  65.660004   89182800.0  64.698959\n",
      "2019-11-15  66.445000  65.752502  65.919998  66.440002  100206400.0  65.467545\n"
     ]
    }
   ],
   "source": [
    "ticker = \"AAPL\"\n",
    "start_date = datetime(year = 2019, month = 11, day = 10)\n",
    "end_date = datetime(year = 2021, month = 11, day = 10)\n",
    "df = api.get_stock_data(ticker, start_date, end_date)\n",
    "print(df.head()) #7 columns, including the Date. "
   ]
  },
  {
   "cell_type": "code",
   "execution_count": 3,
   "id": "22c59b20-cc0a-40db-bad1-3b8b2d70f7e8",
   "metadata": {},
   "outputs": [
    {
     "data": {
      "text/html": [
       "<div>\n",
       "<style scoped>\n",
       "    .dataframe tbody tr th:only-of-type {\n",
       "        vertical-align: middle;\n",
       "    }\n",
       "\n",
       "    .dataframe tbody tr th {\n",
       "        vertical-align: top;\n",
       "    }\n",
       "\n",
       "    .dataframe thead th {\n",
       "        text-align: right;\n",
       "    }\n",
       "</style>\n",
       "<table border=\"1\" class=\"dataframe\">\n",
       "  <thead>\n",
       "    <tr style=\"text-align: right;\">\n",
       "      <th></th>\n",
       "      <th>High</th>\n",
       "      <th>Low</th>\n",
       "      <th>Open</th>\n",
       "      <th>Close</th>\n",
       "      <th>Volume</th>\n",
       "      <th>Adj Close</th>\n",
       "      <th>Date</th>\n",
       "    </tr>\n",
       "  </thead>\n",
       "  <tbody>\n",
       "    <tr>\n",
       "      <th>1</th>\n",
       "      <td>65.617500</td>\n",
       "      <td>64.570000</td>\n",
       "      <td>64.574997</td>\n",
       "      <td>65.550003</td>\n",
       "      <td>81821200.0</td>\n",
       "      <td>64.590576</td>\n",
       "      <td>2019-11-11</td>\n",
       "    </tr>\n",
       "    <tr>\n",
       "      <th>2</th>\n",
       "      <td>65.697502</td>\n",
       "      <td>65.230003</td>\n",
       "      <td>65.387497</td>\n",
       "      <td>65.489998</td>\n",
       "      <td>87388800.0</td>\n",
       "      <td>64.531456</td>\n",
       "      <td>2019-11-12</td>\n",
       "    </tr>\n",
       "    <tr>\n",
       "      <th>3</th>\n",
       "      <td>66.195000</td>\n",
       "      <td>65.267502</td>\n",
       "      <td>65.282501</td>\n",
       "      <td>66.117500</td>\n",
       "      <td>102734400.0</td>\n",
       "      <td>65.149757</td>\n",
       "      <td>2019-11-13</td>\n",
       "    </tr>\n",
       "    <tr>\n",
       "      <th>4</th>\n",
       "      <td>66.220001</td>\n",
       "      <td>65.525002</td>\n",
       "      <td>65.937500</td>\n",
       "      <td>65.660004</td>\n",
       "      <td>89182800.0</td>\n",
       "      <td>64.698959</td>\n",
       "      <td>2019-11-14</td>\n",
       "    </tr>\n",
       "    <tr>\n",
       "      <th>5</th>\n",
       "      <td>66.445000</td>\n",
       "      <td>65.752502</td>\n",
       "      <td>65.919998</td>\n",
       "      <td>66.440002</td>\n",
       "      <td>100206400.0</td>\n",
       "      <td>65.467545</td>\n",
       "      <td>2019-11-15</td>\n",
       "    </tr>\n",
       "    <tr>\n",
       "      <th>...</th>\n",
       "      <td>...</td>\n",
       "      <td>...</td>\n",
       "      <td>...</td>\n",
       "      <td>...</td>\n",
       "      <td>...</td>\n",
       "      <td>...</td>\n",
       "      <td>...</td>\n",
       "    </tr>\n",
       "    <tr>\n",
       "      <th>501</th>\n",
       "      <td>152.429993</td>\n",
       "      <td>150.639999</td>\n",
       "      <td>151.580002</td>\n",
       "      <td>150.960007</td>\n",
       "      <td>60394600.0</td>\n",
       "      <td>150.740005</td>\n",
       "      <td>2021-11-04</td>\n",
       "    </tr>\n",
       "    <tr>\n",
       "      <th>502</th>\n",
       "      <td>152.199997</td>\n",
       "      <td>150.059998</td>\n",
       "      <td>151.889999</td>\n",
       "      <td>151.279999</td>\n",
       "      <td>65414600.0</td>\n",
       "      <td>151.279999</td>\n",
       "      <td>2021-11-05</td>\n",
       "    </tr>\n",
       "    <tr>\n",
       "      <th>503</th>\n",
       "      <td>151.570007</td>\n",
       "      <td>150.160004</td>\n",
       "      <td>151.410004</td>\n",
       "      <td>150.440002</td>\n",
       "      <td>55020900.0</td>\n",
       "      <td>150.440002</td>\n",
       "      <td>2021-11-08</td>\n",
       "    </tr>\n",
       "    <tr>\n",
       "      <th>504</th>\n",
       "      <td>151.429993</td>\n",
       "      <td>150.059998</td>\n",
       "      <td>150.199997</td>\n",
       "      <td>150.809998</td>\n",
       "      <td>56787900.0</td>\n",
       "      <td>150.809998</td>\n",
       "      <td>2021-11-09</td>\n",
       "    </tr>\n",
       "    <tr>\n",
       "      <th>505</th>\n",
       "      <td>150.130005</td>\n",
       "      <td>147.850006</td>\n",
       "      <td>150.020004</td>\n",
       "      <td>147.919998</td>\n",
       "      <td>65187100.0</td>\n",
       "      <td>147.919998</td>\n",
       "      <td>2021-11-10</td>\n",
       "    </tr>\n",
       "  </tbody>\n",
       "</table>\n",
       "<p>505 rows × 7 columns</p>\n",
       "</div>"
      ],
      "text/plain": [
       "           High         Low        Open       Close       Volume   Adj Close  \\\n",
       "1     65.617500   64.570000   64.574997   65.550003   81821200.0   64.590576   \n",
       "2     65.697502   65.230003   65.387497   65.489998   87388800.0   64.531456   \n",
       "3     66.195000   65.267502   65.282501   66.117500  102734400.0   65.149757   \n",
       "4     66.220001   65.525002   65.937500   65.660004   89182800.0   64.698959   \n",
       "5     66.445000   65.752502   65.919998   66.440002  100206400.0   65.467545   \n",
       "..          ...         ...         ...         ...          ...         ...   \n",
       "501  152.429993  150.639999  151.580002  150.960007   60394600.0  150.740005   \n",
       "502  152.199997  150.059998  151.889999  151.279999   65414600.0  151.279999   \n",
       "503  151.570007  150.160004  151.410004  150.440002   55020900.0  150.440002   \n",
       "504  151.429993  150.059998  150.199997  150.809998   56787900.0  150.809998   \n",
       "505  150.130005  147.850006  150.020004  147.919998   65187100.0  147.919998   \n",
       "\n",
       "          Date  \n",
       "1   2019-11-11  \n",
       "2   2019-11-12  \n",
       "3   2019-11-13  \n",
       "4   2019-11-14  \n",
       "5   2019-11-15  \n",
       "..         ...  \n",
       "501 2021-11-04  \n",
       "502 2021-11-05  \n",
       "503 2021-11-08  \n",
       "504 2021-11-09  \n",
       "505 2021-11-10  \n",
       "\n",
       "[505 rows x 7 columns]"
      ]
     },
     "execution_count": 3,
     "metadata": {},
     "output_type": "execute_result"
    }
   ],
   "source": [
    "df = df.dropna()\n",
    "df[\"Date\"] = df.index\n",
    "df.index = range(1, df.shape[0] + 1)\n",
    "df"
   ]
  },
  {
   "cell_type": "code",
   "execution_count": 4,
   "id": "23be2c8a-9327-41fb-888c-bd555c73f64a",
   "metadata": {},
   "outputs": [],
   "source": [
    "target_var = \"Adj Close\""
   ]
  },
  {
   "cell_type": "code",
   "execution_count": 5,
   "id": "1015f473-7873-49f5-9b57-91db0356f7cd",
   "metadata": {},
   "outputs": [
    {
     "name": "stdout",
     "output_type": "stream",
     "text": [
      "['High', 'Low', 'Open', 'Close', 'Volume', 'Adj Close']\n"
     ]
    }
   ],
   "source": [
    "#Separate dates for future plotting\n",
    "train_dates = pd.to_datetime(df['Date'])\n",
    "# print(train_dates.tail(15)) #Check last few dates. \n",
    "\n",
    "#Variables for training\n",
    "cols = list(df)\n",
    "cols.remove(\"Date\")\n",
    "#Date and volume columns are not used in training. \n",
    "print(cols) #['Open', 'High', 'Low', 'Close', 'Adj Close']\n",
    "\n",
    "#New dataframe with only training data - 5 columns\n",
    "df_for_training = df[cols].astype(float)\n",
    "\n",
    "# df_for_plot=df_for_training.tail(5000)\n",
    "# df_for_plot.plot.line()"
   ]
  },
  {
   "cell_type": "code",
   "execution_count": 6,
   "id": "1f8d3aa6-97ac-4c27-a292-d592c624d71e",
   "metadata": {},
   "outputs": [],
   "source": [
    "#LSTM uses sigmoid and tanh that are sensitive to magnitude so values need to be normalized\n",
    "# normalize the dataset\n",
    "scaler = StandardScaler()\n",
    "scaler = scaler.fit(df_for_training)\n",
    "df_for_training_scaled = scaler.transform(df_for_training)"
   ]
  },
  {
   "cell_type": "code",
   "execution_count": 7,
   "id": "8b31c312-a6d5-44c7-a963-009a05a04e98",
   "metadata": {},
   "outputs": [
    {
     "data": {
      "text/plain": [
       "5"
      ]
     },
     "execution_count": 7,
     "metadata": {},
     "output_type": "execute_result"
    }
   ],
   "source": [
    "target_var_x_index = list(df_for_training).index(target_var)\n",
    "target_var_x_index"
   ]
  },
  {
   "cell_type": "code",
   "execution_count": 8,
   "id": "6233d747-9cc9-4a91-b568-11c60bc13dc5",
   "metadata": {},
   "outputs": [
    {
     "name": "stdout",
     "output_type": "stream",
     "text": [
      "trainX shape == (445, 60, 6).\n",
      "trainY shape == (445, 1).\n"
     ]
    }
   ],
   "source": [
    "#As required for LSTM networks, we require to reshape an input data into n_samples x timesteps x n_features. \n",
    "#In this example, the n_features is 5. We will make timesteps = 14 (past days data used for training). \n",
    "\n",
    "#Empty lists to be populated using formatted training data\n",
    "trainX = []\n",
    "trainY = []\n",
    "\n",
    "n_future = 1   # Number of days we want to look into the future based on the past days.\n",
    "n_past = 60  # Number of past days we want to use to predict the future.\n",
    "\n",
    "#Reformat input data into a shape: (n_samples x timesteps x n_features)\n",
    "#In my example, my df_for_training_scaled has a shape (12823, 5)\n",
    "#12823 refers to the number of data points and 5 refers to the columns (multi-variables).\n",
    "for i in range(n_past, len(df_for_training_scaled) - n_future +1):\n",
    "    # trainX.append(df_for_training_scaled[i - n_past:i, 0:df_for_training.shape[1]])\n",
    "    # trainY.append(df_for_training_scaled[i + n_future - 1:i + n_future, 0])\n",
    "    trainX.append(df_for_training_scaled[i - n_past:i, 0:df_for_training.shape[1]])\n",
    "    # Predict Adj Close instead of Open\n",
    "    trainY.append(df_for_training_scaled[i + n_future - 1:i + n_future, target_var_x_index])\n",
    "\n",
    "\n",
    "trainX, trainY = np.array(trainX), np.array(trainY)\n",
    "\n",
    "print('trainX shape == {}.'.format(trainX.shape))\n",
    "print('trainY shape == {}.'.format(trainY.shape))\n",
    "\n",
    "#In my case, trainX has a shape (12809, 14, 5). \n",
    "#12809 because we are looking back 14 days (12823 - 14 = 12809). \n",
    "#Remember that we cannot look back 14 days until we get to the 15th day. \n",
    "#Also, trainY has a shape (12809, 1). Our model only predicts a single value, but \n",
    "#it needs multiple variables (5 in my example) to make this prediction. \n",
    "#This is why we can only predict a single day after our training, the day after where our data ends.\n",
    "#To predict more days in future, we need all the 5 variables which we do not have. \n",
    "#We need to predict all variables if we want to do that. "
   ]
  },
  {
   "cell_type": "code",
   "execution_count": 9,
   "id": "b1b99e34-5752-4a4a-84e6-d0576d594db6",
   "metadata": {},
   "outputs": [
    {
     "name": "stderr",
     "output_type": "stream",
     "text": [
      "2021-11-28 18:54:14.859398: W tensorflow/stream_executor/platform/default/dso_loader.cc:64] Could not load dynamic library 'libcuda.so.1'; dlerror: libcuda.so.1: cannot open shared object file: No such file or directory\n",
      "2021-11-28 18:54:14.859414: W tensorflow/stream_executor/cuda/cuda_driver.cc:269] failed call to cuInit: UNKNOWN ERROR (303)\n",
      "2021-11-28 18:54:14.859426: I tensorflow/stream_executor/cuda/cuda_diagnostics.cc:156] kernel driver does not appear to be running on this host (martin-ThinkPad-T490): /proc/driver/nvidia/version does not exist\n",
      "2021-11-28 18:54:14.859621: I tensorflow/core/platform/cpu_feature_guard.cc:142] This TensorFlow binary is optimized with oneAPI Deep Neural Network Library (oneDNN) to use the following CPU instructions in performance-critical operations:  AVX2 FMA\n",
      "To enable them in other operations, rebuild TensorFlow with the appropriate compiler flags.\n"
     ]
    },
    {
     "name": "stdout",
     "output_type": "stream",
     "text": [
      "Model: \"sequential\"\n",
      "_________________________________________________________________\n",
      "Layer (type)                 Output Shape              Param #   \n",
      "=================================================================\n",
      "lstm (LSTM)                  (None, 60, 64)            18176     \n",
      "_________________________________________________________________\n",
      "lstm_1 (LSTM)                (None, 32)                12416     \n",
      "_________________________________________________________________\n",
      "dropout (Dropout)            (None, 32)                0         \n",
      "_________________________________________________________________\n",
      "dense (Dense)                (None, 1)                 33        \n",
      "=================================================================\n",
      "Total params: 30,625\n",
      "Trainable params: 30,625\n",
      "Non-trainable params: 0\n",
      "_________________________________________________________________\n"
     ]
    }
   ],
   "source": [
    "# define the Autoencoder model\n",
    "model = Sequential()\n",
    "model.add(LSTM(64, activation='relu', input_shape=(trainX.shape[1], trainX.shape[2]), return_sequences=True))\n",
    "model.add(LSTM(32, activation='relu', return_sequences=False))\n",
    "model.add(Dropout(0.2))\n",
    "model.add(Dense(trainY.shape[1]))\n",
    "\n",
    "model.compile(optimizer='adam', loss='mse')\n",
    "model.summary()"
   ]
  },
  {
   "cell_type": "code",
   "execution_count": 10,
   "id": "eb9e3e77-0641-41be-91cd-4bf388778a6f",
   "metadata": {},
   "outputs": [
    {
     "name": "stdout",
     "output_type": "stream",
     "text": [
      "Epoch 1/25\n"
     ]
    },
    {
     "name": "stderr",
     "output_type": "stream",
     "text": [
      "2021-11-28 18:54:15.153570: I tensorflow/compiler/mlir/mlir_graph_optimization_pass.cc:185] None of the MLIR Optimization Passes are enabled (registered 2)\n"
     ]
    },
    {
     "name": "stdout",
     "output_type": "stream",
     "text": [
      "25/25 [==============================] - 2s 39ms/step - loss: 0.2153 - val_loss: 0.0344\n",
      "Epoch 2/25\n",
      "25/25 [==============================] - 1s 28ms/step - loss: 0.0538 - val_loss: 0.0164\n",
      "Epoch 3/25\n",
      "25/25 [==============================] - 1s 26ms/step - loss: 0.0502 - val_loss: 0.0128\n",
      "Epoch 4/25\n",
      "25/25 [==============================] - 1s 26ms/step - loss: 0.0411 - val_loss: 0.0194\n",
      "Epoch 5/25\n",
      "25/25 [==============================] - 1s 28ms/step - loss: 0.0401 - val_loss: 0.0297\n",
      "Epoch 6/25\n",
      "25/25 [==============================] - 1s 28ms/step - loss: 0.0454 - val_loss: 0.0099\n",
      "Epoch 7/25\n",
      "25/25 [==============================] - 1s 34ms/step - loss: 0.0443 - val_loss: 0.0454\n",
      "Epoch 8/25\n",
      "25/25 [==============================] - 1s 48ms/step - loss: 0.0391 - val_loss: 0.0100\n",
      "Epoch 9/25\n",
      "25/25 [==============================] - 1s 46ms/step - loss: 0.0402 - val_loss: 0.0141\n",
      "Epoch 10/25\n",
      "25/25 [==============================] - 1s 50ms/step - loss: 0.0369 - val_loss: 0.0144\n",
      "Epoch 11/25\n",
      "25/25 [==============================] - 1s 46ms/step - loss: 0.0351 - val_loss: 0.0095\n",
      "Epoch 12/25\n",
      "25/25 [==============================] - 1s 54ms/step - loss: 0.0345 - val_loss: 0.0198\n",
      "Epoch 13/25\n",
      "25/25 [==============================] - 1s 46ms/step - loss: 0.0354 - val_loss: 0.0248\n",
      "Epoch 14/25\n",
      "25/25 [==============================] - 1s 48ms/step - loss: 0.0370 - val_loss: 0.0196\n",
      "Epoch 15/25\n",
      "25/25 [==============================] - 1s 46ms/step - loss: 0.0334 - val_loss: 0.0089\n",
      "Epoch 16/25\n",
      "25/25 [==============================] - 1s 48ms/step - loss: 0.0355 - val_loss: 0.0271\n",
      "Epoch 17/25\n",
      "25/25 [==============================] - 1s 52ms/step - loss: 0.0305 - val_loss: 0.0092\n",
      "Epoch 18/25\n",
      "25/25 [==============================] - 1s 50ms/step - loss: 0.0353 - val_loss: 0.0133\n",
      "Epoch 19/25\n",
      "25/25 [==============================] - 1s 42ms/step - loss: 0.0379 - val_loss: 0.0081\n",
      "Epoch 20/25\n",
      "25/25 [==============================] - 1s 50ms/step - loss: 0.0293 - val_loss: 0.0101\n",
      "Epoch 21/25\n",
      "25/25 [==============================] - 1s 48ms/step - loss: 0.0339 - val_loss: 0.0098\n",
      "Epoch 22/25\n",
      "25/25 [==============================] - 1s 53ms/step - loss: 0.0315 - val_loss: 0.0085\n",
      "Epoch 23/25\n",
      "25/25 [==============================] - 1s 49ms/step - loss: 0.0266 - val_loss: 0.0161\n",
      "Epoch 24/25\n",
      "25/25 [==============================] - 1s 49ms/step - loss: 0.0333 - val_loss: 0.0159\n",
      "Epoch 25/25\n",
      "25/25 [==============================] - 1s 54ms/step - loss: 0.0326 - val_loss: 0.0077\n"
     ]
    }
   ],
   "source": [
    "# fit the model\n",
    "history = model.fit(trainX, trainY, epochs=25, batch_size=16, validation_split=0.1, verbose=1)"
   ]
  },
  {
   "cell_type": "code",
   "execution_count": 11,
   "id": "0cf04d16-4d6d-4180-af01-6b1b807cdab4",
   "metadata": {},
   "outputs": [
    {
     "data": {
      "text/plain": [
       "<matplotlib.legend.Legend at 0x7f60c030a940>"
      ]
     },
     "execution_count": 11,
     "metadata": {},
     "output_type": "execute_result"
    },
    {
     "data": {
      "image/png": "[encoded data removed]",
      "text/plain": [
       "<Figure size 432x288 with 1 Axes>"
      ]
     },
     "metadata": {
      "needs_background": "light"
     },
     "output_type": "display_data"
    }
   ],
   "source": [
    "plt.plot(history.history['loss'], label='Training loss')\n",
    "plt.plot(history.history['val_loss'], label='Validation loss')\n",
    "plt.legend()"
   ]
  },
  {
   "cell_type": "code",
   "execution_count": 12,
   "id": "0c339ecb-171b-4d29-a686-6bfa5954d985",
   "metadata": {},
   "outputs": [],
   "source": [
    "#Predicting...\n",
    "#Libraries that will help us extract only business days in the US.\n",
    "#Otherwise our dates would be wrong when we look back (or forward).  \n",
    "from pandas.tseries.holiday import USFederalHolidayCalendar\n",
    "from pandas.tseries.offsets import CustomBusinessDay\n",
    "us_bd = CustomBusinessDay(calendar=USFederalHolidayCalendar())"
   ]
  },
  {
   "cell_type": "code",
   "execution_count": 13,
   "id": "fecf2aaf-91a4-4b26-b172-04258ab066eb",
   "metadata": {},
   "outputs": [],
   "source": [
    "#Remember that we can only predict one day in future as our model needs 5 variables\n",
    "#as inputs for prediction. We only have all 5 variables until the last day in our dataset.\n",
    "n_past = 1\n",
    "n_days_for_prediction=21  #let us predict past 15 days"
   ]
  },
  {
   "cell_type": "code",
   "execution_count": 14,
   "id": "ecf52e5c-f127-4dd7-bd1d-57449a57d677",
   "metadata": {},
   "outputs": [],
   "source": [
    "predict_period_dates = pd.date_range(list(train_dates)[-n_past], periods=n_days_for_prediction, freq=us_bd).tolist()\n",
    "# print(predict_period_dates)"
   ]
  },
  {
   "cell_type": "code",
   "execution_count": 15,
   "id": "9abb94a7-cb26-483b-bb35-0daf8502e705",
   "metadata": {},
   "outputs": [],
   "source": [
    "#Make prediction\n",
    "prediction = model.predict(trainX[-n_days_for_prediction:]) #shape = (n, 1) where n is the n_days_for_prediction\n",
    "# prediction"
   ]
  },
  {
   "cell_type": "code",
   "execution_count": 16,
   "id": "305a5c2c-8458-4d74-9be1-5fdf9508721f",
   "metadata": {},
   "outputs": [],
   "source": [
    "#Perform inverse transformation to rescale back to original range\n",
    "#Since we used 5 variables for transform, the inverse expects same dimensions\n",
    "#Therefore, let us copy our values 5 times and discard them after inverse transform\n",
    "prediction_copies = np.repeat(prediction, df_for_training.shape[1], axis=-1)\n",
    "y_pred_future = scaler.inverse_transform(prediction_copies)[:,target_var_x_index]"
   ]
  },
  {
   "cell_type": "code",
   "execution_count": 17,
   "id": "69581572-d326-4993-a221-9da3d7622516",
   "metadata": {},
   "outputs": [],
   "source": [
    "# Convert timestamp to date\n",
    "forecast_dates = []\n",
    "for time_i in predict_period_dates:\n",
    "    forecast_dates.append(time_i.date())\n",
    "df_forecast = pd.DataFrame({'Date':np.array(forecast_dates), 'Adj Close':y_pred_future})\n",
    "df_forecast['Date'] = pd.to_datetime(df_forecast['Date'])"
   ]
  },
  {
   "cell_type": "code",
   "execution_count": 18,
   "id": "9a3c03dc-aa14-48b5-89b8-fbb328e2f297",
   "metadata": {},
   "outputs": [],
   "source": [
    "original = df[['Date', 'Adj Close']].copy()\n",
    "original['Date'] = pd.to_datetime(original['Date'])\n",
    "original = original.loc[original['Date'] >= '2021-5-1']"
   ]
  },
  {
   "cell_type": "code",
   "execution_count": 19,
   "id": "33d77694-7512-4502-8373-0b75020ed401",
   "metadata": {},
   "outputs": [],
   "source": [
    "# sns.lineplot(x = original['Date'], y = original['Adj Close'])\n",
    "# sns.lineplot(x = df_forecast['Date'], y = df_forecast['Adj Close'])"
   ]
  },
  {
   "cell_type": "code",
   "execution_count": 20,
   "id": "dd93c1b1-1db5-4590-99d4-90f379e20e62",
   "metadata": {},
   "outputs": [],
   "source": [
    "# Store the data in one dataset so that we can plot a continuous line\n",
    "combined_dfs = original.append(df_forecast)\n",
    "last_date_from_data = original[\"Date\"][original.index[-1]]"
   ]
  },
  {
   "cell_type": "code",
   "execution_count": 21,
   "id": "93ce961f-ce7c-4b9d-94b6-a24d2a155a44",
   "metadata": {},
   "outputs": [],
   "source": [
    "# import matplotlib.dates as mdates\n",
    "# years = mdates.YearLocator()   # every year\n",
    "# months = mdates.MonthLocator()  # every month\n",
    "# years_fmt = mdates.DateFormatter('%Y-%m') #This is a format. Will be clear in Screenshot\n",
    "\n",
    "# axes.xaxis.set_major_locator(months)\n",
    "# axes.xaxis.set_major_formatter(years_fmt)\n",
    "# axes.xaxis.set_minor_locator(months)"
   ]
  },
  {
   "cell_type": "code",
   "execution_count": 22,
   "id": "ffc2621d-66ed-4127-84bb-b4a96a74d4f5",
   "metadata": {},
   "outputs": [
    {
     "data": {
      "text/plain": [
       "<AxesSubplot:xlabel='Date', ylabel='Adj Close'>"
      ]
     },
     "execution_count": 22,
     "metadata": {},
     "output_type": "execute_result"
    },
    {
     "data": {
      "image/png": "[encoded data removed]",
      "text/plain": [
       "<Figure size 1440x504 with 1 Axes>"
      ]
     },
     "metadata": {
      "needs_background": "light"
     },
     "output_type": "display_data"
    }
   ],
   "source": [
    "fig, axes = plt.subplots(figsize=(20,7))\n",
    "plt.axvline(last_date_from_data, color = \"r\")\n",
    "sns.lineplot(x = combined_dfs[\"Date\"], y = combined_dfs[target_var], label = 'AAPL price')"
   ]
  },
  {
   "cell_type": "markdown",
   "id": "359d06cc-78ef-42ff-9ee3-a9edfdd2dd97",
   "metadata": {
    "tags": []
   },
   "source": [
    "# Old code"
   ]
  },
  {
   "cell_type": "code",
   "execution_count": 23,
   "id": "15cc0d53-a94d-44b6-992c-76e66e9ce237",
   "metadata": {},
   "outputs": [],
   "source": [
    "\n",
    "\n",
    "# import numpy as np\n",
    "# from tensorflow.keras.models import Sequential\n",
    "# from tensorflow.keras.layers import LSTM\n",
    "# from tensorflow.keras.layers import Dense, Dropout\n",
    "# import pandas as pd\n",
    "# from matplotlib import pyplot as plt\n",
    "# from sklearn.preprocessing import StandardScaler\n",
    "# import seaborn as sns\n",
    "# #from datetime import datetime\n",
    "\n",
    "# #Read the csv file\n",
    "# df = pd.read_csv('AAPL.csv')\n",
    "# print(df.head()) #7 columns, including the Date. \n",
    "\n",
    "# #Separate dates for future plotting\n",
    "# train_dates = pd.to_datetime(df['Date'])\n",
    "# print(train_dates.tail(15)) #Check last few dates. \n",
    "\n",
    "# #Variables for training\n",
    "# cols = list(df)[1:6]\n",
    "# #Date and volume columns are not used in training. \n",
    "# print(cols) #['Open', 'High', 'Low', 'Close', 'Adj Close']\n",
    "\n",
    "# #New dataframe with only training data - 5 columns\n",
    "# df_for_training = df[cols].astype(float)\n",
    "\n",
    "# # df_for_plot=df_for_training.tail(5000)\n",
    "# # df_for_plot.plot.line()\n",
    "\n",
    "# #LSTM uses sigmoid and tanh that are sensitive to magnitude so values need to be normalized\n",
    "# # normalize the dataset\n",
    "# scaler = StandardScaler()\n",
    "# scaler = scaler.fit(df_for_training)\n",
    "# df_for_training_scaled = scaler.transform(df_for_training)\n",
    "\n",
    "\n",
    "# #As required for LSTM networks, we require to reshape an input data into n_samples x timesteps x n_features. \n",
    "# #In this example, the n_features is 5. We will make timesteps = 14 (past days data used for training). \n",
    "\n",
    "# #Empty lists to be populated using formatted training data\n",
    "# trainX = []\n",
    "# trainY = []\n",
    "\n",
    "# n_future = 1   # Number of days we want to look into the future based on the past days.\n",
    "# n_past = 60  # Number of past days we want to use to predict the future.\n",
    "\n",
    "# #Reformat input data into a shape: (n_samples x timesteps x n_features)\n",
    "# #In my example, my df_for_training_scaled has a shape (12823, 5)\n",
    "# #12823 refers to the number of data points and 5 refers to the columns (multi-variables).\n",
    "# for i in range(n_past, len(df_for_training_scaled) - n_future +1):\n",
    "#     trainX.append(df_for_training_scaled[i - n_past:i, 0:df_for_training.shape[1]])\n",
    "#     trainY.append(df_for_training_scaled[i + n_future - 1:i + n_future, 0])\n",
    "\n",
    "# trainX, trainY = np.array(trainX), np.array(trainY)\n",
    "\n",
    "# print('trainX shape == {}.'.format(trainX.shape))\n",
    "# print('trainY shape == {}.'.format(trainY.shape))\n",
    "\n",
    "# #In my case, trainX has a shape (12809, 14, 5). \n",
    "# #12809 because we are looking back 14 days (12823 - 14 = 12809). \n",
    "# #Remember that we cannot look back 14 days until we get to the 15th day. \n",
    "# #Also, trainY has a shape (12809, 1). Our model only predicts a single value, but \n",
    "# #it needs multiple variables (5 in my example) to make this prediction. \n",
    "# #This is why we can only predict a single day after our training, the day after where our data ends.\n",
    "# #To predict more days in future, we need all the 5 variables which we do not have. \n",
    "# #We need to predict all variables if we want to do that. \n",
    "\n",
    "# # define the Autoencoder model\n",
    "\n",
    "# model = Sequential()\n",
    "# model.add(LSTM(64, activation='relu', input_shape=(trainX.shape[1], trainX.shape[2]), return_sequences=True))\n",
    "# model.add(LSTM(32, activation='relu', return_sequences=False))\n",
    "# model.add(Dropout(0.2))\n",
    "# model.add(Dense(trainY.shape[1]))\n",
    "\n",
    "# model.compile(optimizer='adam', loss='mse')\n",
    "# model.summary()\n",
    "\n",
    "\n",
    "# # fit the model\n",
    "# history = model.fit(trainX, trainY, epochs=5, batch_size=16, validation_split=0.1, verbose=1)\n",
    "\n",
    "# plt.plot(history.history['loss'], label='Training loss')\n",
    "# plt.plot(history.history['val_loss'], label='Validation loss')\n",
    "# plt.legend()\n",
    "\n",
    "# #Predicting...\n",
    "# #Libraries that will help us extract only business days in the US.\n",
    "# #Otherwise our dates would be wrong when we look back (or forward).  \n",
    "# from pandas.tseries.holiday import USFederalHolidayCalendar\n",
    "# from pandas.tseries.offsets import CustomBusinessDay\n",
    "# us_bd = CustomBusinessDay(calendar=USFederalHolidayCalendar())\n",
    "# #Remember that we can only predict one day in future as our model needs 5 variables\n",
    "# #as inputs for prediction. We only have all 5 variables until the last day in our dataset.\n",
    "# n_past = 16\n",
    "# n_days_for_prediction=15  #let us predict past 15 days\n",
    "\n",
    "# predict_period_dates = pd.date_range(list(train_dates)[-n_past], periods=n_days_for_prediction, freq=us_bd).tolist()\n",
    "# print(predict_period_dates)\n",
    "\n",
    "# #Make prediction\n",
    "# prediction = model.predict(trainX[-n_days_for_prediction:]) #shape = (n, 1) where n is the n_days_for_prediction\n",
    "\n",
    "# #Perform inverse transformation to rescale back to original range\n",
    "# #Since we used 5 variables for transform, the inverse expects same dimensions\n",
    "# #Therefore, let us copy our values 5 times and discard them after inverse transform\n",
    "# prediction_copies = np.repeat(prediction, df_for_training.shape[1], axis=-1)\n",
    "# y_pred_future = scaler.inverse_transform(prediction_copies)[:,0]\n",
    "\n",
    "\n",
    "# # Convert timestamp to date\n",
    "# forecast_dates = []\n",
    "# for time_i in predict_period_dates:\n",
    "#     forecast_dates.append(time_i.date())\n",
    "    \n",
    "# df_forecast = pd.DataFrame({'Date':np.array(forecast_dates), 'Open':y_pred_future})\n",
    "# df_forecast['Date']=pd.to_datetime(df_forecast['Date'])\n",
    "\n",
    "\n",
    "# original = df[['Date', 'Open']]\n",
    "# original['Date']=pd.to_datetime(original['Date'])\n",
    "# original = original.loc[original['Date'] >= '2019-11-11']\n",
    "\n",
    "# sns.lineplot(original['Date'], original['Open'])\n",
    "# sns.lineplot(df_forecast['Date'], df_forecast['Open'])"
   ]
  },
  {
   "cell_type": "code",
   "execution_count": null,
   "id": "2bcb7b8a-52d5-4c6b-9544-3df129a1f92a",
   "metadata": {},
   "outputs": [],
   "source": []
  }
 ],
 "metadata": {
  "kernelspec": {
   "display_name": "Python 3 (ipykernel)",
   "language": "python",
   "name": "python3"
  },
  "language_info": {
   "codemirror_mode": {
    "name": "ipython",
    "version": 3
   },
   "file_extension": ".py",
   "mimetype": "text/x-python",
   "name": "python",
   "nbconvert_exporter": "python",
   "pygments_lexer": "ipython3",
   "version": "3.8.11"
  }
 },
 "nbformat": 4,
 "nbformat_minor": 5
}
