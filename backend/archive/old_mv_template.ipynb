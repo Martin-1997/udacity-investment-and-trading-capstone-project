{
 "cells": [
  {
   "cell_type": "code",
   "execution_count": 1,
   "id": "678309a8-8384-4310-89a5-d53ceabd28ff",
   "metadata": {},
   "outputs": [
    {
     "name": "stderr",
     "output_type": "stream",
     "text": [
      "2021-11-14 16:49:21.069772: W tensorflow/stream_executor/platform/default/dso_loader.cc:64] Could not load dynamic library 'libcudart.so.11.0'; dlerror: libcudart.so.11.0: cannot open shared object file: No such file or directory\n",
      "2021-11-14 16:49:21.069792: I tensorflow/stream_executor/cuda/cudart_stub.cc:29] Ignore above cudart dlerror if you do not have a GPU set up on your machine.\n"
     ]
    }
   ],
   "source": [
    "# Imports\n",
    "import numpy as np\n",
    "from tensorflow.keras.models import Sequential\n",
    "from tensorflow.keras.layers import LSTM\n",
    "from tensorflow.keras.layers import Dense, Dropout\n",
    "import pandas as pd\n",
    "from matplotlib import pyplot as plt\n",
    "from sklearn.preprocessing import StandardScaler\n",
    "import seaborn as sns\n",
    "import access_api as api\n",
    "from datetime import datetime, timedelta\n",
    "\n",
    "#Libraries that will help us extract only business days in the US.\n",
    "#Otherwise our dates would be wrong when we look back (or forward).  \n",
    "from pandas.tseries.holiday import USFederalHolidayCalendar\n",
    "from pandas.tseries.offsets import CustomBusinessDay"
   ]
  },
  {
   "cell_type": "code",
   "execution_count": 2,
   "id": "9e643115-545d-4a8d-a189-cea246d9469d",
   "metadata": {},
   "outputs": [],
   "source": [
    "def create_prediction_date_range(dates):\n",
    "    # Check if any of the dates is before the last date the model was trained on. If yes, exclude it\n",
    "    \n",
    "    # Check if any of the dates is a trading day. If yes, exlude it\n",
    "    \n",
    "    \n",
    "    \n",
    "    # Determine prediction period\n",
    "    us_bd = CustomBusinessDay(calendar=USFederalHolidayCalendar())\n",
    "    n_past = 1\n",
    "    dates_to_predict = pd.date_range(list(train_dates)[-n_past], periods=n_days_for_prediction, freq=us_bd).tolist()"
   ]
  },
  {
   "cell_type": "code",
   "execution_count": 3,
   "id": "f150d38f-c5ff-4b2d-8525-08c99da9ca06",
   "metadata": {},
   "outputs": [],
   "source": [
    "def prepare_data(df, target_var):\n",
    "    train_dates = pd.to_datetime(df['Date'])\n",
    "    #Separate dates for future plotting\n",
    "    # train_dates = pd.to_datetime(df['Date'])\n",
    "    #Variables for training\n",
    "    cols = list(df)\n",
    "    print(cols)\n",
    "    cols.remove(\"Date\")\n",
    "    #Date and volume columns are not used in training. \n",
    "    print(cols) #['Open', 'High', 'Low', 'Close', 'Adj Close']\n",
    "\n",
    "    #New dataframe with only training data - 5 columns\n",
    "    df_for_training = df[cols].astype(float)\n",
    "    \n",
    "    # Find out the index of the variable which should be predicted\n",
    "    target_var_x_index = list(df_for_training).index(target_var)\n",
    "    target_var_x_index\n",
    "    \n",
    "    # normalize the dataset\n",
    "    scaler = StandardScaler()\n",
    "    scaler = scaler.fit(df_for_training)\n",
    "    df_for_training_scaled = scaler.transform(df_for_training)\n",
    "    \n",
    "    #As required for LSTM networks, we require to reshape an input data into n_samples x timesteps x n_features. \n",
    "    #In this example, the n_features is 5. We will make timesteps = 14 (past days data used for training). \n",
    "\n",
    "    #Empty lists to be populated using formatted training data\n",
    "    trainX = []\n",
    "    trainY = []\n",
    "\n",
    "    n_future = 1   # Number of days we want to look into the future based on the past days.\n",
    "    n_past = 60  # Number of past days we want to use to predict the future.\n",
    "\n",
    "    #Reformat input data into a shape: (n_samples x timesteps x n_features)\n",
    "    #In my example, my df_for_training_scaled has a shape (12823, 5)\n",
    "    #12823 refers to the number of data points and 5 refers to the columns (multi-variables).\n",
    "    for i in range(n_past, len(df_for_training_scaled) - n_future +1):\n",
    "        # trainX.append(df_for_training_scaled[i - n_past:i, 0:df_for_training.shape[1]])\n",
    "        # trainY.append(df_for_training_scaled[i + n_future - 1:i + n_future, 0])\n",
    "        trainX.append(df_for_training_scaled[i - n_past:i, 0:df_for_training.shape[1]])\n",
    "        trainY.append(df_for_training_scaled[i + n_future - 1:i + n_future, target_var_x_index])\n",
    "\n",
    "\n",
    "    trainX, trainY = np.array(trainX), np.array(trainY)\n",
    "\n",
    "    print('trainX shape == {}.'.format(trainX.shape))\n",
    "    print('trainY shape == {}.'.format(trainY.shape))\n",
    "    scaler_input_shape = df_for_training.shape[1]\n",
    "    return trainX, trainY, scaler, scaler_input_shape, train_dates"
   ]
  },
  {
   "cell_type": "code",
   "execution_count": 4,
   "id": "ec026089-9c83-4e88-bcf6-f9d4e0e13c40",
   "metadata": {},
   "outputs": [],
   "source": [
    "def create_model(input_shape, output_shape):\n",
    "    # define the Autoencoder model\n",
    "    model = Sequential()\n",
    "    model.add(LSTM(64, activation='relu', input_shape=(input_shape[1], input_shape[2]), return_sequences=True))\n",
    "    model.add(LSTM(32, activation='relu', return_sequences=False))\n",
    "    model.add(Dropout(0.2))\n",
    "    model.add(Dense(output_shape[1]))\n",
    "\n",
    "    model.compile(optimizer='adam', loss='mse')\n",
    "    return model"
   ]
  },
  {
   "cell_type": "code",
   "execution_count": 5,
   "id": "675fba6f-634c-4552-a85c-2123593e5f38",
   "metadata": {},
   "outputs": [],
   "source": [
    "def evaluate_model(history):\n",
    "    plt.plot(history.history['loss'], label='Training loss')\n",
    "    plt.plot(history.history['val_loss'], label='Validation loss')\n",
    "    plt.legend()"
   ]
  },
  {
   "cell_type": "code",
   "execution_count": 6,
   "id": "b1b99e34-5752-4a4a-84e6-d0576d594db6",
   "metadata": {},
   "outputs": [],
   "source": [
    "def model_workflow(df, target_var, n_days_for_prediction=21, plot_performance = True):\n",
    "    trainX, trainY, scaler, scaler_input_shape, train_dates = prepare_data(df, target_var)\n",
    "    model = create_model(trainX.shape, trainY.shape)\n",
    "    model.summary()\n",
    "\n",
    "    # fit the model\n",
    "    history = model.fit(trainX, trainY, epochs=25, batch_size=16, validation_split=0.1, verbose=1)\n",
    "\n",
    "    if plot_performance:\n",
    "        evaluate_model(history)\n",
    "\n",
    "    # Determine prediction period\n",
    "    us_bd = CustomBusinessDay(calendar=USFederalHolidayCalendar())\n",
    "    n_past = 1\n",
    "    dates_to_predict = pd.date_range(list(train_dates)[-n_past], periods=n_days_for_prediction, freq=us_bd).tolist()\n",
    "\n",
    "    #Make prediction\n",
    "    prediction = model.predict(trainX[-n_days_for_prediction:]) #shape = (n, 1) where n is the n_days_for_prediction\n",
    "\n",
    "    #Perform inverse transformation to rescale back to original range\n",
    "    #Since we used 5 variables for transform, the inverse expects same dimensions\n",
    "    #Therefore, let us copy our values 5 times and discard them after inverse transform\n",
    "    prediction_copies = np.repeat(prediction, scaler_input_shape, axis=-1)\n",
    "    y_pred_future = scaler.inverse_transform(prediction_copies)[:,target_var_x_index]\n",
    "\n",
    "    # Convert timestamp to date\n",
    "    forecast_dates = []\n",
    "    for time_i in dates_to_predict:\n",
    "        forecast_dates.append(time_i.date())\n",
    "    df_forecast = pd.DataFrame({'Date':np.array(forecast_dates), target_var :y_pred_future})\n",
    "    df_forecast['Date'] = pd.to_datetime(df_forecast['Date'])\n",
    "\n",
    "    original = df[['Date', target_var]].copy()\n",
    "    original['Date'] = pd.to_datetime(original['Date'])\n",
    "    original = original.loc[original['Date'] >= '2021-5-1']\n",
    "\n",
    "    # Store the data in one dataset so that we can plot a continuous line\n",
    "    combined_dfs = original.append(df_forecast)\n",
    "    last_date_from_data = original[\"Date\"][original.index[-1]]\n",
    "    \n",
    "    fig, axes = plt.subplots(figsize=(20,7))\n",
    "    plt.axvline(last_date_from_data, color = \"r\")\n",
    "    sns.lineplot(x = combined_dfs[\"Date\"], y = combined_dfs[target_var], label = target_var + ' price')"
   ]
  },
  {
   "cell_type": "code",
   "execution_count": 7,
   "id": "4a0b5c1d-b390-445b-8574-873949897a5d",
   "metadata": {},
   "outputs": [
    {
     "data": {
      "text/html": [
       "<div>\n",
       "<style scoped>\n",
       "    .dataframe tbody tr th:only-of-type {\n",
       "        vertical-align: middle;\n",
       "    }\n",
       "\n",
       "    .dataframe tbody tr th {\n",
       "        vertical-align: top;\n",
       "    }\n",
       "\n",
       "    .dataframe thead th {\n",
       "        text-align: right;\n",
       "    }\n",
       "</style>\n",
       "<table border=\"1\" class=\"dataframe\">\n",
       "  <thead>\n",
       "    <tr style=\"text-align: right;\">\n",
       "      <th></th>\n",
       "      <th>GOOG</th>\n",
       "      <th>BTC-USD</th>\n",
       "      <th>GC=F</th>\n",
       "      <th>AAPL</th>\n",
       "      <th>Date</th>\n",
       "    </tr>\n",
       "  </thead>\n",
       "  <tbody>\n",
       "    <tr>\n",
       "      <th>1</th>\n",
       "      <td>1299.189941</td>\n",
       "      <td>8757.788086</td>\n",
       "      <td>1455.500000</td>\n",
       "      <td>64.590576</td>\n",
       "      <td>2019-11-11</td>\n",
       "    </tr>\n",
       "    <tr>\n",
       "      <th>2</th>\n",
       "      <td>1298.800049</td>\n",
       "      <td>8815.662109</td>\n",
       "      <td>1452.099976</td>\n",
       "      <td>64.531441</td>\n",
       "      <td>2019-11-12</td>\n",
       "    </tr>\n",
       "    <tr>\n",
       "      <th>3</th>\n",
       "      <td>1298.000000</td>\n",
       "      <td>8808.262695</td>\n",
       "      <td>1461.699951</td>\n",
       "      <td>65.149773</td>\n",
       "      <td>2019-11-13</td>\n",
       "    </tr>\n",
       "    <tr>\n",
       "      <th>4</th>\n",
       "      <td>1311.459961</td>\n",
       "      <td>8708.094727</td>\n",
       "      <td>1471.800049</td>\n",
       "      <td>64.698967</td>\n",
       "      <td>2019-11-14</td>\n",
       "    </tr>\n",
       "    <tr>\n",
       "      <th>5</th>\n",
       "      <td>1334.869995</td>\n",
       "      <td>8491.992188</td>\n",
       "      <td>1467.300049</td>\n",
       "      <td>65.467537</td>\n",
       "      <td>2019-11-15</td>\n",
       "    </tr>\n",
       "  </tbody>\n",
       "</table>\n",
       "</div>"
      ],
      "text/plain": [
       "          GOOG      BTC-USD         GC=F       AAPL       Date\n",
       "1  1299.189941  8757.788086  1455.500000  64.590576 2019-11-11\n",
       "2  1298.800049  8815.662109  1452.099976  64.531441 2019-11-12\n",
       "3  1298.000000  8808.262695  1461.699951  65.149773 2019-11-13\n",
       "4  1311.459961  8708.094727  1471.800049  64.698967 2019-11-14\n",
       "5  1334.869995  8491.992188  1467.300049  65.467537 2019-11-15"
      ]
     },
     "execution_count": 7,
     "metadata": {},
     "output_type": "execute_result"
    }
   ],
   "source": [
    "tickers = [\"BTC-USD\", \"AAPL\", \"GOOG\", \"GC=F\"]\n",
    "start_date = datetime(year = 2019, month = 11, day = 10)\n",
    "end_date = datetime(year = 2021, month = 11, day = 10)\n",
    "df = api.get_adj_close_df(tickers, start_date, end_date)\n",
    "df = df.dropna()\n",
    "df[\"Date\"] = df.index\n",
    "df.index = range(1, df.shape[0] + 1)\n",
    "df.head()"
   ]
  },
  {
   "cell_type": "code",
   "execution_count": 8,
   "id": "fecf2aaf-91a4-4b26-b172-04258ab066eb",
   "metadata": {},
   "outputs": [
    {
     "name": "stdout",
     "output_type": "stream",
     "text": [
      "['GOOG', 'BTC-USD', 'GC=F', 'AAPL', 'Date']\n",
      "['GOOG', 'BTC-USD', 'GC=F', 'AAPL']\n",
      "trainX shape == (437, 60, 4).\n",
      "trainY shape == (437, 1).\n"
     ]
    },
    {
     "name": "stderr",
     "output_type": "stream",
     "text": [
      "2021-11-14 16:49:27.284241: W tensorflow/stream_executor/platform/default/dso_loader.cc:64] Could not load dynamic library 'libcuda.so.1'; dlerror: libcuda.so.1: cannot open shared object file: No such file or directory\n",
      "2021-11-14 16:49:27.284263: W tensorflow/stream_executor/cuda/cuda_driver.cc:269] failed call to cuInit: UNKNOWN ERROR (303)\n",
      "2021-11-14 16:49:27.284280: I tensorflow/stream_executor/cuda/cuda_diagnostics.cc:156] kernel driver does not appear to be running on this host (martin-ThinkPad-T490): /proc/driver/nvidia/version does not exist\n",
      "2021-11-14 16:49:27.284478: I tensorflow/core/platform/cpu_feature_guard.cc:142] This TensorFlow binary is optimized with oneAPI Deep Neural Network Library (oneDNN) to use the following CPU instructions in performance-critical operations:  AVX2 FMA\n",
      "To enable them in other operations, rebuild TensorFlow with the appropriate compiler flags.\n"
     ]
    },
    {
     "name": "stdout",
     "output_type": "stream",
     "text": [
      "Model: \"sequential\"\n",
      "_________________________________________________________________\n",
      "Layer (type)                 Output Shape              Param #   \n",
      "=================================================================\n",
      "lstm (LSTM)                  (None, 60, 64)            17664     \n",
      "_________________________________________________________________\n",
      "lstm_1 (LSTM)                (None, 32)                12416     \n",
      "_________________________________________________________________\n",
      "dropout (Dropout)            (None, 32)                0         \n",
      "_________________________________________________________________\n",
      "dense (Dense)                (None, 1)                 33        \n",
      "=================================================================\n",
      "Total params: 30,113\n",
      "Trainable params: 30,113\n",
      "Non-trainable params: 0\n",
      "_________________________________________________________________\n",
      "Epoch 1/25\n"
     ]
    },
    {
     "name": "stderr",
     "output_type": "stream",
     "text": [
      "2021-11-14 16:49:27.538877: I tensorflow/compiler/mlir/mlir_graph_optimization_pass.cc:185] None of the MLIR Optimization Passes are enabled (registered 2)\n"
     ]
    },
    {
     "name": "stdout",
     "output_type": "stream",
     "text": [
      "25/25 [==============================] - 2s 37ms/step - loss: 0.3810 - val_loss: 0.0692\n",
      "Epoch 2/25\n",
      "25/25 [==============================] - 1s 26ms/step - loss: 0.1579 - val_loss: 0.2149\n",
      "Epoch 3/25\n",
      "25/25 [==============================] - 1s 26ms/step - loss: 0.0835 - val_loss: 0.1984\n",
      "Epoch 4/25\n",
      "25/25 [==============================] - 1s 30ms/step - loss: 0.0768 - val_loss: 0.0301\n",
      "Epoch 5/25\n",
      "25/25 [==============================] - 1s 28ms/step - loss: 0.0586 - val_loss: 0.0331\n",
      "Epoch 6/25\n",
      "25/25 [==============================] - 1s 27ms/step - loss: 0.0633 - val_loss: 0.0372\n",
      "Epoch 7/25\n",
      "25/25 [==============================] - 1s 25ms/step - loss: 0.0599 - val_loss: 0.0683\n",
      "Epoch 8/25\n",
      "25/25 [==============================] - 1s 28ms/step - loss: 0.0494 - val_loss: 0.0320\n",
      "Epoch 9/25\n",
      "25/25 [==============================] - 1s 27ms/step - loss: 0.0475 - val_loss: 0.0432\n",
      "Epoch 10/25\n",
      "25/25 [==============================] - 1s 26ms/step - loss: 0.0487 - val_loss: 0.0560\n",
      "Epoch 11/25\n",
      "25/25 [==============================] - 1s 30ms/step - loss: 0.0494 - val_loss: 0.0355\n",
      "Epoch 12/25\n",
      "25/25 [==============================] - 1s 30ms/step - loss: 0.0477 - val_loss: 0.0255\n",
      "Epoch 13/25\n",
      "25/25 [==============================] - 1s 29ms/step - loss: 0.0445 - val_loss: 0.0438\n",
      "Epoch 14/25\n",
      "25/25 [==============================] - 1s 29ms/step - loss: 0.0389 - val_loss: 0.0335\n",
      "Epoch 15/25\n",
      "25/25 [==============================] - 1s 28ms/step - loss: 0.0402 - val_loss: 0.0508\n",
      "Epoch 16/25\n",
      "25/25 [==============================] - 1s 29ms/step - loss: 0.0407 - val_loss: 0.0373\n",
      "Epoch 17/25\n",
      "25/25 [==============================] - 1s 29ms/step - loss: 0.0350 - val_loss: 0.0422\n",
      "Epoch 18/25\n",
      "25/25 [==============================] - 1s 29ms/step - loss: 0.0367 - val_loss: 0.0312\n",
      "Epoch 19/25\n",
      "25/25 [==============================] - 1s 28ms/step - loss: 0.0419 - val_loss: 0.0442\n",
      "Epoch 20/25\n",
      "25/25 [==============================] - 1s 28ms/step - loss: 0.0417 - val_loss: 0.0544\n",
      "Epoch 21/25\n",
      "25/25 [==============================] - 1s 28ms/step - loss: 0.0440 - val_loss: 0.0445\n",
      "Epoch 22/25\n",
      "25/25 [==============================] - 1s 25ms/step - loss: 0.0381 - val_loss: 0.0413\n",
      "Epoch 23/25\n",
      "25/25 [==============================] - 1s 27ms/step - loss: 0.0342 - val_loss: 0.0601\n",
      "Epoch 24/25\n",
      "25/25 [==============================] - 1s 28ms/step - loss: 0.0378 - val_loss: 0.0481\n",
      "Epoch 25/25\n",
      "25/25 [==============================] - 1s 29ms/step - loss: 0.0311 - val_loss: 0.0610\n"
     ]
    },
    {
     "ename": "NameError",
     "evalue": "name 'target_var_x_index' is not defined",
     "output_type": "error",
     "traceback": [
      "\u001b[0;31m---------------------------------------------------------------------------\u001b[0m",
      "\u001b[0;31mNameError\u001b[0m                                 Traceback (most recent call last)",
      "\u001b[0;32m/tmp/ipykernel_227955/2891296386.py\u001b[0m in \u001b[0;36m<module>\u001b[0;34m\u001b[0m\n\u001b[0;32m----> 1\u001b[0;31m \u001b[0mmodel_workflow\u001b[0m\u001b[0;34m(\u001b[0m\u001b[0mdf\u001b[0m\u001b[0;34m,\u001b[0m \u001b[0mtarget_var\u001b[0m \u001b[0;34m=\u001b[0m \u001b[0;34m\"AAPL\"\u001b[0m\u001b[0;34m)\u001b[0m\u001b[0;34m\u001b[0m\u001b[0;34m\u001b[0m\u001b[0m\n\u001b[0m",
      "\u001b[0;32m/tmp/ipykernel_227955/383733756.py\u001b[0m in \u001b[0;36mmodel_workflow\u001b[0;34m(df, target_var, n_days_for_prediction, plot_performance)\u001b[0m\n\u001b[1;32m     22\u001b[0m     \u001b[0;31m#Therefore, let us copy our values 5 times and discard them after inverse transform\u001b[0m\u001b[0;34m\u001b[0m\u001b[0;34m\u001b[0m\u001b[0;34m\u001b[0m\u001b[0m\n\u001b[1;32m     23\u001b[0m     \u001b[0mprediction_copies\u001b[0m \u001b[0;34m=\u001b[0m \u001b[0mnp\u001b[0m\u001b[0;34m.\u001b[0m\u001b[0mrepeat\u001b[0m\u001b[0;34m(\u001b[0m\u001b[0mprediction\u001b[0m\u001b[0;34m,\u001b[0m \u001b[0mscaler_input_shape\u001b[0m\u001b[0;34m,\u001b[0m \u001b[0maxis\u001b[0m\u001b[0;34m=\u001b[0m\u001b[0;34m-\u001b[0m\u001b[0;36m1\u001b[0m\u001b[0;34m)\u001b[0m\u001b[0;34m\u001b[0m\u001b[0;34m\u001b[0m\u001b[0m\n\u001b[0;32m---> 24\u001b[0;31m     \u001b[0my_pred_future\u001b[0m \u001b[0;34m=\u001b[0m \u001b[0mscaler\u001b[0m\u001b[0;34m.\u001b[0m\u001b[0minverse_transform\u001b[0m\u001b[0;34m(\u001b[0m\u001b[0mprediction_copies\u001b[0m\u001b[0;34m)\u001b[0m\u001b[0;34m[\u001b[0m\u001b[0;34m:\u001b[0m\u001b[0;34m,\u001b[0m\u001b[0mtarget_var_x_index\u001b[0m\u001b[0;34m]\u001b[0m\u001b[0;34m\u001b[0m\u001b[0;34m\u001b[0m\u001b[0m\n\u001b[0m\u001b[1;32m     25\u001b[0m \u001b[0;34m\u001b[0m\u001b[0m\n\u001b[1;32m     26\u001b[0m     \u001b[0;31m# Convert timestamp to date\u001b[0m\u001b[0;34m\u001b[0m\u001b[0;34m\u001b[0m\u001b[0;34m\u001b[0m\u001b[0m\n",
      "\u001b[0;31mNameError\u001b[0m: name 'target_var_x_index' is not defined"
     ]
    },
    {
     "data": {
      "image/png": "[encoded data removed]",
      "text/plain": [
       "<Figure size 432x288 with 1 Axes>"
      ]
     },
     "metadata": {
      "needs_background": "light"
     },
     "output_type": "display_data"
    }
   ],
   "source": [
    "model_workflow(df, target_var = \"AAPL\")"
   ]
  },
  {
   "cell_type": "code",
   "execution_count": null,
   "id": "ecf52e5c-f127-4dd7-bd1d-57449a57d677",
   "metadata": {},
   "outputs": [],
   "source": [
    "ticker = \"AAPL\"\n",
    "start_date = datetime(year = 2019, month = 11, day = 10)\n",
    "end_date = datetime(year = 2021, month = 11, day = 10)\n",
    "df_AAPL = api.get_stock_data(ticker, start_date, end_date)\n",
    "df_AAPL = df_AAPL.dropna()\n",
    "df_AAPL[\"Date\"] = df_AAPL.index\n",
    "df_AAPL.index = range(1, df_AAPL.shape[0] + 1)\n",
    "model_workflow(df_AAPL, target_var = \"Adj Close\" )"
   ]
  },
  {
   "cell_type": "code",
   "execution_count": null,
   "id": "08157054-4584-4300-9c2a-2c50f655fab2",
   "metadata": {},
   "outputs": [],
   "source": []
  },
  {
   "cell_type": "code",
   "execution_count": null,
   "id": "6d23669d-c446-4359-b6cc-69815a59f2f8",
   "metadata": {},
   "outputs": [],
   "source": []
  },
  {
   "cell_type": "code",
   "execution_count": null,
   "id": "7496e500-09fb-4313-961b-e7c98e5da98c",
   "metadata": {},
   "outputs": [],
   "source": []
  }
 ],
 "metadata": {
  "kernelspec": {
   "display_name": "Python 3 (ipykernel)",
   "language": "python",
   "name": "python3"
  },
  "language_info": {
   "codemirror_mode": {
    "name": "ipython",
    "version": 3
   },
   "file_extension": ".py",
   "mimetype": "text/x-python",
   "name": "python",
   "nbconvert_exporter": "python",
   "pygments_lexer": "ipython3",
   "version": "3.8.11"
  }
 },
 "nbformat": 4,
 "nbformat_minor": 5
}
