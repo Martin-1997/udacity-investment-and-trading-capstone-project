{
 "cells": [
  {
   "cell_type": "code",
   "execution_count": 1,
   "id": "ae2f8d9f-430a-48ee-b4ea-074425356596",
   "metadata": {},
   "outputs": [],
   "source": [
    "# https://youtu.be/tepxdcepTbY"
   ]
  },
  {
   "cell_type": "code",
   "execution_count": 2,
   "id": "678309a8-8384-4310-89a5-d53ceabd28ff",
   "metadata": {},
   "outputs": [
    {
     "name": "stderr",
     "output_type": "stream",
     "text": [
      "2021-11-28 18:54:04.948754: W tensorflow/stream_executor/platform/default/dso_loader.cc:64] Could not load dynamic library 'libcudart.so.11.0'; dlerror: libcudart.so.11.0: cannot open shared object file: No such file or directory\n",
      "2021-11-28 18:54:04.948776: I tensorflow/stream_executor/cuda/cudart_stub.cc:29] Ignore above cudart dlerror if you do not have a GPU set up on your machine.\n"
     ]
    }
   ],
   "source": [
    "# Imports\n",
    "import numpy as np\n",
    "from tensorflow.keras.models import Sequential\n",
    "from tensorflow.keras.layers import LSTM\n",
    "from tensorflow.keras.layers import Dense, Dropout\n",
    "import pandas as pd\n",
    "from matplotlib import pyplot as plt\n",
    "from sklearn.preprocessing import StandardScaler\n",
    "import seaborn as sns\n",
    "import access_api as api\n",
    "from datetime import datetime, timedelta"
   ]
  },
  {
   "cell_type": "code",
   "execution_count": 3,
   "id": "b8dbf60e-602f-492d-a0b3-753266ba02c1",
   "metadata": {},
   "outputs": [],
   "source": [
    "tickers = [\"BTC-USD\", \"AAPL\", \"GOOG\", \"GC=F\"]\n",
    "start_date = datetime(year = 2019, month = 11, day = 10)\n",
    "end_date = datetime(year = 2021, month = 11, day = 10)\n",
    "df = api.get_adj_close_df(tickers, start_date, end_date)"
   ]
  },
  {
   "cell_type": "code",
   "execution_count": 4,
   "id": "cb533485-5910-4ea5-9b5b-9c9376bb77fa",
   "metadata": {},
   "outputs": [
    {
     "data": {
      "text/html": [
       "<div>\n",
       "<style scoped>\n",
       "    .dataframe tbody tr th:only-of-type {\n",
       "        vertical-align: middle;\n",
       "    }\n",
       "\n",
       "    .dataframe tbody tr th {\n",
       "        vertical-align: top;\n",
       "    }\n",
       "\n",
       "    .dataframe thead th {\n",
       "        text-align: right;\n",
       "    }\n",
       "</style>\n",
       "<table border=\"1\" class=\"dataframe\">\n",
       "  <thead>\n",
       "    <tr style=\"text-align: right;\">\n",
       "      <th></th>\n",
       "      <th>GOOG</th>\n",
       "      <th>GC=F</th>\n",
       "      <th>BTC-USD</th>\n",
       "      <th>AAPL</th>\n",
       "      <th>Date</th>\n",
       "    </tr>\n",
       "  </thead>\n",
       "  <tbody>\n",
       "    <tr>\n",
       "      <th>1</th>\n",
       "      <td>1299.189941</td>\n",
       "      <td>1455.500000</td>\n",
       "      <td>8757.788086</td>\n",
       "      <td>64.590576</td>\n",
       "      <td>2019-11-11</td>\n",
       "    </tr>\n",
       "    <tr>\n",
       "      <th>2</th>\n",
       "      <td>1298.800049</td>\n",
       "      <td>1452.099976</td>\n",
       "      <td>8815.662109</td>\n",
       "      <td>64.531441</td>\n",
       "      <td>2019-11-12</td>\n",
       "    </tr>\n",
       "    <tr>\n",
       "      <th>3</th>\n",
       "      <td>1298.000000</td>\n",
       "      <td>1461.699951</td>\n",
       "      <td>8808.262695</td>\n",
       "      <td>65.149773</td>\n",
       "      <td>2019-11-13</td>\n",
       "    </tr>\n",
       "    <tr>\n",
       "      <th>4</th>\n",
       "      <td>1311.459961</td>\n",
       "      <td>1471.800049</td>\n",
       "      <td>8708.094727</td>\n",
       "      <td>64.698967</td>\n",
       "      <td>2019-11-14</td>\n",
       "    </tr>\n",
       "    <tr>\n",
       "      <th>5</th>\n",
       "      <td>1334.869995</td>\n",
       "      <td>1467.300049</td>\n",
       "      <td>8491.992188</td>\n",
       "      <td>65.467552</td>\n",
       "      <td>2019-11-15</td>\n",
       "    </tr>\n",
       "    <tr>\n",
       "      <th>...</th>\n",
       "      <td>...</td>\n",
       "      <td>...</td>\n",
       "      <td>...</td>\n",
       "      <td>...</td>\n",
       "      <td>...</td>\n",
       "    </tr>\n",
       "    <tr>\n",
       "      <th>493</th>\n",
       "      <td>2973.659912</td>\n",
       "      <td>1793.000000</td>\n",
       "      <td>61452.230469</td>\n",
       "      <td>150.740005</td>\n",
       "      <td>2021-11-04</td>\n",
       "    </tr>\n",
       "    <tr>\n",
       "      <th>494</th>\n",
       "      <td>2984.820068</td>\n",
       "      <td>1816.400024</td>\n",
       "      <td>61125.675781</td>\n",
       "      <td>151.279999</td>\n",
       "      <td>2021-11-05</td>\n",
       "    </tr>\n",
       "    <tr>\n",
       "      <th>495</th>\n",
       "      <td>2987.030029</td>\n",
       "      <td>1827.400024</td>\n",
       "      <td>67566.828125</td>\n",
       "      <td>150.440002</td>\n",
       "      <td>2021-11-08</td>\n",
       "    </tr>\n",
       "    <tr>\n",
       "      <th>496</th>\n",
       "      <td>2984.969971</td>\n",
       "      <td>1830.199951</td>\n",
       "      <td>66971.828125</td>\n",
       "      <td>150.809998</td>\n",
       "      <td>2021-11-09</td>\n",
       "    </tr>\n",
       "    <tr>\n",
       "      <th>497</th>\n",
       "      <td>2932.520020</td>\n",
       "      <td>1847.599976</td>\n",
       "      <td>64995.230469</td>\n",
       "      <td>147.919998</td>\n",
       "      <td>2021-11-10</td>\n",
       "    </tr>\n",
       "  </tbody>\n",
       "</table>\n",
       "<p>497 rows × 5 columns</p>\n",
       "</div>"
      ],
      "text/plain": [
       "            GOOG         GC=F       BTC-USD        AAPL       Date\n",
       "1    1299.189941  1455.500000   8757.788086   64.590576 2019-11-11\n",
       "2    1298.800049  1452.099976   8815.662109   64.531441 2019-11-12\n",
       "3    1298.000000  1461.699951   8808.262695   65.149773 2019-11-13\n",
       "4    1311.459961  1471.800049   8708.094727   64.698967 2019-11-14\n",
       "5    1334.869995  1467.300049   8491.992188   65.467552 2019-11-15\n",
       "..           ...          ...           ...         ...        ...\n",
       "493  2973.659912  1793.000000  61452.230469  150.740005 2021-11-04\n",
       "494  2984.820068  1816.400024  61125.675781  151.279999 2021-11-05\n",
       "495  2987.030029  1827.400024  67566.828125  150.440002 2021-11-08\n",
       "496  2984.969971  1830.199951  66971.828125  150.809998 2021-11-09\n",
       "497  2932.520020  1847.599976  64995.230469  147.919998 2021-11-10\n",
       "\n",
       "[497 rows x 5 columns]"
      ]
     },
     "execution_count": 4,
     "metadata": {},
     "output_type": "execute_result"
    }
   ],
   "source": [
    "df = df.dropna()\n",
    "df[\"Date\"] = df.index\n",
    "df.index = range(1, df.shape[0] + 1)\n",
    "df"
   ]
  },
  {
   "cell_type": "code",
   "execution_count": 5,
   "id": "7e0356a3-1b52-4d64-a64f-1f8937bc81a3",
   "metadata": {},
   "outputs": [],
   "source": [
    "target_var = \"AAPL\""
   ]
  },
  {
   "cell_type": "code",
   "execution_count": 6,
   "id": "1015f473-7873-49f5-9b57-91db0356f7cd",
   "metadata": {},
   "outputs": [
    {
     "name": "stdout",
     "output_type": "stream",
     "text": [
      "['GOOG', 'GC=F', 'BTC-USD', 'AAPL']\n"
     ]
    }
   ],
   "source": [
    "#Separate dates for future plotting\n",
    "train_dates = pd.to_datetime(df['Date'])\n",
    "# print(train_dates.tail(15)) #Check last few dates. \n",
    "\n",
    "#Variables for training\n",
    "cols = list(df)\n",
    "cols.remove(\"Date\")\n",
    "#Date and volume columns are not used in training. \n",
    "print(cols) #['Open', 'High', 'Low', 'Close', 'Adj Close']\n",
    "\n",
    "#New dataframe with only training data - 5 columns\n",
    "df_for_training = df[cols].astype(float)\n",
    "\n",
    "# df_for_plot=df_for_training.tail(5000)\n",
    "# df_for_plot.plot.line()"
   ]
  },
  {
   "cell_type": "code",
   "execution_count": 7,
   "id": "6ce422d6-a6ac-4d72-b610-c338c3e7e43c",
   "metadata": {},
   "outputs": [
    {
     "data": {
      "text/plain": [
       "3"
      ]
     },
     "execution_count": 7,
     "metadata": {},
     "output_type": "execute_result"
    }
   ],
   "source": [
    "target_var_x_index = list(df_for_training).index(target_var)\n",
    "target_var_x_index"
   ]
  },
  {
   "cell_type": "code",
   "execution_count": 8,
   "id": "1f8d3aa6-97ac-4c27-a292-d592c624d71e",
   "metadata": {},
   "outputs": [],
   "source": [
    "#LSTM uses sigmoid and tanh that are sensitive to magnitude so values need to be normalized\n",
    "# normalize the dataset\n",
    "scaler = StandardScaler()\n",
    "scaler = scaler.fit(df_for_training)\n",
    "df_for_training_scaled = scaler.transform(df_for_training)"
   ]
  },
  {
   "cell_type": "code",
   "execution_count": 9,
   "id": "6233d747-9cc9-4a91-b568-11c60bc13dc5",
   "metadata": {},
   "outputs": [
    {
     "name": "stdout",
     "output_type": "stream",
     "text": [
      "trainX shape == (437, 60, 4).\n",
      "trainY shape == (437, 1).\n"
     ]
    }
   ],
   "source": [
    "#As required for LSTM networks, we require to reshape an input data into n_samples x timesteps x n_features. \n",
    "#In this example, the n_features is 5. We will make timesteps = 14 (past days data used for training). \n",
    "\n",
    "#Empty lists to be populated using formatted training data\n",
    "trainX = []\n",
    "trainY = []\n",
    "\n",
    "n_future = 1   # Number of days we want to look into the future based on the past days.\n",
    "n_past = 60  # Number of past days we want to use to predict the future.\n",
    "\n",
    "#Reformat input data into a shape: (n_samples x timesteps x n_features)\n",
    "#In my example, my df_for_training_scaled has a shape (12823, 5)\n",
    "#12823 refers to the number of data points and 5 refers to the columns (multi-variables).\n",
    "for i in range(n_past, len(df_for_training_scaled) - n_future +1):\n",
    "    # trainX.append(df_for_training_scaled[i - n_past:i, 0:df_for_training.shape[1]])\n",
    "    # trainY.append(df_for_training_scaled[i + n_future - 1:i + n_future, 0])\n",
    "    trainX.append(df_for_training_scaled[i - n_past:i, 0:df_for_training.shape[1]])\n",
    "    trainY.append(df_for_training_scaled[i + n_future - 1:i + n_future, target_var_x_index])\n",
    "\n",
    "\n",
    "trainX, trainY = np.array(trainX), np.array(trainY)\n",
    "\n",
    "print('trainX shape == {}.'.format(trainX.shape))\n",
    "print('trainY shape == {}.'.format(trainY.shape))\n",
    "\n",
    "#In my case, trainX has a shape (12809, 14, 5). \n",
    "#12809 because we are looking back 14 days (12823 - 14 = 12809). \n",
    "#Remember that we cannot look back 14 days until we get to the 15th day. \n",
    "#Also, trainY has a shape (12809, 1). Our model only predicts a single value, but \n",
    "#it needs multiple variables (5 in my example) to make this prediction. \n",
    "#This is why we can only predict a single day after our training, the day after where our data ends.\n",
    "#To predict more days in future, we need all the 5 variables which we do not have. \n",
    "#We need to predict all variables if we want to do that. "
   ]
  },
  {
   "cell_type": "code",
   "execution_count": 10,
   "id": "b1b99e34-5752-4a4a-84e6-d0576d594db6",
   "metadata": {},
   "outputs": [
    {
     "name": "stderr",
     "output_type": "stream",
     "text": [
      "2021-11-28 18:54:13.494913: W tensorflow/stream_executor/platform/default/dso_loader.cc:64] Could not load dynamic library 'libcuda.so.1'; dlerror: libcuda.so.1: cannot open shared object file: No such file or directory\n",
      "2021-11-28 18:54:13.494936: W tensorflow/stream_executor/cuda/cuda_driver.cc:269] failed call to cuInit: UNKNOWN ERROR (303)\n",
      "2021-11-28 18:54:13.494954: I tensorflow/stream_executor/cuda/cuda_diagnostics.cc:156] kernel driver does not appear to be running on this host (martin-ThinkPad-T490): /proc/driver/nvidia/version does not exist\n",
      "2021-11-28 18:54:13.495221: I tensorflow/core/platform/cpu_feature_guard.cc:142] This TensorFlow binary is optimized with oneAPI Deep Neural Network Library (oneDNN) to use the following CPU instructions in performance-critical operations:  AVX2 FMA\n",
      "To enable them in other operations, rebuild TensorFlow with the appropriate compiler flags.\n"
     ]
    },
    {
     "name": "stdout",
     "output_type": "stream",
     "text": [
      "Model: \"sequential\"\n",
      "_________________________________________________________________\n",
      "Layer (type)                 Output Shape              Param #   \n",
      "=================================================================\n",
      "lstm (LSTM)                  (None, 60, 64)            17664     \n",
      "_________________________________________________________________\n",
      "lstm_1 (LSTM)                (None, 32)                12416     \n",
      "_________________________________________________________________\n",
      "dropout (Dropout)            (None, 32)                0         \n",
      "_________________________________________________________________\n",
      "dense (Dense)                (None, 1)                 33        \n",
      "=================================================================\n",
      "Total params: 30,113\n",
      "Trainable params: 30,113\n",
      "Non-trainable params: 0\n",
      "_________________________________________________________________\n"
     ]
    }
   ],
   "source": [
    "# define the Autoencoder model\n",
    "model = Sequential()\n",
    "model.add(LSTM(64, activation='relu', input_shape=(trainX.shape[1], trainX.shape[2]), return_sequences=True))\n",
    "model.add(LSTM(32, activation='relu', return_sequences=False))\n",
    "model.add(Dropout(0.2))\n",
    "model.add(Dense(trainY.shape[1]))\n",
    "\n",
    "model.compile(optimizer='adam', loss='mse')\n",
    "model.summary()"
   ]
  },
  {
   "cell_type": "code",
   "execution_count": 11,
   "id": "eb9e3e77-0641-41be-91cd-4bf388778a6f",
   "metadata": {},
   "outputs": [
    {
     "name": "stdout",
     "output_type": "stream",
     "text": [
      "Epoch 1/25\n"
     ]
    },
    {
     "name": "stderr",
     "output_type": "stream",
     "text": [
      "2021-11-28 18:54:13.830063: I tensorflow/compiler/mlir/mlir_graph_optimization_pass.cc:185] None of the MLIR Optimization Passes are enabled (registered 2)\n"
     ]
    },
    {
     "name": "stdout",
     "output_type": "stream",
     "text": [
      "25/25 [==============================] - 3s 39ms/step - loss: 0.2984 - val_loss: 0.0220\n",
      "Epoch 2/25\n",
      "25/25 [==============================] - 1s 33ms/step - loss: 0.0679 - val_loss: 0.0607\n",
      "Epoch 3/25\n",
      "25/25 [==============================] - 1s 36ms/step - loss: 0.0555 - val_loss: 0.0380\n",
      "Epoch 4/25\n",
      "25/25 [==============================] - 1s 36ms/step - loss: 0.0527 - val_loss: 0.0374\n",
      "Epoch 5/25\n",
      "25/25 [==============================] - 1s 38ms/step - loss: 0.0558 - val_loss: 0.0434\n",
      "Epoch 6/25\n",
      "25/25 [==============================] - 1s 37ms/step - loss: 0.0548 - val_loss: 0.0443\n",
      "Epoch 7/25\n",
      "25/25 [==============================] - 1s 54ms/step - loss: 0.0480 - val_loss: 0.0371\n",
      "Epoch 8/25\n",
      "25/25 [==============================] - 2s 66ms/step - loss: 0.0381 - val_loss: 0.0417\n",
      "Epoch 9/25\n",
      "25/25 [==============================] - 2s 69ms/step - loss: 0.0442 - val_loss: 0.0415\n",
      "Epoch 10/25\n",
      "25/25 [==============================] - 2s 66ms/step - loss: 0.0386 - val_loss: 0.0328\n",
      "Epoch 11/25\n",
      "25/25 [==============================] - 2s 65ms/step - loss: 0.0463 - val_loss: 0.0322\n",
      "Epoch 12/25\n",
      "25/25 [==============================] - 2s 69ms/step - loss: 0.0334 - val_loss: 0.0347\n",
      "Epoch 13/25\n",
      "25/25 [==============================] - 2s 68ms/step - loss: 0.0468 - val_loss: 0.0385\n",
      "Epoch 14/25\n",
      "25/25 [==============================] - 2s 70ms/step - loss: 0.0411 - val_loss: 0.0384\n",
      "Epoch 15/25\n",
      "25/25 [==============================] - 2s 66ms/step - loss: 0.0481 - val_loss: 0.0289\n",
      "Epoch 16/25\n",
      "25/25 [==============================] - 2s 68ms/step - loss: 0.0470 - val_loss: 0.0290\n",
      "Epoch 17/25\n",
      "25/25 [==============================] - 2s 66ms/step - loss: 0.0420 - val_loss: 0.0264\n",
      "Epoch 18/25\n",
      "25/25 [==============================] - 2s 74ms/step - loss: 0.0381 - val_loss: 0.0744\n",
      "Epoch 19/25\n",
      "25/25 [==============================] - 2s 67ms/step - loss: 0.0361 - val_loss: 0.0292\n",
      "Epoch 20/25\n",
      "25/25 [==============================] - 2s 63ms/step - loss: 0.0392 - val_loss: 0.0275\n",
      "Epoch 21/25\n",
      "25/25 [==============================] - 1s 41ms/step - loss: 0.0368 - val_loss: 0.0283\n",
      "Epoch 22/25\n",
      "25/25 [==============================] - 1s 45ms/step - loss: 0.0425 - val_loss: 0.0331\n",
      "Epoch 23/25\n",
      "25/25 [==============================] - 1s 46ms/step - loss: 0.0369 - val_loss: 0.0589\n",
      "Epoch 24/25\n",
      "25/25 [==============================] - 2s 61ms/step - loss: 0.0369 - val_loss: 0.0282\n",
      "Epoch 25/25\n",
      "25/25 [==============================] - 1s 48ms/step - loss: 0.0347 - val_loss: 0.0279\n"
     ]
    }
   ],
   "source": [
    "# fit the model\n",
    "history = model.fit(trainX, trainY, epochs=25, batch_size=16, validation_split=0.1, verbose=1)"
   ]
  },
  {
   "cell_type": "code",
   "execution_count": 12,
   "id": "0cf04d16-4d6d-4180-af01-6b1b807cdab4",
   "metadata": {},
   "outputs": [
    {
     "data": {
      "text/plain": [
       "<matplotlib.legend.Legend at 0x7fed5a836d30>"
      ]
     },
     "execution_count": 12,
     "metadata": {},
     "output_type": "execute_result"
    },
    {
     "data": {
      "image/png": "[encoded data removed]",
      "text/plain": [
       "<Figure size 432x288 with 1 Axes>"
      ]
     },
     "metadata": {
      "needs_background": "light"
     },
     "output_type": "display_data"
    }
   ],
   "source": [
    "plt.plot(history.history['loss'], label='Training loss')\n",
    "plt.plot(history.history['val_loss'], label='Validation loss')\n",
    "plt.legend()"
   ]
  },
  {
   "cell_type": "code",
   "execution_count": 13,
   "id": "0c339ecb-171b-4d29-a686-6bfa5954d985",
   "metadata": {},
   "outputs": [],
   "source": [
    "#Predicting...\n",
    "#Libraries that will help us extract only business days in the US.\n",
    "#Otherwise our dates would be wrong when we look back (or forward).  \n",
    "from pandas.tseries.holiday import USFederalHolidayCalendar\n",
    "from pandas.tseries.offsets import CustomBusinessDay\n",
    "us_bd = CustomBusinessDay(calendar=USFederalHolidayCalendar())"
   ]
  },
  {
   "cell_type": "code",
   "execution_count": 14,
   "id": "fecf2aaf-91a4-4b26-b172-04258ab066eb",
   "metadata": {},
   "outputs": [],
   "source": [
    "#Remember that we can only predict one day in future as our model needs 5 variables\n",
    "#as inputs for prediction. We only have all 5 variables until the last day in our dataset.\n",
    "n_past = 1\n",
    "n_days_for_prediction=21  #let us predict past 15 days"
   ]
  },
  {
   "cell_type": "code",
   "execution_count": 15,
   "id": "ecf52e5c-f127-4dd7-bd1d-57449a57d677",
   "metadata": {},
   "outputs": [],
   "source": [
    "dates_to_predict = pd.date_range(list(train_dates)[-n_past], periods=n_days_for_prediction, freq=us_bd).tolist()\n",
    "# print(dates_to_predict)"
   ]
  },
  {
   "cell_type": "code",
   "execution_count": 16,
   "id": "9abb94a7-cb26-483b-bb35-0daf8502e705",
   "metadata": {},
   "outputs": [],
   "source": [
    "#Make prediction\n",
    "prediction = model.predict(trainX[-n_days_for_prediction:]) #shape = (n, 1) where n is the n_days_for_prediction\n",
    "# prediction"
   ]
  },
  {
   "cell_type": "code",
   "execution_count": 17,
   "id": "305a5c2c-8458-4d74-9be1-5fdf9508721f",
   "metadata": {},
   "outputs": [],
   "source": [
    "#Perform inverse transformation to rescale back to original range\n",
    "#Since we used 5 variables for transform, the inverse expects same dimensions\n",
    "#Therefore, let us copy our values 5 times and discard them after inverse transform\n",
    "prediction_copies = np.repeat(prediction, df_for_training.shape[1], axis=-1)\n",
    "y_pred_future = scaler.inverse_transform(prediction_copies)[:,target_var_x_index]"
   ]
  },
  {
   "cell_type": "code",
   "execution_count": 18,
   "id": "69581572-d326-4993-a221-9da3d7622516",
   "metadata": {},
   "outputs": [],
   "source": [
    "# Convert timestamp to date\n",
    "forecast_dates = []\n",
    "for time_i in dates_to_predict:\n",
    "    forecast_dates.append(time_i.date())\n",
    "df_forecast = pd.DataFrame({'Date':np.array(forecast_dates), target_var :y_pred_future})\n",
    "df_forecast['Date'] = pd.to_datetime(df_forecast['Date'])"
   ]
  },
  {
   "cell_type": "code",
   "execution_count": 19,
   "id": "9a3c03dc-aa14-48b5-89b8-fbb328e2f297",
   "metadata": {},
   "outputs": [],
   "source": [
    "original = df[['Date', target_var]].copy()\n",
    "original['Date'] = pd.to_datetime(original['Date'])\n",
    "original = original.loc[original['Date'] >= '2021-5-1']"
   ]
  },
  {
   "cell_type": "code",
   "execution_count": 20,
   "id": "33d77694-7512-4502-8373-0b75020ed401",
   "metadata": {},
   "outputs": [],
   "source": [
    "# sns.lineplot(x = original['Date'], y = original['Adj Close'])\n",
    "# sns.lineplot(x = df_forecast['Date'], y = df_forecast['Adj Close'])"
   ]
  },
  {
   "cell_type": "code",
   "execution_count": null,
   "id": "08157054-4584-4300-9c2a-2c50f655fab2",
   "metadata": {},
   "outputs": [],
   "source": [
    "# Store the data in one dataset so that we can plot a continuous line\n",
    "combined_dfs = original.append(df_forecast)\n",
    "last_date_from_data = original[\"Date\"][original.index[-1]]"
   ]
  },
  {
   "cell_type": "code",
   "execution_count": 22,
   "id": "c38adf6f-49df-4ebd-9720-3c5ba3eccb98",
   "metadata": {},
   "outputs": [
    {
     "data": {
      "text/html": [
       "<div>\n",
       "<style scoped>\n",
       "    .dataframe tbody tr th:only-of-type {\n",
       "        vertical-align: middle;\n",
       "    }\n",
       "\n",
       "    .dataframe tbody tr th {\n",
       "        vertical-align: top;\n",
       "    }\n",
       "\n",
       "    .dataframe thead th {\n",
       "        text-align: right;\n",
       "    }\n",
       "</style>\n",
       "<table border=\"1\" class=\"dataframe\">\n",
       "  <thead>\n",
       "    <tr style=\"text-align: right;\">\n",
       "      <th></th>\n",
       "      <th>Date</th>\n",
       "      <th>AAPL</th>\n",
       "    </tr>\n",
       "  </thead>\n",
       "  <tbody>\n",
       "    <tr>\n",
       "      <th>363</th>\n",
       "      <td>2021-05-03</td>\n",
       "      <td>131.924759</td>\n",
       "    </tr>\n",
       "    <tr>\n",
       "      <th>364</th>\n",
       "      <td>2021-05-04</td>\n",
       "      <td>127.256538</td>\n",
       "    </tr>\n",
       "    <tr>\n",
       "      <th>365</th>\n",
       "      <td>2021-05-05</td>\n",
       "      <td>127.505386</td>\n",
       "    </tr>\n",
       "    <tr>\n",
       "      <th>366</th>\n",
       "      <td>2021-05-06</td>\n",
       "      <td>129.137756</td>\n",
       "    </tr>\n",
       "    <tr>\n",
       "      <th>367</th>\n",
       "      <td>2021-05-07</td>\n",
       "      <td>129.825745</td>\n",
       "    </tr>\n",
       "    <tr>\n",
       "      <th>...</th>\n",
       "      <td>...</td>\n",
       "      <td>...</td>\n",
       "    </tr>\n",
       "    <tr>\n",
       "      <th>16</th>\n",
       "      <td>2021-12-06</td>\n",
       "      <td>147.640396</td>\n",
       "    </tr>\n",
       "    <tr>\n",
       "      <th>17</th>\n",
       "      <td>2021-12-07</td>\n",
       "      <td>148.123337</td>\n",
       "    </tr>\n",
       "    <tr>\n",
       "      <th>18</th>\n",
       "      <td>2021-12-08</td>\n",
       "      <td>148.637863</td>\n",
       "    </tr>\n",
       "    <tr>\n",
       "      <th>19</th>\n",
       "      <td>2021-12-09</td>\n",
       "      <td>148.878082</td>\n",
       "    </tr>\n",
       "    <tr>\n",
       "      <th>20</th>\n",
       "      <td>2021-12-10</td>\n",
       "      <td>148.993195</td>\n",
       "    </tr>\n",
       "  </tbody>\n",
       "</table>\n",
       "<p>156 rows × 2 columns</p>\n",
       "</div>"
      ],
      "text/plain": [
       "          Date        AAPL\n",
       "363 2021-05-03  131.924759\n",
       "364 2021-05-04  127.256538\n",
       "365 2021-05-05  127.505386\n",
       "366 2021-05-06  129.137756\n",
       "367 2021-05-07  129.825745\n",
       "..         ...         ...\n",
       "16  2021-12-06  147.640396\n",
       "17  2021-12-07  148.123337\n",
       "18  2021-12-08  148.637863\n",
       "19  2021-12-09  148.878082\n",
       "20  2021-12-10  148.993195\n",
       "\n",
       "[156 rows x 2 columns]"
      ]
     },
     "execution_count": 22,
     "metadata": {},
     "output_type": "execute_result"
    }
   ],
   "source": [
    "combined_dfs"
   ]
  },
  {
   "cell_type": "code",
   "execution_count": null,
   "id": "199a4dc0-d188-42bb-b94b-30a00833308c",
   "metadata": {},
   "outputs": [],
   "source": []
  },
  {
   "cell_type": "code",
   "execution_count": 23,
   "id": "93ce961f-ce7c-4b9d-94b6-a24d2a155a44",
   "metadata": {},
   "outputs": [],
   "source": [
    "# import matplotlib.dates as mdates\n",
    "# years = mdates.YearLocator()   # every year\n",
    "# months = mdates.MonthLocator()  # every month\n",
    "# years_fmt = mdates.DateFormatter('%Y-%m') #This is a format. Will be clear in Screenshot\n",
    "\n",
    "# axes.xaxis.set_major_locator(months)\n",
    "# axes.xaxis.set_major_formatter(years_fmt)\n",
    "# axes.xaxis.set_minor_locator(months)"
   ]
  },
  {
   "cell_type": "code",
   "execution_count": 24,
   "id": "ffc2621d-66ed-4127-84bb-b4a96a74d4f5",
   "metadata": {},
   "outputs": [
    {
     "data": {
      "text/plain": [
       "<AxesSubplot:xlabel='Date', ylabel='AAPL'>"
      ]
     },
     "execution_count": 24,
     "metadata": {},
     "output_type": "execute_result"
    },
    {
     "data": {
      "image/png": "[encoded data removed]",
      "text/plain": [
       "<Figure size 1440x504 with 1 Axes>"
      ]
     },
     "metadata": {
      "needs_background": "light"
     },
     "output_type": "display_data"
    }
   ],
   "source": [
    "fig, axes = plt.subplots(figsize=(20,7))\n",
    "plt.axvline(last_date_from_data, color = \"r\")\n",
    "sns.lineplot(x = combined_dfs[\"Date\"], y = combined_dfs[target_var], label = target_var + ' price')"
   ]
  },
  {
   "cell_type": "markdown",
   "id": "359d06cc-78ef-42ff-9ee3-a9edfdd2dd97",
   "metadata": {
    "tags": []
   },
   "source": [
    "# Old code"
   ]
  },
  {
   "cell_type": "code",
   "execution_count": 25,
   "id": "15cc0d53-a94d-44b6-992c-76e66e9ce237",
   "metadata": {},
   "outputs": [],
   "source": [
    "# import numpy as np\n",
    "# from tensorflow.keras.models import Sequential\n",
    "# from tensorflow.keras.layers import LSTM\n",
    "# from tensorflow.keras.layers import Dense, Dropout\n",
    "# import pandas as pd\n",
    "# from matplotlib import pyplot as plt\n",
    "# from sklearn.preprocessing import StandardScaler\n",
    "# import seaborn as sns\n",
    "# #from datetime import datetime\n",
    "\n",
    "# #Read the csv file\n",
    "# df = pd.read_csv('AAPL.csv')\n",
    "# print(df.head()) #7 columns, including the Date. \n",
    "\n",
    "# #Separate dates for future plotting\n",
    "# train_dates = pd.to_datetime(df['Date'])\n",
    "# print(train_dates.tail(15)) #Check last few dates. \n",
    "\n",
    "# #Variables for training\n",
    "# cols = list(df)[1:6]\n",
    "# #Date and volume columns are not used in training. \n",
    "# print(cols) #['Open', 'High', 'Low', 'Close', 'Adj Close']\n",
    "\n",
    "# #New dataframe with only training data - 5 columns\n",
    "# df_for_training = df[cols].astype(float)\n",
    "\n",
    "# # df_for_plot=df_for_training.tail(5000)\n",
    "# # df_for_plot.plot.line()\n",
    "\n",
    "# #LSTM uses sigmoid and tanh that are sensitive to magnitude so values need to be normalized\n",
    "# # normalize the dataset\n",
    "# scaler = StandardScaler()\n",
    "# scaler = scaler.fit(df_for_training)\n",
    "# df_for_training_scaled = scaler.transform(df_for_training)\n",
    "\n",
    "\n",
    "# #As required for LSTM networks, we require to reshape an input data into n_samples x timesteps x n_features. \n",
    "# #In this example, the n_features is 5. We will make timesteps = 14 (past days data used for training). \n",
    "\n",
    "# #Empty lists to be populated using formatted training data\n",
    "# trainX = []\n",
    "# trainY = []\n",
    "\n",
    "# n_future = 1   # Number of days we want to look into the future based on the past days.\n",
    "# n_past = 60  # Number of past days we want to use to predict the future.\n",
    "\n",
    "# #Reformat input data into a shape: (n_samples x timesteps x n_features)\n",
    "# #In my example, my df_for_training_scaled has a shape (12823, 5)\n",
    "# #12823 refers to the number of data points and 5 refers to the columns (multi-variables).\n",
    "# for i in range(n_past, len(df_for_training_scaled) - n_future +1):\n",
    "#     trainX.append(df_for_training_scaled[i - n_past:i, 0:df_for_training.shape[1]])\n",
    "#     trainY.append(df_for_training_scaled[i + n_future - 1:i + n_future, 0])\n",
    "\n",
    "# trainX, trainY = np.array(trainX), np.array(trainY)\n",
    "\n",
    "# print('trainX shape == {}.'.format(trainX.shape))\n",
    "# print('trainY shape == {}.'.format(trainY.shape))\n",
    "\n",
    "# #In my case, trainX has a shape (12809, 14, 5). \n",
    "# #12809 because we are looking back 14 days (12823 - 14 = 12809). \n",
    "# #Remember that we cannot look back 14 days until we get to the 15th day. \n",
    "# #Also, trainY has a shape (12809, 1). Our model only predicts a single value, but \n",
    "# #it needs multiple variables (5 in my example) to make this prediction. \n",
    "# #This is why we can only predict a single day after our training, the day after where our data ends.\n",
    "# #To predict more days in future, we need all the 5 variables which we do not have. \n",
    "# #We need to predict all variables if we want to do that. \n",
    "\n",
    "# # define the Autoencoder model\n",
    "\n",
    "# model = Sequential()\n",
    "# model.add(LSTM(64, activation='relu', input_shape=(trainX.shape[1], trainX.shape[2]), return_sequences=True))\n",
    "# model.add(LSTM(32, activation='relu', return_sequences=False))\n",
    "# model.add(Dropout(0.2))\n",
    "# model.add(Dense(trainY.shape[1]))\n",
    "\n",
    "# model.compile(optimizer='adam', loss='mse')\n",
    "# model.summary()\n",
    "\n",
    "\n",
    "# # fit the model\n",
    "# history = model.fit(trainX, trainY, epochs=5, batch_size=16, validation_split=0.1, verbose=1)\n",
    "\n",
    "# plt.plot(history.history['loss'], label='Training loss')\n",
    "# plt.plot(history.history['val_loss'], label='Validation loss')\n",
    "# plt.legend()\n",
    "\n",
    "# #Predicting...\n",
    "# #Libraries that will help us extract only business days in the US.\n",
    "# #Otherwise our dates would be wrong when we look back (or forward).  \n",
    "# from pandas.tseries.holiday import USFederalHolidayCalendar\n",
    "# from pandas.tseries.offsets import CustomBusinessDay\n",
    "# us_bd = CustomBusinessDay(calendar=USFederalHolidayCalendar())\n",
    "# #Remember that we can only predict one day in future as our model needs 5 variables\n",
    "# #as inputs for prediction. We only have all 5 variables until the last day in our dataset.\n",
    "# n_past = 16\n",
    "# n_days_for_prediction=15  #let us predict past 15 days\n",
    "\n",
    "# dates_to_predict = pd.date_range(list(train_dates)[-n_past], periods=n_days_for_prediction, freq=us_bd).tolist()\n",
    "# print(dates_to_predict)\n",
    "\n",
    "# #Make prediction\n",
    "# prediction = model.predict(trainX[-n_days_for_prediction:]) #shape = (n, 1) where n is the n_days_for_prediction\n",
    "\n",
    "# #Perform inverse transformation to rescale back to original range\n",
    "# #Since we used 5 variables for transform, the inverse expects same dimensions\n",
    "# #Therefore, let us copy our values 5 times and discard them after inverse transform\n",
    "# prediction_copies = np.repeat(prediction, df_for_training.shape[1], axis=-1)\n",
    "# y_pred_future = scaler.inverse_transform(prediction_copies)[:,0]\n",
    "\n",
    "\n",
    "# # Convert timestamp to date\n",
    "# forecast_dates = []\n",
    "# for time_i in dates_to_predict:\n",
    "#     forecast_dates.append(time_i.date())\n",
    "    \n",
    "# df_forecast = pd.DataFrame({'Date':np.array(forecast_dates), 'Open':y_pred_future})\n",
    "# df_forecast['Date']=pd.to_datetime(df_forecast['Date'])\n",
    "\n",
    "\n",
    "# original = df[['Date', 'Open']]\n",
    "# original['Date']=pd.to_datetime(original['Date'])\n",
    "# original = original.loc[original['Date'] >= '2019-11-11']\n",
    "\n",
    "# sns.lineplot(original['Date'], original['Open'])\n",
    "# sns.lineplot(df_forecast['Date'], df_forecast['Open'])"
   ]
  }
 ],
 "metadata": {
  "kernelspec": {
   "display_name": "Python 3 (ipykernel)",
   "language": "python",
   "name": "python3"
  },
  "language_info": {
   "codemirror_mode": {
    "name": "ipython",
    "version": 3
   },
   "file_extension": ".py",
   "mimetype": "text/x-python",
   "name": "python",
   "nbconvert_exporter": "python",
   "pygments_lexer": "ipython3",
   "version": "3.8.11"
  }
 },
 "nbformat": 4,
 "nbformat_minor": 5
}
