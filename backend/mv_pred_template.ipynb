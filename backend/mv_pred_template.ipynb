{
 "cells": [
  {
   "cell_type": "code",
   "execution_count": 1,
   "id": "ae2f8d9f-430a-48ee-b4ea-074425356596",
   "metadata": {},
   "outputs": [],
   "source": [
    "# https://youtu.be/tepxdcepTbY"
   ]
  },
  {
   "cell_type": "code",
   "execution_count": 1,
   "id": "678309a8-8384-4310-89a5-d53ceabd28ff",
   "metadata": {},
   "outputs": [
    {
     "name": "stderr",
     "output_type": "stream",
     "text": [
      "2021-12-10 14:20:29.956677: W tensorflow/stream_executor/platform/default/dso_loader.cc:64] Could not load dynamic library 'libcudart.so.11.0'; dlerror: libcudart.so.11.0: cannot open shared object file: No such file or directory\n",
      "2021-12-10 14:20:29.956703: I tensorflow/stream_executor/cuda/cudart_stub.cc:29] Ignore above cudart dlerror if you do not have a GPU set up on your machine.\n"
     ]
    }
   ],
   "source": [
    "# Imports\n",
    "import numpy as np\n",
    "from tensorflow.keras.models import Sequential\n",
    "from tensorflow.keras.layers import LSTM\n",
    "from tensorflow.keras.layers import Dense, Dropout\n",
    "import pandas as pd\n",
    "from matplotlib import pyplot as plt\n",
    "from sklearn.preprocessing import StandardScaler\n",
    "import seaborn as sns\n",
    "import access_api as api\n",
    "from datetime import datetime, timedelta\n",
    "#Libraries that will help us extract only business days in the US.\n",
    "#Otherwise our dates would be wrong when we look back (or forward).  \n",
    "from pandas.tseries.holiday import USFederalHolidayCalendar\n",
    "from pandas.tseries.offsets import CustomBusinessDay"
   ]
  },
  {
   "cell_type": "code",
   "execution_count": 2,
   "id": "b8dbf60e-602f-492d-a0b3-753266ba02c1",
   "metadata": {},
   "outputs": [],
   "source": [
    "tickers = [\"BTC-USD\", \"AAPL\", \"GOOG\", \"GC=F\"]\n",
    "target_var = \"AAPL\"\n",
    "start_date = datetime(year = 2019, month = 11, day = 10)\n",
    "end_date = datetime(year = 2021, month = 11, day = 10)\n",
    "n_days_for_prediction=21"
   ]
  },
  {
   "cell_type": "code",
   "execution_count": 3,
   "id": "cb533485-5910-4ea5-9b5b-9c9376bb77fa",
   "metadata": {},
   "outputs": [],
   "source": [
    "def get_prediction(tickers, target_var, start_date, end_date, n_days_for_prediction):\n",
    "    df = api.get_adj_close_df(tickers, start_date, end_date)\n",
    "    df = df.dropna() # Necessary when we have ticker symbols (f.e. Bitcoin) which has a price also for weekends - we need to drop these prices because stocks do not have prices on the weekend\n",
    "    df[\"Date\"] = df.index\n",
    "    df.index = range(1, df.shape[0] + 1)\n",
    "\n",
    "    #Separate dates for future plotting\n",
    "    train_dates = pd.to_datetime(df['Date'])\n",
    "    # print(train_dates.tail(15)) #Check last few dates. \n",
    "\n",
    "    #Variables for training\n",
    "    cols = list(df)\n",
    "    cols.remove(\"Date\")\n",
    "\n",
    "    #New dataframe with only training data - 5 columns\n",
    "    df_for_training = df[cols].astype(float)\n",
    "\n",
    "    print(f\"Data columns used to build model: {cols}\") #['Open', 'High', 'Low', 'Close', 'Adj Close']\n",
    "\n",
    "    target_var_x_index = list(df_for_training).index(target_var)\n",
    "    print(f\"Column to predict: {cols[target_var_x_index]} (Index: {target_var_x_index})\")\n",
    "    print(\"\\n\")\n",
    "\n",
    "    #LSTM uses sigmoid and tanh that are sensitive to magnitude so values need to be normalized\n",
    "    # normalize the dataset\n",
    "    scaler = StandardScaler()\n",
    "    scaler = scaler.fit(df_for_training)\n",
    "    df_for_training_scaled = scaler.transform(df_for_training)\n",
    "    print(f\"Dataset successfully scaled\")\n",
    "    print(\"\\n\")\n",
    "\n",
    "    #As required for LSTM networks, we require to reshape an input data into n_samples x timesteps x n_features. \n",
    "    #In this example, the n_features is 5. We will make timesteps = 14 (past days data used for training). \n",
    "\n",
    "    #Empty lists to be populated using formatted training data\n",
    "    trainX = []\n",
    "    trainY = []\n",
    "\n",
    "    n_future = 1   # Number of days we want to look into the future based on the past days.\n",
    "    n_past = 60  # Number of past days we want to use to predict the future.\n",
    "\n",
    "    #Reformat input data into a shape: (n_samples x timesteps x n_features)\n",
    "    #In my example, my df_for_training_scaled has a shape (12823, 5)\n",
    "    #12823 refers to the number of data points and 5 refers to the columns (multi-variables).\n",
    "    for i in range(n_past, len(df_for_training_scaled) - n_future +1):\n",
    "        # trainX.append(df_for_training_scaled[i - n_past:i, 0:df_for_training.shape[1]])\n",
    "        # trainY.append(df_for_training_scaled[i + n_future - 1:i + n_future, 0])\n",
    "        trainX.append(df_for_training_scaled[i - n_past:i, 0:df_for_training.shape[1]])\n",
    "        trainY.append(df_for_training_scaled[i + n_future - 1:i + n_future, target_var_x_index])\n",
    "\n",
    "\n",
    "    trainX, trainY = np.array(trainX), np.array(trainY)\n",
    "\n",
    "    print(\"Train dataset was successfully created:\")\n",
    "    print(f\"\\ttrainX shape == {trainX.shape}\")\n",
    "    print(f\"\\ttrainY shape == {trainY.shape}\")\n",
    "    print(\"\\n\")\n",
    "\n",
    "    #In my case, trainX has a shape (12809, 14, 5). \n",
    "    #12809 because we are looking back 14 days (12823 - 14 = 12809). \n",
    "    #Remember that we cannot look back 14 days until we get to the 15th day. \n",
    "    #Also, trainY has a shape (12809, 1). Our model only predicts a single value, but \n",
    "    #it needs multiple variables (5 in my example) to make this prediction. \n",
    "    #This is why we can only predict a single day after our training, the day after where our data ends.\n",
    "    #To predict more days in future, we need all the 5 variables which we do not have. \n",
    "    #We need to predict all variables if we want to do that. \n",
    "\n",
    "    # define the Autoencoder model\n",
    "    model = Sequential()\n",
    "    model.add(LSTM(64, activation='relu', input_shape=(trainX.shape[1], trainX.shape[2]), return_sequences=True))\n",
    "    model.add(LSTM(32, activation='relu', return_sequences=False))\n",
    "    model.add(Dropout(0.2))\n",
    "    model.add(Dense(trainY.shape[1]))\n",
    "    model.compile(optimizer='adam', loss='mse')\n",
    "    print(\"Model was successfully created:\")\n",
    "    model.summary()\n",
    "    print(\"\\n\")\n",
    "\n",
    "    # fit the model\n",
    "    history = model.fit(trainX, trainY, epochs=25, batch_size=16, validation_split=0.1, verbose=1)\n",
    "    print(\"Model training successfull\")\n",
    "    print(\"\\n\")\n",
    "\n",
    "    print(\"Model performance:\")\n",
    "    plt.plot(history.history['loss'], label='Training loss')\n",
    "    plt.plot(history.history['val_loss'], label='Validation loss')\n",
    "    plt.legend()\n",
    "    print(\"\\n\")\n",
    "\n",
    "    us_bd = CustomBusinessDay(calendar=USFederalHolidayCalendar())\n",
    "\n",
    "    #Remember that we can only predict one day in future as our model needs 5 variables\n",
    "    #as inputs for prediction. We only have all 5 variables until the last day in our dataset.\n",
    "    n_past = 1 #TODO check what that variable does\n",
    "\n",
    "    dates_to_predict = pd.date_range(list(train_dates)[-n_past], periods=n_days_for_prediction, freq=us_bd).tolist()\n",
    "    # print(dates_to_predict)\n",
    "\n",
    "    #Make prediction\n",
    "    prediction = model.predict(trainX[-n_days_for_prediction:]) #shape = (n, 1) where n is the n_days_for_prediction\n",
    "    print(\"Prediction successfully created\")\n",
    "    print(\"\\n\")\n",
    "\n",
    "    #Perform inverse transformation to rescale back to original range\n",
    "    #Since we used 5 variables for transform, the inverse expects same dimensions\n",
    "    #Therefore, let us copy our values 5 times and discard them after inverse transform\n",
    "    prediction_copies = np.repeat(prediction, df_for_training.shape[1], axis=-1)\n",
    "    y_pred_future = scaler.inverse_transform(prediction_copies)[:,target_var_x_index]\n",
    "\n",
    "    # Convert timestamp to date\n",
    "    forecast_dates = []\n",
    "    for time_i in dates_to_predict:\n",
    "        forecast_dates.append(time_i.date())\n",
    "    df_forecast = pd.DataFrame({'Date':np.array(forecast_dates), target_var :y_pred_future})\n",
    "    df_forecast['Date'] = pd.to_datetime(df_forecast['Date'])\n",
    "\n",
    "    original = df[['Date', target_var]].copy()\n",
    "    original['Date'] = pd.to_datetime(original['Date'])\n",
    "    original = original.loc[original['Date'] >= '2021-5-1']\n",
    "    \n",
    "    combined_dfs = original.append(df_forecast)\n",
    "    last_date_from_data = original[\"Date\"][original.index[-1]]\n",
    "\n",
    "    return last_date_from_data, combined_dfs, original, df_forecast"
   ]
  },
  {
   "cell_type": "code",
   "execution_count": 4,
   "id": "03b2bf7c-3990-4405-89c8-f238f8e98bd3",
   "metadata": {},
   "outputs": [
    {
     "name": "stdout",
     "output_type": "stream",
     "text": [
      "Data columns used to build model: ['GC=F', 'BTC-USD', 'AAPL', 'GOOG']\n",
      "Column to predict: AAPL (Index: 2)\n",
      "\n",
      "\n",
      "Dataset successfully scaled\n",
      "\n",
      "\n",
      "Train dataset was successfully created:\n",
      "\ttrainX shape == (441, 60, 4)\n",
      "\ttrainY shape == (441, 1)\n",
      "\n",
      "\n"
     ]
    },
    {
     "name": "stderr",
     "output_type": "stream",
     "text": [
      "2021-12-10 14:20:44.648486: W tensorflow/stream_executor/platform/default/dso_loader.cc:64] Could not load dynamic library 'libcuda.so.1'; dlerror: libcuda.so.1: cannot open shared object file: No such file or directory\n",
      "2021-12-10 14:20:44.648507: W tensorflow/stream_executor/cuda/cuda_driver.cc:269] failed call to cuInit: UNKNOWN ERROR (303)\n",
      "2021-12-10 14:20:44.648521: I tensorflow/stream_executor/cuda/cuda_diagnostics.cc:156] kernel driver does not appear to be running on this host (martin-ThinkPad-T490): /proc/driver/nvidia/version does not exist\n",
      "2021-12-10 14:20:44.648678: I tensorflow/core/platform/cpu_feature_guard.cc:142] This TensorFlow binary is optimized with oneAPI Deep Neural Network Library (oneDNN) to use the following CPU instructions in performance-critical operations:  AVX2 FMA\n",
      "To enable them in other operations, rebuild TensorFlow with the appropriate compiler flags.\n"
     ]
    },
    {
     "name": "stdout",
     "output_type": "stream",
     "text": [
      "Model was successfully created:\n",
      "Model: \"sequential\"\n",
      "_________________________________________________________________\n",
      "Layer (type)                 Output Shape              Param #   \n",
      "=================================================================\n",
      "lstm (LSTM)                  (None, 60, 64)            17664     \n",
      "_________________________________________________________________\n",
      "lstm_1 (LSTM)                (None, 32)                12416     \n",
      "_________________________________________________________________\n",
      "dropout (Dropout)            (None, 32)                0         \n",
      "_________________________________________________________________\n",
      "dense (Dense)                (None, 1)                 33        \n",
      "=================================================================\n",
      "Total params: 30,113\n",
      "Trainable params: 30,113\n",
      "Non-trainable params: 0\n",
      "_________________________________________________________________\n",
      "\n",
      "\n",
      "Epoch 1/25\n"
     ]
    },
    {
     "name": "stderr",
     "output_type": "stream",
     "text": [
      "2021-12-10 14:20:44.915162: I tensorflow/compiler/mlir/mlir_graph_optimization_pass.cc:185] None of the MLIR Optimization Passes are enabled (registered 2)\n"
     ]
    },
    {
     "name": "stdout",
     "output_type": "stream",
     "text": [
      "25/25 [==============================] - 2s 38ms/step - loss: 0.3336 - val_loss: 0.0134\n",
      "Epoch 2/25\n",
      "25/25 [==============================] - 1s 27ms/step - loss: 0.0933 - val_loss: 0.1433\n",
      "Epoch 3/25\n",
      "25/25 [==============================] - 1s 27ms/step - loss: 0.0733 - val_loss: 0.0140\n",
      "Epoch 4/25\n",
      "25/25 [==============================] - 1s 27ms/step - loss: 0.0554 - val_loss: 0.0746\n",
      "Epoch 5/25\n",
      "25/25 [==============================] - 1s 27ms/step - loss: 0.0489 - val_loss: 0.0446\n",
      "Epoch 6/25\n",
      "25/25 [==============================] - 1s 28ms/step - loss: 0.0500 - val_loss: 0.0453\n",
      "Epoch 7/25\n",
      "25/25 [==============================] - 1s 29ms/step - loss: 0.0572 - val_loss: 0.0375\n",
      "Epoch 8/25\n",
      "25/25 [==============================] - 1s 31ms/step - loss: 0.0369 - val_loss: 0.0345\n",
      "Epoch 9/25\n",
      "25/25 [==============================] - 1s 28ms/step - loss: 0.0399 - val_loss: 0.0418\n",
      "Epoch 10/25\n",
      "25/25 [==============================] - 1s 28ms/step - loss: 0.0401 - val_loss: 0.0609\n",
      "Epoch 11/25\n",
      "25/25 [==============================] - 1s 28ms/step - loss: 0.0459 - val_loss: 0.0263\n",
      "Epoch 12/25\n",
      "25/25 [==============================] - 1s 29ms/step - loss: 0.0427 - val_loss: 0.0302\n",
      "Epoch 13/25\n",
      "25/25 [==============================] - 1s 30ms/step - loss: 0.0336 - val_loss: 0.0323\n",
      "Epoch 14/25\n",
      "25/25 [==============================] - 1s 29ms/step - loss: 0.0315 - val_loss: 0.0368\n",
      "Epoch 15/25\n",
      "25/25 [==============================] - 1s 34ms/step - loss: 0.0302 - val_loss: 0.0419\n",
      "Epoch 16/25\n",
      "25/25 [==============================] - 1s 31ms/step - loss: 0.0335 - val_loss: 0.0363\n",
      "Epoch 17/25\n",
      "25/25 [==============================] - 1s 31ms/step - loss: 0.0340 - val_loss: 0.0152\n",
      "Epoch 18/25\n",
      "25/25 [==============================] - 1s 31ms/step - loss: 0.0331 - val_loss: 0.0174\n",
      "Epoch 19/25\n",
      "25/25 [==============================] - 1s 30ms/step - loss: 0.0296 - val_loss: 0.0260\n",
      "Epoch 20/25\n",
      "25/25 [==============================] - 1s 29ms/step - loss: 0.0360 - val_loss: 0.0413\n",
      "Epoch 21/25\n",
      "25/25 [==============================] - 1s 29ms/step - loss: 0.0366 - val_loss: 0.0269\n",
      "Epoch 22/25\n",
      "25/25 [==============================] - 1s 29ms/step - loss: 0.0366 - val_loss: 0.0525\n",
      "Epoch 23/25\n",
      "25/25 [==============================] - 1s 28ms/step - loss: 0.0299 - val_loss: 0.0470\n",
      "Epoch 24/25\n",
      "25/25 [==============================] - 1s 25ms/step - loss: 0.0351 - val_loss: 0.0138\n",
      "Epoch 25/25\n",
      "25/25 [==============================] - 1s 24ms/step - loss: 0.0275 - val_loss: 0.0268\n",
      "Model training successfull\n",
      "\n",
      "\n",
      "Model performance:\n",
      "\n",
      "\n",
      "Prediction successfully created\n",
      "\n",
      "\n"
     ]
    },
    {
     "data": {
      "image/png": "[encoded data removed]",
      "text/plain": [
       "<Figure size 432x288 with 1 Axes>"
      ]
     },
     "metadata": {
      "needs_background": "light"
     },
     "output_type": "display_data"
    }
   ],
   "source": [
    "last_date_from_data, combined_dfs, original, df_forecast = get_prediction(tickers, target_var, start_date, end_date, n_days_for_prediction)"
   ]
  },
  {
   "cell_type": "code",
   "execution_count": 6,
   "id": "33d77694-7512-4502-8373-0b75020ed401",
   "metadata": {},
   "outputs": [
    {
     "data": {
      "text/plain": [
       "<AxesSubplot:xlabel='Date', ylabel='AAPL'>"
      ]
     },
     "execution_count": 6,
     "metadata": {},
     "output_type": "execute_result"
    },
    {
     "data": {
      "image/png": "[encoded data removed]",
      "text/plain": [
       "<Figure size 432x288 with 1 Axes>"
      ]
     },
     "metadata": {
      "needs_background": "light"
     },
     "output_type": "display_data"
    }
   ],
   "source": [
    "sns.lineplot(x = original['Date'], y = original[target_var])\n",
    "sns.lineplot(x = df_forecast['Date'], y = df_forecast[target_var])"
   ]
  },
  {
   "cell_type": "code",
   "execution_count": 7,
   "id": "08157054-4584-4300-9c2a-2c50f655fab2",
   "metadata": {},
   "outputs": [],
   "source": [
    "# # Store the data in one dataset so that we can plot a continuous line\n",
    "# combined_dfs = original.append(df_forecast)\n",
    "# last_date_from_data = original[\"Date\"][original.index[-1]]"
   ]
  },
  {
   "cell_type": "code",
   "execution_count": 8,
   "id": "199a4dc0-d188-42bb-b94b-30a00833308c",
   "metadata": {},
   "outputs": [
    {
     "data": {
      "text/plain": [
       "<AxesSubplot:xlabel='Date', ylabel='AAPL'>"
      ]
     },
     "execution_count": 8,
     "metadata": {},
     "output_type": "execute_result"
    },
    {
     "data": {
      "image/png": "[encoded data removed]",
      "text/plain": [
       "<Figure size 1440x504 with 1 Axes>"
      ]
     },
     "metadata": {
      "needs_background": "light"
     },
     "output_type": "display_data"
    }
   ],
   "source": [
    "# import matplotlib.dates as mdates\n",
    "# years = mdates.YearLocator()   # every year\n",
    "# months = mdates.MonthLocator()  # every month\n",
    "# years_fmt = mdates.DateFormatter('%Y-%m') #This is a format. Will be clear in Screenshot\n",
    "# axes.xaxis.set_major_locator(months)\n",
    "# axes.xaxis.set_major_formatter(years_fmt)\n",
    "# axes.xaxis.set_minor_locator(months)\n",
    "\n",
    "fig, axes = plt.subplots(figsize=(20,7))\n",
    "plt.axvline(last_date_from_data, color = \"r\")\n",
    "sns.lineplot(x = combined_dfs[\"Date\"], y = combined_dfs[target_var], label = target_var + ' price')"
   ]
  },
  {
   "cell_type": "markdown",
   "id": "359d06cc-78ef-42ff-9ee3-a9edfdd2dd97",
   "metadata": {
    "jp-MarkdownHeadingCollapsed": true,
    "tags": []
   },
   "source": [
    "# Old code"
   ]
  },
  {
   "cell_type": "code",
   "execution_count": 25,
   "id": "15cc0d53-a94d-44b6-992c-76e66e9ce237",
   "metadata": {},
   "outputs": [],
   "source": [
    "# import numpy as np\n",
    "# from tensorflow.keras.models import Sequential\n",
    "# from tensorflow.keras.layers import LSTM\n",
    "# from tensorflow.keras.layers import Dense, Dropout\n",
    "# import pandas as pd\n",
    "# from matplotlib import pyplot as plt\n",
    "# from sklearn.preprocessing import StandardScaler\n",
    "# import seaborn as sns\n",
    "# #from datetime import datetime\n",
    "\n",
    "# #Read the csv file\n",
    "# df = pd.read_csv('AAPL.csv')\n",
    "# print(df.head()) #7 columns, including the Date. \n",
    "\n",
    "# #Separate dates for future plotting\n",
    "# train_dates = pd.to_datetime(df['Date'])\n",
    "# print(train_dates.tail(15)) #Check last few dates. \n",
    "\n",
    "# #Variables for training\n",
    "# cols = list(df)[1:6]\n",
    "# #Date and volume columns are not used in training. \n",
    "# print(cols) #['Open', 'High', 'Low', 'Close', 'Adj Close']\n",
    "\n",
    "# #New dataframe with only training data - 5 columns\n",
    "# df_for_training = df[cols].astype(float)\n",
    "\n",
    "# # df_for_plot=df_for_training.tail(5000)\n",
    "# # df_for_plot.plot.line()\n",
    "\n",
    "# #LSTM uses sigmoid and tanh that are sensitive to magnitude so values need to be normalized\n",
    "# # normalize the dataset\n",
    "# scaler = StandardScaler()\n",
    "# scaler = scaler.fit(df_for_training)\n",
    "# df_for_training_scaled = scaler.transform(df_for_training)\n",
    "\n",
    "\n",
    "# #As required for LSTM networks, we require to reshape an input data into n_samples x timesteps x n_features. \n",
    "# #In this example, the n_features is 5. We will make timesteps = 14 (past days data used for training). \n",
    "\n",
    "# #Empty lists to be populated using formatted training data\n",
    "# trainX = []\n",
    "# trainY = []\n",
    "\n",
    "# n_future = 1   # Number of days we want to look into the future based on the past days.\n",
    "# n_past = 60  # Number of past days we want to use to predict the future.\n",
    "\n",
    "# #Reformat input data into a shape: (n_samples x timesteps x n_features)\n",
    "# #In my example, my df_for_training_scaled has a shape (12823, 5)\n",
    "# #12823 refers to the number of data points and 5 refers to the columns (multi-variables).\n",
    "# for i in range(n_past, len(df_for_training_scaled) - n_future +1):\n",
    "#     trainX.append(df_for_training_scaled[i - n_past:i, 0:df_for_training.shape[1]])\n",
    "#     trainY.append(df_for_training_scaled[i + n_future - 1:i + n_future, 0])\n",
    "\n",
    "# trainX, trainY = np.array(trainX), np.array(trainY)\n",
    "\n",
    "# print('trainX shape == {}.'.format(trainX.shape))\n",
    "# print('trainY shape == {}.'.format(trainY.shape))\n",
    "\n",
    "# #In my case, trainX has a shape (12809, 14, 5). \n",
    "# #12809 because we are looking back 14 days (12823 - 14 = 12809). \n",
    "# #Remember that we cannot look back 14 days until we get to the 15th day. \n",
    "# #Also, trainY has a shape (12809, 1). Our model only predicts a single value, but \n",
    "# #it needs multiple variables (5 in my example) to make this prediction. \n",
    "# #This is why we can only predict a single day after our training, the day after where our data ends.\n",
    "# #To predict more days in future, we need all the 5 variables which we do not have. \n",
    "# #We need to predict all variables if we want to do that. \n",
    "\n",
    "# # define the Autoencoder model\n",
    "\n",
    "# model = Sequential()\n",
    "# model.add(LSTM(64, activation='relu', input_shape=(trainX.shape[1], trainX.shape[2]), return_sequences=True))\n",
    "# model.add(LSTM(32, activation='relu', return_sequences=False))\n",
    "# model.add(Dropout(0.2))\n",
    "# model.add(Dense(trainY.shape[1]))\n",
    "\n",
    "# model.compile(optimizer='adam', loss='mse')\n",
    "# model.summary()\n",
    "\n",
    "\n",
    "# # fit the model\n",
    "# history = model.fit(trainX, trainY, epochs=5, batch_size=16, validation_split=0.1, verbose=1)\n",
    "\n",
    "# plt.plot(history.history['loss'], label='Training loss')\n",
    "# plt.plot(history.history['val_loss'], label='Validation loss')\n",
    "# plt.legend()\n",
    "\n",
    "# #Predicting...\n",
    "# #Libraries that will help us extract only business days in the US.\n",
    "# #Otherwise our dates would be wrong when we look back (or forward).  \n",
    "# from pandas.tseries.holiday import USFederalHolidayCalendar\n",
    "# from pandas.tseries.offsets import CustomBusinessDay\n",
    "# us_bd = CustomBusinessDay(calendar=USFederalHolidayCalendar())\n",
    "# #Remember that we can only predict one day in future as our model needs 5 variables\n",
    "# #as inputs for prediction. We only have all 5 variables until the last day in our dataset.\n",
    "# n_past = 16\n",
    "# n_days_for_prediction=15  #let us predict past 15 days\n",
    "\n",
    "# dates_to_predict = pd.date_range(list(train_dates)[-n_past], periods=n_days_for_prediction, freq=us_bd).tolist()\n",
    "# print(dates_to_predict)\n",
    "\n",
    "# #Make prediction\n",
    "# prediction = model.predict(trainX[-n_days_for_prediction:]) #shape = (n, 1) where n is the n_days_for_prediction\n",
    "\n",
    "# #Perform inverse transformation to rescale back to original range\n",
    "# #Since we used 5 variables for transform, the inverse expects same dimensions\n",
    "# #Therefore, let us copy our values 5 times and discard them after inverse transform\n",
    "# prediction_copies = np.repeat(prediction, df_for_training.shape[1], axis=-1)\n",
    "# y_pred_future = scaler.inverse_transform(prediction_copies)[:,0]\n",
    "\n",
    "\n",
    "# # Convert timestamp to date\n",
    "# forecast_dates = []\n",
    "# for time_i in dates_to_predict:\n",
    "#     forecast_dates.append(time_i.date())\n",
    "    \n",
    "# df_forecast = pd.DataFrame({'Date':np.array(forecast_dates), 'Open':y_pred_future})\n",
    "# df_forecast['Date']=pd.to_datetime(df_forecast['Date'])\n",
    "\n",
    "\n",
    "# original = df[['Date', 'Open']]\n",
    "# original['Date']=pd.to_datetime(original['Date'])\n",
    "# original = original.loc[original['Date'] >= '2019-11-11']\n",
    "\n",
    "# sns.lineplot(original['Date'], original['Open'])\n",
    "# sns.lineplot(df_forecast['Date'], df_forecast['Open'])"
   ]
  }
 ],
 "metadata": {
  "kernelspec": {
   "display_name": "Python 3 (ipykernel)",
   "language": "python",
   "name": "python3"
  },
  "language_info": {
   "codemirror_mode": {
    "name": "ipython",
    "version": 3
   },
   "file_extension": ".py",
   "mimetype": "text/x-python",
   "name": "python",
   "nbconvert_exporter": "python",
   "pygments_lexer": "ipython3",
   "version": "3.8.11"
  }
 },
 "nbformat": 4,
 "nbformat_minor": 5
}
