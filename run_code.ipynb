{
 "cells": [
  {
   "cell_type": "markdown",
   "id": "8e6ec90c-dab1-4830-9fc8-533332bd66f3",
   "metadata": {
    "tags": []
   },
   "source": [
    "# Imports"
   ]
  },
  {
   "cell_type": "code",
   "execution_count": 1,
   "id": "4aa44e04-8e6b-4799-b83d-932a61b2bd0d",
   "metadata": {},
   "outputs": [],
   "source": [
    "# Links:\n",
    "# https://www.askpython.com/python/examples/stock-price-prediction-python\n",
    "# https://www.codespeedy.com/predicting-stock-price-using-lstm-python-ml/"
   ]
  },
  {
   "cell_type": "code",
   "execution_count": 2,
   "id": "b223ed6b-4cd8-4925-b121-9a7c25ddd551",
   "metadata": {},
   "outputs": [],
   "source": [
    "%%capture\n",
    "# %%capture: Show now output for this cell\n",
    "# Imports\n",
    "import pandas as pd\n",
    "import numpy as np\n",
    "from datetime import datetime, timedelta\n",
    "import math"
   ]
  },
  {
   "cell_type": "code",
   "execution_count": 3,
   "id": "25e2b4a8-8aad-41be-a80e-1d126bb39600",
   "metadata": {},
   "outputs": [
    {
     "name": "stderr",
     "output_type": "stream",
     "text": [
      "2021-10-28 20:22:28.467644: W tensorflow/stream_executor/platform/default/dso_loader.cc:64] Could not load dynamic library 'libcudart.so.11.0'; dlerror: libcudart.so.11.0: cannot open shared object file: No such file or directory\n",
      "2021-10-28 20:22:28.467673: I tensorflow/stream_executor/cuda/cudart_stub.cc:29] Ignore above cudart dlerror if you do not have a GPU set up on your machine.\n"
     ]
    }
   ],
   "source": [
    "import access_api as api\n",
    "from dataset import Dataset\n",
    "from model import LSTM_model"
   ]
  },
  {
   "cell_type": "code",
   "execution_count": 4,
   "id": "417661e1-bd2b-4bca-8d0c-a1dab6591951",
   "metadata": {},
   "outputs": [],
   "source": [
    "# Define tickers for our testing\n",
    "tickers = [\"ABNB\", \"BTC_USD\", \"GOOG\", \"AAPL\"]\n",
    "\n",
    "# Define a date range\n",
    "start_date = datetime(2005, 1, 29)\n",
    "end_date = datetime.today()\n",
    "pred_base_range = 60"
   ]
  },
  {
   "cell_type": "code",
   "execution_count": 5,
   "id": "0605484c-9547-4437-80fc-ee4794a36a43",
   "metadata": {},
   "outputs": [],
   "source": [
    "# abnb = api.get_stock_data(\"ABNB\", start_date)\n",
    "# abnb_dataset = Dataset(\"ABNB\", start_date, end_date, abnb, False)\n",
    "# x_train, y_train, x_test, y_test, scaler = abnb_dataset.scaled_train_test_split()\n",
    "# x_train, y_train, x_test, y_test = abnb_dataset.train_test_split()"
   ]
  },
  {
   "cell_type": "code",
   "execution_count": 6,
   "id": "bf2878a5-f4f8-43d6-8742-3c61cf5c05dc",
   "metadata": {},
   "outputs": [],
   "source": [
    "btc_usd = api.get_stock_data(\"BTC-USD\", start_date)\n",
    "btc_usd_dataset = Dataset(\"BTC-USD\", start_date, end_date, btc_usd, True)\n",
    "# x_train, y_train, x_test, y_test, scaler = btc_usd_dataset.scaled_train_test_split()\n",
    "x_train, y_train, x_test, y_test = btc_usd_dataset.train_test_split()"
   ]
  },
  {
   "cell_type": "code",
   "execution_count": 7,
   "id": "29852de5-b2eb-4265-85c8-82fb82c2592c",
   "metadata": {},
   "outputs": [
    {
     "data": {
      "image/png": "[encoded data removed]",
      "text/plain": [
       "<Figure size 432x288 with 1 Axes>"
      ]
     },
     "metadata": {
      "needs_background": "light"
     },
     "output_type": "display_data"
    }
   ],
   "source": [
    "btc_usd_dataset.plot_price_data()"
   ]
  },
  {
   "cell_type": "code",
   "execution_count": 8,
   "id": "959220c9-0fec-4007-a6d1-1d437667f395",
   "metadata": {},
   "outputs": [
    {
     "data": {
      "text/plain": [
       "array([  457.33401489,   424.44000244,   394.79598999, ...,\n",
       "       60363.79296875, 58482.38671875, 61122.7890625 ])"
      ]
     },
     "execution_count": 8,
     "metadata": {},
     "output_type": "execute_result"
    }
   ],
   "source": [
    "btc_usd_dataset.df[\"Adj Close\"].values"
   ]
  },
  {
   "cell_type": "code",
   "execution_count": 9,
   "id": "0bd00b40-f860-4ad7-b362-bd70829352b8",
   "metadata": {},
   "outputs": [
    {
     "name": "stderr",
     "output_type": "stream",
     "text": [
      "2021-10-28 20:22:30.488247: W tensorflow/stream_executor/platform/default/dso_loader.cc:64] Could not load dynamic library 'libcuda.so.1'; dlerror: libcuda.so.1: cannot open shared object file: No such file or directory\n",
      "2021-10-28 20:22:30.488281: W tensorflow/stream_executor/cuda/cuda_driver.cc:269] failed call to cuInit: UNKNOWN ERROR (303)\n",
      "2021-10-28 20:22:30.488306: I tensorflow/stream_executor/cuda/cuda_diagnostics.cc:156] kernel driver does not appear to be running on this host (martin-ThinkPad-T490): /proc/driver/nvidia/version does not exist\n",
      "2021-10-28 20:22:30.488495: I tensorflow/core/platform/cpu_feature_guard.cc:142] This TensorFlow binary is optimized with oneAPI Deep Neural Network Library (oneDNN) to use the following CPU instructions in performance-critical operations:  AVX2 FMA\n",
      "To enable them in other operations, rebuild TensorFlow with the appropriate compiler flags.\n"
     ]
    }
   ],
   "source": [
    "btc_usd_model = LSTM_model(\"BTC_USD_model\", \"BTC-USD\", start_date, end_date, pred_base_range)"
   ]
  },
  {
   "cell_type": "code",
   "execution_count": 10,
   "id": "c8828c90-fc69-4444-a291-e000ca36f042",
   "metadata": {},
   "outputs": [
    {
     "name": "stderr",
     "output_type": "stream",
     "text": [
      "2021-10-28 20:22:30.933455: I tensorflow/compiler/mlir/mlir_graph_optimization_pass.cc:185] None of the MLIR Optimization Passes are enabled (registered 2)\n"
     ]
    },
    {
     "name": "stdout",
     "output_type": "stream",
     "text": [
      "1757/1757 [==============================] - 49s 27ms/step - loss: 22169444.0000\n"
     ]
    }
   ],
   "source": [
    "btc_usd_model.train(x_train, y_train, batch_size=1, epochs=1)"
   ]
  },
  {
   "cell_type": "code",
   "execution_count": 11,
   "id": "c6689dc0-d0cc-41ee-8cdf-8ce154aa9870",
   "metadata": {},
   "outputs": [
    {
     "name": "stdout",
     "output_type": "stream",
     "text": [
      "Model: \"sequential\"\n",
      "_________________________________________________________________\n",
      "Layer (type)                 Output Shape              Param #   \n",
      "=================================================================\n",
      "lstm (LSTM)                  (None, 60, 50)            10400     \n",
      "_________________________________________________________________\n",
      "lstm_1 (LSTM)                (None, 50)                20200     \n",
      "_________________________________________________________________\n",
      "dense (Dense)                (None, 25)                1275      \n",
      "_________________________________________________________________\n",
      "dense_1 (Dense)              (None, 1)                 26        \n",
      "=================================================================\n",
      "Total params: 31,901\n",
      "Trainable params: 31,901\n",
      "Non-trainable params: 0\n",
      "_________________________________________________________________\n"
     ]
    }
   ],
   "source": [
    "btc_usd_model.engine.summary()"
   ]
  },
  {
   "cell_type": "code",
   "execution_count": 12,
   "id": "d449780d-8953-46d1-968a-3b7daa1f124b",
   "metadata": {},
   "outputs": [
    {
     "data": {
      "text/plain": [
       "array([  457.33401489,   424.44000244,   394.79598999, ...,\n",
       "       60363.79296875, 58482.38671875, 61122.7890625 ])"
      ]
     },
     "execution_count": 12,
     "metadata": {},
     "output_type": "execute_result"
    }
   ],
   "source": [
    "btc_usd_dataset.df[\"Adj Close\"].values"
   ]
  },
  {
   "cell_type": "code",
   "execution_count": 14,
   "id": "1a250184-1d90-4748-bd17-0e6cccb6c146",
   "metadata": {},
   "outputs": [
    {
     "data": {
      "text/plain": [
       "array([[47054.984375]])"
      ]
     },
     "execution_count": 14,
     "metadata": {},
     "output_type": "execute_result"
    }
   ],
   "source": [
    "btc_usd_model.predict_future(btc_usd_dataset.df[\"Adj Close\"].values.reshape(-1, 1))"
   ]
  },
  {
   "cell_type": "code",
   "execution_count": null,
   "id": "9bf0f458-45fc-4a9c-88ba-eacef704e64a",
   "metadata": {},
   "outputs": [],
   "source": []
  },
  {
   "cell_type": "code",
   "execution_count": null,
   "id": "59ebd1ce-d48d-4b13-bd26-d0505fc9b251",
   "metadata": {},
   "outputs": [],
   "source": []
  },
  {
   "cell_type": "code",
   "execution_count": null,
   "id": "3e94d91f-9287-4853-86ae-7ccc99594ee8",
   "metadata": {},
   "outputs": [],
   "source": []
  },
  {
   "cell_type": "code",
   "execution_count": null,
   "id": "79b2578d-5b67-4c01-b243-30dcca1bea47",
   "metadata": {},
   "outputs": [
    {
     "ename": "NameError",
     "evalue": "name 'data' is not defined",
     "output_type": "error",
     "traceback": [
      "\u001b[0;31m---------------------------------------------------------------------------\u001b[0m",
      "\u001b[0;31mNameError\u001b[0m                                 Traceback (most recent call last)",
      "\u001b[0;32m/tmp/ipykernel_2313200/4031384786.py\u001b[0m in \u001b[0;36m<module>\u001b[0;34m\u001b[0m\n\u001b[1;32m     14\u001b[0m \u001b[0;34m\u001b[0m\u001b[0m\n\u001b[1;32m     15\u001b[0m     \u001b[0;31m# Get the data, rescale it and divide it into training and test set\u001b[0m\u001b[0;34m\u001b[0m\u001b[0;34m\u001b[0m\u001b[0;34m\u001b[0m\u001b[0m\n\u001b[0;32m---> 16\u001b[0;31m     \u001b[0mdf\u001b[0m \u001b[0;34m=\u001b[0m \u001b[0mdata\u001b[0m\u001b[0;34m.\u001b[0m\u001b[0mget_adj_close_df\u001b[0m\u001b[0;34m(\u001b[0m\u001b[0;34m[\u001b[0m\u001b[0mticker\u001b[0m\u001b[0;34m]\u001b[0m\u001b[0;34m,\u001b[0m \u001b[0mstart_date\u001b[0m\u001b[0;34m,\u001b[0m \u001b[0mend_date\u001b[0m\u001b[0;34m)\u001b[0m\u001b[0;34m\u001b[0m\u001b[0;34m\u001b[0m\u001b[0m\n\u001b[0m\u001b[1;32m     17\u001b[0m     \u001b[0mdf_values\u001b[0m \u001b[0;34m=\u001b[0m \u001b[0mdf\u001b[0m\u001b[0;34m.\u001b[0m\u001b[0mvalues\u001b[0m\u001b[0;34m\u001b[0m\u001b[0;34m\u001b[0m\u001b[0m\n\u001b[1;32m     18\u001b[0m     \u001b[0mscaler\u001b[0m\u001b[0;34m,\u001b[0m \u001b[0mscaled_dataset\u001b[0m \u001b[0;34m=\u001b[0m \u001b[0mdata\u001b[0m\u001b[0;34m.\u001b[0m\u001b[0mscale_data\u001b[0m\u001b[0;34m(\u001b[0m\u001b[0mdf_values\u001b[0m\u001b[0;34m)\u001b[0m\u001b[0;34m\u001b[0m\u001b[0;34m\u001b[0m\u001b[0m\n",
      "\u001b[0;31mNameError\u001b[0m: name 'data' is not defined"
     ]
    }
   ],
   "source": [
    "# # Define tickers for our testing\n",
    "# tickers = [\"ABNB\", \"BTC_USD\", \"GOOG\", \"AAPL\"]\n",
    "\n",
    "# # Define a date range\n",
    "# start_date = datetime(2005, 1, 29)\n",
    "# end_date = datetime.today()\n",
    "# pred_base_range = 60\n",
    "\n",
    "# # Define a dictionary to hold our LSTM models\n",
    "# lstm_models = {}\n",
    "\n",
    "# for ticker in tickers:\n",
    "#     lstm_models[ticker] = LSTM_model(ticker + \"_model\", ticker, start_date, end_date, pred_base_range)\n",
    "    \n",
    "#     # Get the data, rescale it and divide it into training and test set\n",
    "#     df = data.get_adj_close_df([ticker], start_date, end_date)\n",
    "#     df_values = df.values\n",
    "#     scaler, scaled_dataset = data.scale_data(df_values)\n",
    "#     x_train, y_train, x_test, y_test, training_data_len = data.train_test_split(scaled_dataset, days = pred_base_range)\n",
    "    \n",
    "#     # Train a model with the data\n",
    "#     model = get_model(input_shape = x_train.shape[1])\n",
    "#     model.fit(x_train, y_train, batch_size=1, epochs=1)\n",
    "#     model_dict[\"model\"] = model"
   ]
  },
  {
   "cell_type": "code",
   "execution_count": null,
   "id": "3b10bd7e-32d5-45ed-908d-c114fc6323d5",
   "metadata": {},
   "outputs": [],
   "source": []
  },
  {
   "cell_type": "code",
   "execution_count": null,
   "id": "4c2e0c7b-7c68-429a-9b17-20896df4968b",
   "metadata": {
    "tags": []
   },
   "outputs": [],
   "source": []
  },
  {
   "cell_type": "markdown",
   "id": "0f90774b-ee17-48e9-ba1d-0e0e5cbae150",
   "metadata": {
    "tags": []
   },
   "source": [
    "# Date processing methods"
   ]
  },
  {
   "cell_type": "code",
   "execution_count": null,
   "id": "2ed5eabd-6a57-424f-b463-78c27d57e0c5",
   "metadata": {},
   "outputs": [],
   "source": []
  },
  {
   "cell_type": "code",
   "execution_count": 18,
   "id": "2c17fabf-0da3-4ef8-bea9-229e87aeefac",
   "metadata": {},
   "outputs": [
    {
     "data": {
      "image/png": "[encoded data removed]",
      "text/plain": [
       "<Figure size 432x288 with 1 Axes>"
      ]
     },
     "metadata": {
      "needs_background": "light"
     },
     "output_type": "display_data"
    }
   ],
   "source": [
    "# Get data for multiple ticker symbols\n",
    "data = get_stock_data(ticker_symbols, start_date)\n",
    "formated_data = tickers_as_columns(data)\n",
    "\n",
    "plot_data(title=\"Tech companies\", df = formated_data)"
   ]
  },
  {
   "cell_type": "markdown",
   "id": "c55aa2db-9c24-4d34-a28d-74592634e382",
   "metadata": {},
   "source": [
    "## Train and store models"
   ]
  },
  {
   "cell_type": "code",
   "execution_count": null,
   "id": "12b3d2a2-bd77-4aff-8117-d7cdb541f3ce",
   "metadata": {},
   "outputs": [],
   "source": [
    "\n",
    "# ABNB_model = create_model(\"ABNB\", \"AirBNB Model\", start_date, end_date = datetime.today(), pred_base_range = pred_base_range)\n",
    "# BTC_USD_model = create_model(\"BTC-USD\", \"BTC-USD Model\", start_date, end_date = datetime.today(), pred_base_range = pred_base_range)\n",
    "# GOOG_model = create_model(\"GOOG\", \"Google Model\", start_date, end_date = datetime.today(), pred_base_range = pred_base_range)\n",
    "# AAPL_model = create_model(\"AAPL\", \"Apple Model\", start_date, end_date = datetime.today(), pred_base_range = pred_base_range)\n",
    "# save_model_dict(ABNB_model)\n",
    "# save_model_dict(BTC_USD_model)\n",
    "# save_model_dict(GOOG_model)\n",
    "# save_model_dict(AAPL_model)"
   ]
  },
  {
   "cell_type": "markdown",
   "id": "86a39dbf-315b-45fb-8db8-cb91d4842b2c",
   "metadata": {},
   "source": [
    "## Predict future data based on model"
   ]
  },
  {
   "cell_type": "code",
   "execution_count": null,
   "id": "9f40761f-2a14-489d-9339-c641d1d53fb9",
   "metadata": {},
   "outputs": [],
   "source": [
    "df_btc_usd = get_adj_close_df([\"BTC-USD\"], start_date, end_date = datetime.today())\n",
    "df_btc_usd_values = df_btc_usd.values\n",
    "predict_future(df_values, loaded_model, n_days = 20)"
   ]
  },
  {
   "cell_type": "markdown",
   "id": "d03ec76e-7395-474e-a8c1-d4c45a7ef0f2",
   "metadata": {},
   "source": [
    "## Test Bitcoin prediction for 500 days"
   ]
  },
  {
   "cell_type": "code",
   "execution_count": null,
   "id": "76a7730f-7269-41ab-a2b4-47f59dad54bb",
   "metadata": {},
   "outputs": [],
   "source": [
    "BTC_USD_model_500 = create_model(\"BTC-USD\", \"BTC-USD Model 500d\", start_date, end_date = datetime.today(), pred_base_range = 500)\n",
    "save_model_dict(BTC_USD_model_500)"
   ]
  },
  {
   "cell_type": "code",
   "execution_count": null,
   "id": "a1a5e693-b70a-4e16-a0bb-e4b6dcc383c8",
   "metadata": {},
   "outputs": [],
   "source": [
    "predictions = predict_future(df_btc_usd_values, BTC_USD_model_500, n_days = 5)\n",
    "timerange = create_timerange_from_now(include_today = False, weekends = True)\n",
    "extend_df(df, predictions, timerange)"
   ]
  },
  {
   "cell_type": "code",
   "execution_count": null,
   "id": "a51bcb42-a59c-491a-94a8-9f14251e4a86",
   "metadata": {},
   "outputs": [],
   "source": []
  },
  {
   "cell_type": "markdown",
   "id": "6168e33f-05c0-407b-bdc9-70b29ad7923f",
   "metadata": {},
   "source": [
    "## Implement stock predictor\n",
    "For your core stock predictor, implement:\n",
    "\n",
    "A training interface that accepts a data range (start_date, end_date) and a list of ticker symbols (e.g. GOOG, AAPL), and builds a model of stock behavior. Your code should read the desired historical prices from the data source of your choice.\n",
    "A query interface that accepts a list of dates and a list of ticker symbols, and outputs the predicted stock prices for each of those stocks on the given dates. Note that the query dates passed in must be after the training date range, and ticker symbols must be a subset of the ones trained on."
   ]
  },
  {
   "cell_type": "code",
   "execution_count": null,
   "id": "82bd1424-7254-4653-b9b9-fbd1fd8c596e",
   "metadata": {},
   "outputs": [],
   "source": [
    "def training_interface(start_date, end_date, ticker_symbols):\n",
    "    # Read historical prices\n",
    "    \n",
    "    # "
   ]
  },
  {
   "cell_type": "code",
   "execution_count": null,
   "id": "faa35548-dc5b-45a4-9e2c-0c915f41d7f5",
   "metadata": {},
   "outputs": [],
   "source": [
    "def query_interface(date_list, ticker_symbols)"
   ]
  },
  {
   "cell_type": "code",
   "execution_count": null,
   "id": "fe2b334c-74b3-4f6f-81a4-62c44cc35825",
   "metadata": {},
   "outputs": [],
   "source": []
  },
  {
   "cell_type": "code",
   "execution_count": null,
   "id": "5b6622a7-bbbc-4734-b549-2e175cbb508c",
   "metadata": {},
   "outputs": [],
   "source": []
  },
  {
   "cell_type": "code",
   "execution_count": null,
   "id": "4999f7bb-1a71-4437-894e-ca8c094118df",
   "metadata": {},
   "outputs": [],
   "source": []
  },
  {
   "cell_type": "code",
   "execution_count": null,
   "id": "f929591a-ce90-4085-8a45-3aec54b21406",
   "metadata": {},
   "outputs": [],
   "source": []
  },
  {
   "cell_type": "code",
   "execution_count": null,
   "id": "c5bc84cc-8fbd-432e-9ac3-5fa7ef1bdf88",
   "metadata": {},
   "outputs": [],
   "source": []
  },
  {
   "cell_type": "code",
   "execution_count": null,
   "id": "b39e0dcc-fb2a-4632-bd69-f3835688fea4",
   "metadata": {},
   "outputs": [],
   "source": []
  },
  {
   "cell_type": "code",
   "execution_count": null,
   "id": "a41860bc-c5db-454e-b7fb-116bd55a6672",
   "metadata": {},
   "outputs": [],
   "source": []
  },
  {
   "cell_type": "code",
   "execution_count": null,
   "id": "e159cfcb-c046-4fff-a8e9-067fc8e5e212",
   "metadata": {},
   "outputs": [],
   "source": []
  },
  {
   "cell_type": "code",
   "execution_count": null,
   "id": "41836dfd-6655-45d1-8867-096f838c5e1a",
   "metadata": {},
   "outputs": [],
   "source": []
  },
  {
   "cell_type": "code",
   "execution_count": null,
   "id": "cb2906f1-27a5-444c-9984-87d01e6bb5a3",
   "metadata": {},
   "outputs": [],
   "source": []
  },
  {
   "cell_type": "code",
   "execution_count": null,
   "id": "635a07f7-d257-4cb6-8492-33710e56699e",
   "metadata": {},
   "outputs": [],
   "source": []
  },
  {
   "cell_type": "code",
   "execution_count": null,
   "id": "c11b4388-3ec5-4d05-b3f3-0dbbaeb8c931",
   "metadata": {},
   "outputs": [],
   "source": []
  },
  {
   "cell_type": "code",
   "execution_count": null,
   "id": "df8044b4-a6c7-4998-8824-2f3a71ac309f",
   "metadata": {},
   "outputs": [],
   "source": []
  },
  {
   "cell_type": "code",
   "execution_count": null,
   "id": "67cb33f3-b4ab-42b4-969e-a170a501a66a",
   "metadata": {},
   "outputs": [],
   "source": []
  },
  {
   "cell_type": "code",
   "execution_count": null,
   "id": "1dc2de3d-ddbf-4bbd-9519-c7055e3bc16b",
   "metadata": {},
   "outputs": [],
   "source": []
  },
  {
   "cell_type": "code",
   "execution_count": null,
   "id": "036cb902-52de-4e57-8ce4-e7fd36735014",
   "metadata": {},
   "outputs": [],
   "source": []
  },
  {
   "cell_type": "code",
   "execution_count": null,
   "id": "cf7d8387-39c3-42a6-9b63-4610ea04a238",
   "metadata": {},
   "outputs": [],
   "source": []
  },
  {
   "cell_type": "code",
   "execution_count": null,
   "id": "2be454c0-9f61-4d59-92f4-3e435903bf27",
   "metadata": {},
   "outputs": [],
   "source": []
  },
  {
   "cell_type": "code",
   "execution_count": null,
   "id": "2692587c-e687-4315-b505-8820993f9b1b",
   "metadata": {},
   "outputs": [],
   "source": []
  },
  {
   "cell_type": "markdown",
   "id": "7f2f96d6-ecd4-4482-8f73-99a32083b66c",
   "metadata": {},
   "source": [
    "## Preprocess the data and divide it into train and test set"
   ]
  },
  {
   "cell_type": "code",
   "execution_count": null,
   "id": "54e02094-f576-40d5-9919-153e1913afd2",
   "metadata": {},
   "outputs": [],
   "source": []
  },
  {
   "cell_type": "markdown",
   "id": "508f2e86-338d-405d-a94e-669e364826a3",
   "metadata": {
    "tags": []
   },
   "source": [
    "### Create model"
   ]
  },
  {
   "cell_type": "code",
   "execution_count": null,
   "id": "409bb86f-34b7-4cb3-ad38-d551dad66fd0",
   "metadata": {},
   "outputs": [],
   "source": [
    "# first_lstm = get_model(input_shape = x_train.shape[1])\n",
    "# first_lstm.fit(x_train, y_train, batch_size=1, epochs=1)\n",
    "# store_model_keras(\"first_lstm\", first_lstm)"
   ]
  },
  {
   "cell_type": "markdown",
   "id": "636cdb83-4e12-4d15-b302-11f561aa18e4",
   "metadata": {},
   "source": [
    "### Load model from disk"
   ]
  },
  {
   "cell_type": "code",
   "execution_count": null,
   "id": "96362401-feb1-4d9a-80b0-4ddde77bf843",
   "metadata": {},
   "outputs": [],
   "source": [
    "# google_model = load_model(\"Google Model\")"
   ]
  },
  {
   "cell_type": "code",
   "execution_count": null,
   "id": "7a69488e-558a-4763-9eaa-e1375a478201",
   "metadata": {},
   "outputs": [],
   "source": [
    "# model_dict = {}\n",
    "# model_dict[\"name\"] = \"Google Model\"\n",
    "# model_dict[\"model\"] = google_model\n",
    "# model_dict[\"start_date\"] = start_date\n",
    "# model_dict[\"end_date\"] = end_date\n",
    "# model_dict[\"ticker_symbols\"] = [\"GOOG\"]\n",
    "# model_dict[\"pred_base_range\"] =  pred_base_range"
   ]
  },
  {
   "cell_type": "code",
   "execution_count": null,
   "id": "96578c46-5261-421c-9255-7db74e975ada",
   "metadata": {},
   "outputs": [],
   "source": [
    "# test_dates = []\n",
    "# test_dates.append(datetime(year = 2021, month = 9, day = 15))\n",
    "# test_dates.append(datetime(year = 2021, month = 9, day = 17))\n",
    "# test_dates.append(datetime(year = 2020, month = 9, day = 17))\n",
    "# test_dates.append(datetime(year = 2021, month = 10, day = 17))"
   ]
  },
  {
   "cell_type": "code",
   "execution_count": null,
   "id": "381cfc4f-c1f0-4323-bdd2-d79c7cdd94e0",
   "metadata": {},
   "outputs": [],
   "source": [
    "# # Making predictions on the testing data\n",
    "# prediction = make_predictions(first_lstm, x_test)\n",
    "# predictions = rescale_data(prediction, scaler)"
   ]
  },
  {
   "cell_type": "code",
   "execution_count": null,
   "id": "bd9150ff-cc5a-4d45-aef3-91aae6960dba",
   "metadata": {},
   "outputs": [],
   "source": [
    "# prediction.shape"
   ]
  },
  {
   "cell_type": "code",
   "execution_count": null,
   "id": "aac4ed5a-1ec0-4f3e-9c24-5d0e8fa12f0e",
   "metadata": {},
   "outputs": [],
   "source": [
    "# plot_approximation(filtered_data=filtered_data, training_data_len= training_data_len, predictions=predictions)"
   ]
  },
  {
   "cell_type": "code",
   "execution_count": null,
   "id": "aa18fc33-5955-4387-b17e-edeacc762ee7",
   "metadata": {},
   "outputs": [],
   "source": [
    "# goog_price = predict_future(dataset, google_model)"
   ]
  },
  {
   "cell_type": "code",
   "execution_count": null,
   "id": "504d5a31-11bb-4c54-94a6-33111f742f04",
   "metadata": {},
   "outputs": [],
   "source": [
    "# dt1 = datetime(year = 2021, month = 9, day=20)\n",
    "# dt2 = datetime(year = 2021, month = 9, day=24)\n",
    "# dt_range  = pd.date_range(start = dt1, end = dt2)"
   ]
  },
  {
   "cell_type": "code",
   "execution_count": null,
   "id": "913fc934-3d7f-497d-8867-b3d289126007",
   "metadata": {},
   "outputs": [],
   "source": [
    "# google_prediction_df = pd.DataFrame(goog_price, index = dt_range, columns = [\"Predicted GOOG price\"])"
   ]
  },
  {
   "cell_type": "code",
   "execution_count": null,
   "id": "fe322a24-919c-47f5-9f93-caf642f8432a",
   "metadata": {},
   "outputs": [],
   "source": [
    "# google_prediction_df"
   ]
  }
 ],
 "metadata": {
  "kernelspec": {
   "display_name": "Python 3",
   "language": "python",
   "name": "python3"
  },
  "language_info": {
   "codemirror_mode": {
    "name": "ipython",
    "version": 3
   },
   "file_extension": ".py",
   "mimetype": "text/x-python",
   "name": "python",
   "nbconvert_exporter": "python",
   "pygments_lexer": "ipython3",
   "version": "3.8.8"
  }
 },
 "nbformat": 4,
 "nbformat_minor": 5
}
