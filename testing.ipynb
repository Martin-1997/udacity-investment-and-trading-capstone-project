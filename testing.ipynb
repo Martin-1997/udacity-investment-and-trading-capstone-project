{
 "cells": [
  {
   "cell_type": "markdown",
   "id": "8e6ec90c-dab1-4830-9fc8-533332bd66f3",
   "metadata": {
    "tags": []
   },
   "source": [
    "# Imports"
   ]
  },
  {
   "cell_type": "code",
   "execution_count": 1,
   "id": "4aa44e04-8e6b-4799-b83d-932a61b2bd0d",
   "metadata": {},
   "outputs": [],
   "source": [
    "# Links:\n",
    "# https://www.askpython.com/python/examples/stock-price-prediction-python\n",
    "# https://www.codespeedy.com/predicting-stock-price-using-lstm-python-ml/"
   ]
  },
  {
   "cell_type": "code",
   "execution_count": 2,
   "id": "b223ed6b-4cd8-4925-b121-9a7c25ddd551",
   "metadata": {},
   "outputs": [
    {
     "name": "stderr",
     "output_type": "stream",
     "text": [
      "2021-10-16 12:46:54.014331: W tensorflow/stream_executor/platform/default/dso_loader.cc:64] Could not load dynamic library 'libcudart.so.11.0'; dlerror: libcudart.so.11.0: cannot open shared object file: No such file or directory\n",
      "2021-10-16 12:46:54.014376: I tensorflow/stream_executor/cuda/cudart_stub.cc:29] Ignore above cudart dlerror if you do not have a GPU set up on your machine.\n"
     ]
    }
   ],
   "source": [
    "%%capture\n",
    "# %%capture: Show now output for this cell\n",
    "# Imports\n",
    "import pandas as pd\n",
    "import numpy as np\n",
    "import matplotlib.pyplot as plt\n",
    "from datetime import datetime, timedelta\n",
    "import math\n",
    "from keras.models import Sequential\n",
    "from keras.layers import Dense, LSTM\n",
    "from sklearn.preprocessing import MinMaxScaler\n",
    "from sklearn.pipeline import Pipeline\n",
    "import tensorflow as tf\n",
    "from tensorflow.keras.wrappers.scikit_learn import KerasRegressor\n",
    "# https://pydata.github.io/pandas-datareader/\n",
    "import pandas_datareader as pdr\n",
    "# pickle\n",
    "import pickle"
   ]
  },
  {
   "cell_type": "markdown",
   "id": "f0e48016-6218-4282-8ce6-5358672cf887",
   "metadata": {
    "tags": []
   },
   "source": [
    "# Data importing and visualization"
   ]
  },
  {
   "cell_type": "code",
   "execution_count": 3,
   "id": "ab8e50ae-5008-4722-b36b-fa221f74b284",
   "metadata": {},
   "outputs": [],
   "source": [
    "def get_stock_data(ticker_symbols, start_date, end_date = datetime.today(), date_index = True, columns=\"all\"):\n",
    "    '''\n",
    "    Returns stock data from yahoo for the specified ticker symbols, start and end dates.\n",
    "    \n",
    "    PARAMETERS:\n",
    "    \n",
    "    - ticker_symbols (list<string>): a list of standard ticker symbols which should be queried. Duplicate values will be ignored. If a ticker symbol could not be found, it is also going to be ignored and a error is printed.\n",
    "    \n",
    "    - start_date (datetime.datetime): the first date to fetch data for\n",
    "    \n",
    "    - end_date (datetime.datetime): the last date to fetch data for (default is the current date)\n",
    "    \n",
    "    - date_index (boolean): if true, the date-column will be used as the index for the dataframes (default). Otherwise, a numerical index is used and the date-date will be stored in a seperate column.\n",
    "    \n",
    "    - columns (list<string>): Determines which columns should be returned for each ticker (default = \"all\"). Options are \"High\", \"Low\", \"Open\", \"Close\" and \"Volume\"\n",
    "    \n",
    "    RETURNS:\n",
    "    \n",
    "    - data (dict<pandas.DataFrame>): A dictionary is returned and the data for each stock can be accessed by data[\"ticker_symbol\"]\n",
    "    '''\n",
    "    ticker_symbols = set(ticker_symbols)\n",
    "    data = {}\n",
    "    for ticker in ticker_symbols:\n",
    "        try:\n",
    "            df = pdr.data.DataReader(ticker, 'yahoo', start = start_date, end = end_date)\n",
    "            if date_index:\n",
    "                if \"Date\" in df.columns:\n",
    "                    df.set_index = df[\"Date\"]\n",
    "            else:\n",
    "                df[\"Date\"] = df.index\n",
    "                df.index =  range(1, df.shape[0] + 1)\n",
    "            if columns != \"all\":\n",
    "                if len(columns) > 0:\n",
    "                    for column in df.columns:\n",
    "                        if column not in columns:\n",
    "                            df = df.drop([column], axis = 1)\n",
    "            if df.isnull().sum().sum() != 0:\n",
    "                print(f\"WARN: {df.isnull().sum().sum() } data points are missing for ticker symbol {ticker}\")\n",
    "            data[ticker] = df\n",
    "        except:\n",
    "            print(f\"Data could not be fetched for ticker {ticker}\")\n",
    "    return data"
   ]
  },
  {
   "cell_type": "code",
   "execution_count": 4,
   "id": "270f0f9d-bf31-46ec-b036-170b808837c6",
   "metadata": {},
   "outputs": [],
   "source": [
    "def plot_data(title, df):\n",
    "    '''\n",
    "    Plots the data from a dataframe\n",
    "    '''\n",
    "    ax = df.plot(title = title, fontsize = 12)\n",
    "    ax.set_xlabel(\"Date\")\n",
    "    ax.set_ylabel(\"Price in $\")\n",
    "    plt.show()"
   ]
  },
  {
   "cell_type": "code",
   "execution_count": 5,
   "id": "0884e617-9dd2-4b82-b658-4c890a607520",
   "metadata": {},
   "outputs": [],
   "source": [
    "def tickers_as_columns(data_dict, column=\"Adj Close\"):\n",
    "    '''\n",
    "    This method reformats a dictionary generated by the \"get_stock_data\"-method.\n",
    "    The structure before is the following\n",
    "    dict{\n",
    "            stock1: [[High], [Low], [Close] ...],\n",
    "            stock2: [[High], [Low], [Close] ...],\n",
    "            ...\n",
    "    }\n",
    "    \n",
    "    The method creates a dataframe which keeps the dates as the index, but adds a column for each stock based on a chosen value. The default value is \"Adj Close\".\n",
    "    '''\n",
    "    columns = []\n",
    "    column_names = []\n",
    "    for key in data_dict:\n",
    "        column_names.append(key)\n",
    "        columns.append(data_dict[key][column])\n",
    "    df = pd.DataFrame(columns, index = column_names)\n",
    "    return df.T"
   ]
  },
  {
   "cell_type": "code",
   "execution_count": 6,
   "id": "59108a99-d4e5-4fe2-9b8a-fd1891bd5ae1",
   "metadata": {},
   "outputs": [],
   "source": [
    "def get_adj_close_df(ticker_symbols, start_date, end_date = datetime.today()):\n",
    "    ticker_symbols = set(ticker_symbols)\n",
    "    df = pd.DataFrame()\n",
    "    for ticker in ticker_symbols:\n",
    "        column = pdr.data.DataReader(ticker, 'yahoo', start = start_date, end = end_date)[\"Adj Close\"]\n",
    "        column.name = ticker\n",
    "        df = pd.concat([df, column], axis = 1)\n",
    "   # df = pd.DataFrame(data = columns) #, columns=ticker_symbols, index = range(1, len(columns[1])))\n",
    "    return df"
   ]
  },
  {
   "cell_type": "markdown",
   "id": "8a8d6384-82a5-4dbb-a9a5-5cd5b4565aae",
   "metadata": {
    "jp-MarkdownHeadingCollapsed": true,
    "tags": []
   },
   "source": [
    "# Functions for model training"
   ]
  },
  {
   "cell_type": "code",
   "execution_count": 7,
   "id": "37338657-3bd0-4f0b-a4e1-2f64721f2e46",
   "metadata": {},
   "outputs": [],
   "source": [
    "def get_model(input_shape):\n",
    "    model = Sequential()\n",
    "    model.add(LSTM(units=50, return_sequences=True,input_shape=(input_shape,1)))\n",
    "    model.add(LSTM(units=50, return_sequences=False))\n",
    "    model.add(Dense(units=25))\n",
    "    model.add(Dense(units=1))\n",
    "    model.compile(optimizer='adam', loss='mean_squared_error')\n",
    "    return model"
   ]
  },
  {
   "cell_type": "code",
   "execution_count": 8,
   "id": "c5d2587a-255e-4501-8bba-147582692ae1",
   "metadata": {},
   "outputs": [],
   "source": [
    "def train_test_split(dataset, days = 60, train_fraction = 0.7):\n",
    "    # Get the lenght of 70% of thedata\n",
    "    training_data_len = math.ceil(len(dataset) * train_fraction)\n",
    "    # Get the training data\n",
    "    train_data = dataset[0:training_data_len  , : ]\n",
    "\n",
    "    # Separate the data into x and y data\n",
    "    x_train = []\n",
    "    y_train = []\n",
    "    # Iterate from day 60 to the last day of the training data\n",
    "    le = len(train_data)\n",
    "    for i in range(days,len(train_data)):\n",
    "        # I think these commands are useless\n",
    "        # x_train=list(x_train)\n",
    "        # y_train=list(y_train)\n",
    "        x_train.append(train_data[i-days:i,0])\n",
    "        y_train.append(train_data[i,0])\n",
    "\n",
    "    # Converting the training x and y values to numpy arrays\n",
    "    x_train, y_train = np.array(x_train), np.array(y_train)\n",
    "\n",
    "    # Reshaping training s and y data to make the calculations easier\n",
    "    x_train = np.reshape(x_train, (x_train.shape[0],x_train.shape[1],1))\n",
    " \n",
    "    # Creating a dataset for testing\n",
    "    test_data = dataset[training_data_len - days: , : ]\n",
    "    x_test = []\n",
    "    y_test =  dataset[training_data_len : , : ]\n",
    "    for i in range(days,len(test_data)):\n",
    "        x_test.append(test_data[i-days:i,0])\n",
    "\n",
    "    # 2.  Convert the values into arrays for easier computation\n",
    "    x_test = np.array(x_test)\n",
    "    x_test = np.reshape(x_test, (x_test.shape[0],x_test.shape[1],1))\n",
    "    \n",
    "    return x_train, y_train, x_test, y_test, training_data_len"
   ]
  },
  {
   "cell_type": "code",
   "execution_count": 9,
   "id": "afb8c0a7-cc7e-45c9-a075-dd5c3583d57c",
   "metadata": {},
   "outputs": [],
   "source": [
    "def print_rmse(predictions, y_test): \n",
    "    rmse=np.sqrt(np.mean(((predictions- y_test)**2)))\n",
    "    print(rmse)\n",
    "    return rmse"
   ]
  },
  {
   "cell_type": "code",
   "execution_count": 10,
   "id": "4bbc6328-14b2-47d8-b20c-951d04941f9b",
   "metadata": {},
   "outputs": [],
   "source": [
    "def scale_data(data):\n",
    "    scaler = MinMaxScaler(feature_range=(0, 1))\n",
    "    # Scale/Normalize the data to make all values between 0 and 1\n",
    "    dataset = scaler.fit_transform(data)\n",
    "    return scaler, dataset"
   ]
  },
  {
   "cell_type": "code",
   "execution_count": 11,
   "id": "488957d2-a0dd-4d19-8b6f-bdeefd532dee",
   "metadata": {},
   "outputs": [],
   "source": [
    "def rescale_data(data, scaler):\n",
    "    return scaler.inverse_transform(data)"
   ]
  },
  {
   "cell_type": "code",
   "execution_count": 12,
   "id": "7507566c-d5f1-4ebd-aeed-6de5c3866849",
   "metadata": {},
   "outputs": [],
   "source": [
    "def make_predictions(model, data):\n",
    "    predictions =  model.predict(data).reshape(-1, 1)\n",
    "    return predictions"
   ]
  },
  {
   "cell_type": "code",
   "execution_count": 13,
   "id": "29e78255-f7b8-47ab-ac1f-21f632a9bb61",
   "metadata": {},
   "outputs": [],
   "source": [
    "def plot_approximation(filtered_data, training_data_len, predictions):\n",
    "    train = filtered_data[:training_data_len]\n",
    "    valid = filtered_data[training_data_len:].copy()\n",
    "    valid.loc[:,'Predictions'] = predictions\n",
    "\n",
    "    plt.title('Model')\n",
    "    plt.xlabel('Date')\n",
    "    plt.ylabel('Close')\n",
    "\n",
    "    plt.plot(train['GOOG'])\n",
    "    plt.plot(valid[['GOOG', 'Predictions']])\n",
    "\n",
    "    plt.legend(['Train', 'Val', 'Predictions'], loc='lower right')\n",
    "\n",
    "    plt.show()"
   ]
  },
  {
   "cell_type": "code",
   "execution_count": 14,
   "id": "644d9af4-fed4-49d7-a9f6-7104d531ecd9",
   "metadata": {},
   "outputs": [],
   "source": [
    "def predict_future(dataset, model, model_dict = True, n_days = 5, days_back = 60):\n",
    "    # Take the last n days from the dataset. This is the whole data needed for our prediction\n",
    "    last_n_days = dataset[-days_back:]\n",
    "    # Rescale that data\n",
    "    scaler, scaled_data = scale_data(last_n_days)\n",
    "    # Reshape so that the data can be used with our model\n",
    "    scaled_data = scaled_data.reshape(1, 60, 1)\n",
    "    # create new array which can hold the last 60 days and also the data to be predicted\n",
    "    scaled_data_array = np.zeros((1, days_back + n_days, 1))\n",
    "    # Copy the data to that new array\n",
    "    for i in range(scaled_data.shape[1]):\n",
    "        scaled_data_array[0][i][0] = scaled_data[0][i][0]\n",
    "    # Iterate through the new days which should be predicted and predict them based on the existing data and the previous predictions\n",
    "    for i in range(n_days):\n",
    "        # from 60 + 0 to 60 + 4:\n",
    "        last_60_temp = scaled_data_array[0, i : i  + days_back:, 0].reshape(1, 60 , 1)\n",
    "        # print(f\"Last 60_temp: {last_60_temp}\")\n",
    "        pred = None\n",
    "        if model_dict:\n",
    "            pred = make_predictions(model[\"model\"], last_60_temp)\n",
    "        else:\n",
    "            pred = make_predictions(model, last_60_temp)\n",
    "        #  print(f\"Pred.shape: {pred.shape}\")\n",
    "        #  print(f\"Pred: {pred}\")\n",
    "        scaled_data_array[0, days_back + i, 0]  = pred\n",
    "    \n",
    "    rescaled_prediction = rescale_data(scaled_data_array.reshape(-1, 1), scaler)\n",
    "    \n",
    "    return rescaled_prediction[ - n_days: ,0]"
   ]
  },
  {
   "cell_type": "code",
   "execution_count": 15,
   "id": "3b10bd7e-32d5-45ed-908d-c114fc6323d5",
   "metadata": {},
   "outputs": [],
   "source": [
    "def create_model(ticker, name, start_date, end_date = datetime.today(), pred_base_range = 60):\n",
    "    # Create dictionary to store the model and its metadata\n",
    "    model_dict = {}\n",
    "    model_dict[\"name\"] = name\n",
    "    model_dict[\"ticker\"] = ticker\n",
    "    model_dict[\"start_date\"] = start_date\n",
    "    model_dict[\"end_date\"] = end_date\n",
    "    model_dict[\"pred_base_range\"] = pred_base_range\n",
    "    \n",
    "    # Get the data, rescale it and divide it into training and test set\n",
    "    df = get_adj_close_df([ticker], start_date, end_date = datetime.today())\n",
    "    df_values = df.values\n",
    "    scaler, scaled_dataset = scale_data(df_values)\n",
    "    x_train, y_train, x_test, y_test, training_data_len = train_test_split(scaled_dataset, days = pred_base_range)\n",
    "    \n",
    "    # Train a model with the data\n",
    "    model = get_model(input_shape = x_train.shape[1])\n",
    "    model.fit(x_train, y_train, batch_size=1, epochs=1)\n",
    "    model_dict[\"model\"] = model\n",
    "    \n",
    "    return model_dict\n",
    "    #store_model_keras(\"first_lstm\", first_lstm)"
   ]
  },
  {
   "cell_type": "code",
   "execution_count": 16,
   "id": "4c2e0c7b-7c68-429a-9b17-20896df4968b",
   "metadata": {
    "tags": []
   },
   "outputs": [],
   "source": [
    "def save_model_dict(model_dict, model_dir = \"./models/\"):\n",
    "    model = model_dict[\"model\"]\n",
    "    # First store the model using the Keras function because the model cannot be stored with pickle (weakref-error)\n",
    "    store_model_keras(model_dict[\"name\"] + \"_model\", model)\n",
    "    model_dict[\"model\"] = None\n",
    "    fileObj = open(model_dir + model_dict[\"name\"] + \"_metadata.obj\", 'wb')\n",
    "    pickle.dump(model_dict,fileObj)\n",
    "    model_dict[\"model\"] = model\n",
    "    \n",
    "    fileObj.close()\n",
    "    \n",
    "def load_model_dict(model_name, model_dir = \"./models/\"):\n",
    "    with open(model_dir + model_name + \"_metadata.obj\", 'rb') as file:\n",
    "        # Call load method to deserialze\n",
    "        model_dict = pickle.load(file)\n",
    "\n",
    "    model_dict[\"model\"] = load_model(model_name, model_dir)\n",
    "    return model_dict\n",
    "\n",
    "def load_model(model_name, model_dir = \"./models/\"):\n",
    "    model = tf.keras.models.load_model(model_dir + model_name + \"_model\")\n",
    "    return model\n",
    "\n",
    "def store_model_pickle(name, model, model_dir = \"./models/\"):\n",
    "    try:\n",
    "        model_params = model.get_params()\n",
    "        fileObj = open(f'{model_dir}{name}_params.obj', 'wb')\n",
    "        pickle.dump(model_params,fileObj)\n",
    "        fileObj.close()\n",
    "    except:\n",
    "        pass\n",
    "    fileObj = open(f'{name}.obj', 'wb')\n",
    "    pickle.dump(model,fileObj)\n",
    "    fileObj.close()\n",
    "    \n",
    "def store_model_keras(name, model, model_dir = \"./models/\"):\n",
    "    model.save(f'{model_dir}{name}', save_format=\"h5\" )  # creates a HDF5 file 'my_model.h5'"
   ]
  },
  {
   "cell_type": "markdown",
   "id": "0f90774b-ee17-48e9-ba1d-0e0e5cbae150",
   "metadata": {
    "jp-MarkdownHeadingCollapsed": true,
    "tags": []
   },
   "source": [
    "# Date processing methods"
   ]
  },
  {
   "cell_type": "code",
   "execution_count": 97,
   "id": "2ed5eabd-6a57-424f-b463-78c27d57e0c5",
   "metadata": {},
   "outputs": [],
   "source": [
    "def create_timerange_from_now(include_today = True, n_days = 5, weekends = False):\n",
    "    '''\n",
    "    Returns a list of all future dates from now\n",
    "    '''\n",
    "    day_list = list()\n",
    "    if include_today:\n",
    "        i = 0\n",
    "    else:\n",
    "        i = 1\n",
    "    while len(day_list) < n_days:\n",
    "        next_day = datetime.now() + timedelta(days=i)\n",
    "        i = i + 1\n",
    "        # Consider if the day is on the weekend\n",
    "        if not weekends:\n",
    "            if next_day.weekday() < 5:\n",
    "                day_list.append(next_day)\n",
    "        else:\n",
    "            day_list.append(next_day)\n",
    "    return day_list\n",
    "\n",
    "def extend_df(df, predictions, new_timerange = None):\n",
    "    '''\n",
    "    This methods takes a df of values and appends the predicted values to the dataframe. The new timerange is used as index.\n",
    "    '''\n",
    "    column_name = df.columns[0]\n",
    "    if new_timerange == None:\n",
    "        new_timerange = create_timerange_from_now()\n",
    "    date_index = pd.DatetimeIndex(new_timerange).normalize()\n",
    "    new_df = pd.DataFrame(data = predictions, index = date_index, columns = [column_name])\n",
    "    combined_df = pd.concat([df, new_df])\n",
    "    return combined_df        "
   ]
  },
  {
   "cell_type": "markdown",
   "id": "9d118841-714e-4606-b333-2e2915961876",
   "metadata": {
    "tags": []
   },
   "source": [
    "# Run code"
   ]
  },
  {
   "cell_type": "markdown",
   "id": "fb9d544a-15f1-4fc2-b9e0-580c30ea75ec",
   "metadata": {},
   "source": [
    "## Test data fetching and visualization"
   ]
  },
  {
   "cell_type": "code",
   "execution_count": 17,
   "id": "d332326d-9715-4ef2-9645-7b6d7c850272",
   "metadata": {},
   "outputs": [
    {
     "data": {
      "image/png": "[encoded data removed]",
      "text/plain": [
       "<Figure size 432x288 with 1 Axes>"
      ]
     },
     "metadata": {
      "needs_background": "light"
     },
     "output_type": "display_data"
    }
   ],
   "source": [
    "# Define a date range\n",
    "start_date = datetime(2005, 1, 29)\n",
    "end_date = datetime.today()\n",
    "\n",
    "# Define ticker symbols\n",
    "ticker_symbols = ['GOOG', \"AAPL\"]\n",
    "\n",
    "# Create a dataframe with the apple stock price\n",
    "apple_df = get_stock_data(ticker_symbols, start_date, end_date, columns=[\"Adj Close\"])[\"AAPL\"]\n",
    "\n",
    "# Plot the data\n",
    "plot_data(title=\"Apple\" , df=apple_df)"
   ]
  },
  {
   "cell_type": "code",
   "execution_count": 18,
   "id": "2c17fabf-0da3-4ef8-bea9-229e87aeefac",
   "metadata": {},
   "outputs": [
    {
     "data": {
      "image/png": "[encoded data removed]",
      "text/plain": [
       "<Figure size 432x288 with 1 Axes>"
      ]
     },
     "metadata": {
      "needs_background": "light"
     },
     "output_type": "display_data"
    }
   ],
   "source": [
    "# Get data for multiple ticker symbols\n",
    "data = get_stock_data(ticker_symbols, start_date)\n",
    "formated_data = tickers_as_columns(data)\n",
    "\n",
    "plot_data(title=\"Tech companies\", df = formated_data)"
   ]
  },
  {
   "cell_type": "markdown",
   "id": "c55aa2db-9c24-4d34-a28d-74592634e382",
   "metadata": {},
   "source": [
    "## Train and store models"
   ]
  },
  {
   "cell_type": "code",
   "execution_count": 19,
   "id": "12b3d2a2-bd77-4aff-8117-d7cdb541f3ce",
   "metadata": {},
   "outputs": [],
   "source": [
    "pred_base_range = 60\n",
    "# ABNB_model = create_model(\"ABNB\", \"AirBNB Model\", start_date, end_date = datetime.today(), pred_base_range = pred_base_range)\n",
    "# BTC_USD_model = create_model(\"BTC-USD\", \"BTC-USD Model\", start_date, end_date = datetime.today(), pred_base_range = pred_base_range)\n",
    "# GOOG_model = create_model(\"GOOG\", \"Google Model\", start_date, end_date = datetime.today(), pred_base_range = pred_base_range)\n",
    "# AAPL_model = create_model(\"AAPL\", \"Apple Model\", start_date, end_date = datetime.today(), pred_base_range = pred_base_range)\n",
    "# save_model_dict(ABNB_model)\n",
    "# save_model_dict(BTC_USD_model)\n",
    "# save_model_dict(GOOG_model)\n",
    "# save_model_dict(AAPL_model)"
   ]
  },
  {
   "cell_type": "markdown",
   "id": "d85685f4-e126-4498-abd5-7b4636d282ad",
   "metadata": {},
   "source": [
    "## Load models"
   ]
  },
  {
   "cell_type": "code",
   "execution_count": 20,
   "id": "b99fbee0-d148-4883-b906-42c0c569d6e1",
   "metadata": {},
   "outputs": [
    {
     "name": "stderr",
     "output_type": "stream",
     "text": [
      "2021-10-16 12:47:00.664884: W tensorflow/stream_executor/platform/default/dso_loader.cc:64] Could not load dynamic library 'libcuda.so.1'; dlerror: libcuda.so.1: cannot open shared object file: No such file or directory\n",
      "2021-10-16 12:47:00.664918: W tensorflow/stream_executor/cuda/cuda_driver.cc:269] failed call to cuInit: UNKNOWN ERROR (303)\n",
      "2021-10-16 12:47:00.664941: I tensorflow/stream_executor/cuda/cuda_diagnostics.cc:156] kernel driver does not appear to be running on this host (martin-ThinkPad-T490): /proc/driver/nvidia/version does not exist\n",
      "2021-10-16 12:47:00.665190: I tensorflow/core/platform/cpu_feature_guard.cc:142] This TensorFlow binary is optimized with oneAPI Deep Neural Network Library (oneDNN) to use the following CPU instructions in performance-critical operations:  AVX2 FMA\n",
      "To enable them in other operations, rebuild TensorFlow with the appropriate compiler flags.\n"
     ]
    },
    {
     "data": {
      "text/plain": [
       "{'name': 'BTC-USD Model',\n",
       " 'ticker': 'BTC-USD',\n",
       " 'start_date': datetime.datetime(2005, 1, 29, 0, 0),\n",
       " 'end_date': datetime.datetime(2021, 10, 16, 11, 48, 18, 533354),\n",
       " 'pred_base_range': 60,\n",
       " 'model': <keras.engine.sequential.Sequential at 0x7f20ad7b5670>}"
      ]
     },
     "execution_count": 20,
     "metadata": {},
     "output_type": "execute_result"
    }
   ],
   "source": [
    "loaded_model = load_model_dict(\"BTC-USD Model\")\n",
    "loaded_model"
   ]
  },
  {
   "cell_type": "markdown",
   "id": "86a39dbf-315b-45fb-8db8-cb91d4842b2c",
   "metadata": {},
   "source": [
    "## Predict future data based on model"
   ]
  },
  {
   "cell_type": "code",
   "execution_count": 100,
   "id": "9f40761f-2a14-489d-9339-c641d1d53fb9",
   "metadata": {},
   "outputs": [
    {
     "data": {
      "text/plain": [
       "array([56564.7469251 , 56325.23838143, 55657.63416531, 54823.83025432,\n",
       "       53958.16121777, 53128.88437454, 52369.59271011, 51694.61737128,\n",
       "       51107.14686382, 50603.87620403, 50177.79242329, 49819.94665224,\n",
       "       49520.61142566, 49270.04370641, 49058.99813582, 48879.05342109,\n",
       "       48722.81601594, 48584.00483186, 48457.48861071, 48339.22737429])"
      ]
     },
     "execution_count": 100,
     "metadata": {},
     "output_type": "execute_result"
    }
   ],
   "source": [
    "df_btc_usd = get_adj_close_df([\"BTC-USD\"], start_date, end_date = datetime.today())\n",
    "df_btc_usd_values = df_btc_usd.values\n",
    "predict_future(df_values, loaded_model, n_days = 20)"
   ]
  },
  {
   "cell_type": "markdown",
   "id": "d03ec76e-7395-474e-a8c1-d4c45a7ef0f2",
   "metadata": {},
   "source": [
    "## Test Bitcoin prediction for 500 days"
   ]
  },
  {
   "cell_type": "code",
   "execution_count": 101,
   "id": "76a7730f-7269-41ab-a2b4-47f59dad54bb",
   "metadata": {},
   "outputs": [
    {
     "name": "stdout",
     "output_type": "stream",
     "text": [
      "1309/1309 [==============================] - 231s 175ms/step - loss: 2.9157e-04\n"
     ]
    }
   ],
   "source": [
    "BTC_USD_model_500 = create_model(\"BTC-USD\", \"BTC-USD Model 500d\", start_date, end_date = datetime.today(), pred_base_range = 500)\n",
    "save_model_dict(BTC_USD_model_500)"
   ]
  },
  {
   "cell_type": "code",
   "execution_count": 102,
   "id": "a1a5e693-b70a-4e16-a0bb-e4b6dcc383c8",
   "metadata": {},
   "outputs": [
    {
     "data": {
      "text/html": [
       "<div>\n",
       "<style scoped>\n",
       "    .dataframe tbody tr th:only-of-type {\n",
       "        vertical-align: middle;\n",
       "    }\n",
       "\n",
       "    .dataframe tbody tr th {\n",
       "        vertical-align: top;\n",
       "    }\n",
       "\n",
       "    .dataframe thead th {\n",
       "        text-align: right;\n",
       "    }\n",
       "</style>\n",
       "<table border=\"1\" class=\"dataframe\">\n",
       "  <thead>\n",
       "    <tr style=\"text-align: right;\">\n",
       "      <th></th>\n",
       "      <th>BTC-USD</th>\n",
       "    </tr>\n",
       "  </thead>\n",
       "  <tbody>\n",
       "    <tr>\n",
       "      <th>2014-09-16</th>\n",
       "      <td>457.334015</td>\n",
       "    </tr>\n",
       "    <tr>\n",
       "      <th>2014-09-17</th>\n",
       "      <td>424.440002</td>\n",
       "    </tr>\n",
       "    <tr>\n",
       "      <th>2014-09-18</th>\n",
       "      <td>394.795990</td>\n",
       "    </tr>\n",
       "    <tr>\n",
       "      <th>2014-09-19</th>\n",
       "      <td>408.903992</td>\n",
       "    </tr>\n",
       "    <tr>\n",
       "      <th>2014-09-20</th>\n",
       "      <td>398.821014</td>\n",
       "    </tr>\n",
       "    <tr>\n",
       "      <th>...</th>\n",
       "      <td>...</td>\n",
       "    </tr>\n",
       "    <tr>\n",
       "      <th>2021-10-17</th>\n",
       "      <td>56390.694001</td>\n",
       "    </tr>\n",
       "    <tr>\n",
       "      <th>2021-10-18</th>\n",
       "      <td>56312.437020</td>\n",
       "    </tr>\n",
       "    <tr>\n",
       "      <th>2021-10-19</th>\n",
       "      <td>55936.339093</td>\n",
       "    </tr>\n",
       "    <tr>\n",
       "      <th>2021-10-20</th>\n",
       "      <td>55435.830269</td>\n",
       "    </tr>\n",
       "    <tr>\n",
       "      <th>2021-10-21</th>\n",
       "      <td>54896.349295</td>\n",
       "    </tr>\n",
       "  </tbody>\n",
       "</table>\n",
       "<p>2588 rows × 1 columns</p>\n",
       "</div>"
      ],
      "text/plain": [
       "                 BTC-USD\n",
       "2014-09-16    457.334015\n",
       "2014-09-17    424.440002\n",
       "2014-09-18    394.795990\n",
       "2014-09-19    408.903992\n",
       "2014-09-20    398.821014\n",
       "...                  ...\n",
       "2021-10-17  56390.694001\n",
       "2021-10-18  56312.437020\n",
       "2021-10-19  55936.339093\n",
       "2021-10-20  55435.830269\n",
       "2021-10-21  54896.349295\n",
       "\n",
       "[2588 rows x 1 columns]"
      ]
     },
     "execution_count": 102,
     "metadata": {},
     "output_type": "execute_result"
    }
   ],
   "source": [
    "predictions = predict_future(df_btc_usd_values, BTC_USD_model_500, n_days = 5)\n",
    "timerange = create_timerange_from_now(include_today = False, weekends = True)\n",
    "extend_df(df, predictions, timerange)"
   ]
  },
  {
   "cell_type": "code",
   "execution_count": null,
   "id": "a51bcb42-a59c-491a-94a8-9f14251e4a86",
   "metadata": {},
   "outputs": [],
   "source": []
  },
  {
   "cell_type": "code",
   "execution_count": null,
   "id": "f78d85a5-eb05-479c-bfaa-636e899bfcb1",
   "metadata": {},
   "outputs": [],
   "source": []
  },
  {
   "cell_type": "code",
   "execution_count": null,
   "id": "82bd1424-7254-4653-b9b9-fbd1fd8c596e",
   "metadata": {},
   "outputs": [],
   "source": []
  },
  {
   "cell_type": "code",
   "execution_count": null,
   "id": "faa35548-dc5b-45a4-9e2c-0c915f41d7f5",
   "metadata": {},
   "outputs": [],
   "source": []
  },
  {
   "cell_type": "code",
   "execution_count": null,
   "id": "fe2b334c-74b3-4f6f-81a4-62c44cc35825",
   "metadata": {},
   "outputs": [],
   "source": []
  },
  {
   "cell_type": "code",
   "execution_count": null,
   "id": "5b6622a7-bbbc-4734-b549-2e175cbb508c",
   "metadata": {},
   "outputs": [],
   "source": []
  },
  {
   "cell_type": "code",
   "execution_count": null,
   "id": "4999f7bb-1a71-4437-894e-ca8c094118df",
   "metadata": {},
   "outputs": [],
   "source": []
  },
  {
   "cell_type": "code",
   "execution_count": null,
   "id": "f929591a-ce90-4085-8a45-3aec54b21406",
   "metadata": {},
   "outputs": [],
   "source": []
  },
  {
   "cell_type": "code",
   "execution_count": null,
   "id": "c5bc84cc-8fbd-432e-9ac3-5fa7ef1bdf88",
   "metadata": {},
   "outputs": [],
   "source": []
  },
  {
   "cell_type": "code",
   "execution_count": null,
   "id": "b39e0dcc-fb2a-4632-bd69-f3835688fea4",
   "metadata": {},
   "outputs": [],
   "source": []
  },
  {
   "cell_type": "code",
   "execution_count": null,
   "id": "a41860bc-c5db-454e-b7fb-116bd55a6672",
   "metadata": {},
   "outputs": [],
   "source": []
  },
  {
   "cell_type": "code",
   "execution_count": null,
   "id": "e159cfcb-c046-4fff-a8e9-067fc8e5e212",
   "metadata": {},
   "outputs": [],
   "source": []
  },
  {
   "cell_type": "code",
   "execution_count": null,
   "id": "41836dfd-6655-45d1-8867-096f838c5e1a",
   "metadata": {},
   "outputs": [],
   "source": []
  },
  {
   "cell_type": "code",
   "execution_count": null,
   "id": "cb2906f1-27a5-444c-9984-87d01e6bb5a3",
   "metadata": {},
   "outputs": [],
   "source": []
  },
  {
   "cell_type": "code",
   "execution_count": null,
   "id": "635a07f7-d257-4cb6-8492-33710e56699e",
   "metadata": {},
   "outputs": [],
   "source": []
  },
  {
   "cell_type": "code",
   "execution_count": null,
   "id": "c11b4388-3ec5-4d05-b3f3-0dbbaeb8c931",
   "metadata": {},
   "outputs": [],
   "source": []
  },
  {
   "cell_type": "code",
   "execution_count": null,
   "id": "df8044b4-a6c7-4998-8824-2f3a71ac309f",
   "metadata": {},
   "outputs": [],
   "source": []
  },
  {
   "cell_type": "code",
   "execution_count": null,
   "id": "67cb33f3-b4ab-42b4-969e-a170a501a66a",
   "metadata": {},
   "outputs": [],
   "source": []
  },
  {
   "cell_type": "code",
   "execution_count": null,
   "id": "1dc2de3d-ddbf-4bbd-9519-c7055e3bc16b",
   "metadata": {},
   "outputs": [],
   "source": []
  },
  {
   "cell_type": "code",
   "execution_count": null,
   "id": "036cb902-52de-4e57-8ce4-e7fd36735014",
   "metadata": {},
   "outputs": [],
   "source": []
  },
  {
   "cell_type": "code",
   "execution_count": null,
   "id": "cf7d8387-39c3-42a6-9b63-4610ea04a238",
   "metadata": {},
   "outputs": [],
   "source": []
  },
  {
   "cell_type": "code",
   "execution_count": null,
   "id": "2be454c0-9f61-4d59-92f4-3e435903bf27",
   "metadata": {},
   "outputs": [],
   "source": []
  },
  {
   "cell_type": "code",
   "execution_count": null,
   "id": "2692587c-e687-4315-b505-8820993f9b1b",
   "metadata": {},
   "outputs": [],
   "source": []
  },
  {
   "cell_type": "markdown",
   "id": "7f2f96d6-ecd4-4482-8f73-99a32083b66c",
   "metadata": {},
   "source": [
    "## Preprocess the data and divide it into train and test set"
   ]
  },
  {
   "cell_type": "code",
   "execution_count": null,
   "id": "54e02094-f576-40d5-9919-153e1913afd2",
   "metadata": {},
   "outputs": [],
   "source": []
  },
  {
   "cell_type": "markdown",
   "id": "508f2e86-338d-405d-a94e-669e364826a3",
   "metadata": {
    "tags": []
   },
   "source": [
    "### Create model"
   ]
  },
  {
   "cell_type": "code",
   "execution_count": 25,
   "id": "409bb86f-34b7-4cb3-ad38-d551dad66fd0",
   "metadata": {},
   "outputs": [],
   "source": [
    "# first_lstm = get_model(input_shape = x_train.shape[1])\n",
    "# first_lstm.fit(x_train, y_train, batch_size=1, epochs=1)\n",
    "# store_model_keras(\"first_lstm\", first_lstm)"
   ]
  },
  {
   "cell_type": "markdown",
   "id": "636cdb83-4e12-4d15-b302-11f561aa18e4",
   "metadata": {},
   "source": [
    "### Load model from disk"
   ]
  },
  {
   "cell_type": "code",
   "execution_count": 26,
   "id": "96362401-feb1-4d9a-80b0-4ddde77bf843",
   "metadata": {},
   "outputs": [],
   "source": [
    "# google_model = load_model(\"Google Model\")"
   ]
  },
  {
   "cell_type": "code",
   "execution_count": 27,
   "id": "7a69488e-558a-4763-9eaa-e1375a478201",
   "metadata": {},
   "outputs": [],
   "source": [
    "# model_dict = {}\n",
    "# model_dict[\"name\"] = \"Google Model\"\n",
    "# model_dict[\"model\"] = google_model\n",
    "# model_dict[\"start_date\"] = start_date\n",
    "# model_dict[\"end_date\"] = end_date\n",
    "# model_dict[\"ticker_symbols\"] = [\"GOOG\"]\n",
    "# model_dict[\"pred_base_range\"] =  pred_base_range"
   ]
  },
  {
   "cell_type": "code",
   "execution_count": 28,
   "id": "96578c46-5261-421c-9255-7db74e975ada",
   "metadata": {},
   "outputs": [],
   "source": [
    "# test_dates = []\n",
    "# test_dates.append(datetime(year = 2021, month = 9, day = 15))\n",
    "# test_dates.append(datetime(year = 2021, month = 9, day = 17))\n",
    "# test_dates.append(datetime(year = 2020, month = 9, day = 17))\n",
    "# test_dates.append(datetime(year = 2021, month = 10, day = 17))"
   ]
  },
  {
   "cell_type": "code",
   "execution_count": 29,
   "id": "381cfc4f-c1f0-4323-bdd2-d79c7cdd94e0",
   "metadata": {},
   "outputs": [],
   "source": [
    "# # Making predictions on the testing data\n",
    "# prediction = make_predictions(first_lstm, x_test)\n",
    "# predictions = rescale_data(prediction, scaler)"
   ]
  },
  {
   "cell_type": "code",
   "execution_count": 30,
   "id": "bd9150ff-cc5a-4d45-aef3-91aae6960dba",
   "metadata": {},
   "outputs": [],
   "source": [
    "# prediction.shape"
   ]
  },
  {
   "cell_type": "code",
   "execution_count": 31,
   "id": "aac4ed5a-1ec0-4f3e-9c24-5d0e8fa12f0e",
   "metadata": {},
   "outputs": [],
   "source": [
    "# plot_approximation(filtered_data=filtered_data, training_data_len= training_data_len, predictions=predictions)"
   ]
  },
  {
   "cell_type": "code",
   "execution_count": 32,
   "id": "aa18fc33-5955-4387-b17e-edeacc762ee7",
   "metadata": {},
   "outputs": [],
   "source": [
    "# goog_price = predict_future(dataset, google_model)"
   ]
  },
  {
   "cell_type": "code",
   "execution_count": 33,
   "id": "504d5a31-11bb-4c54-94a6-33111f742f04",
   "metadata": {},
   "outputs": [],
   "source": [
    "# dt1 = datetime(year = 2021, month = 9, day=20)\n",
    "# dt2 = datetime(year = 2021, month = 9, day=24)\n",
    "# dt_range  = pd.date_range(start = dt1, end = dt2)"
   ]
  },
  {
   "cell_type": "code",
   "execution_count": 34,
   "id": "913fc934-3d7f-497d-8867-b3d289126007",
   "metadata": {},
   "outputs": [],
   "source": [
    "# google_prediction_df = pd.DataFrame(goog_price, index = dt_range, columns = [\"Predicted GOOG price\"])"
   ]
  },
  {
   "cell_type": "code",
   "execution_count": 35,
   "id": "fe322a24-919c-47f5-9f93-caf642f8432a",
   "metadata": {},
   "outputs": [],
   "source": [
    "# google_prediction_df"
   ]
  }
 ],
 "metadata": {
  "kernelspec": {
   "display_name": "Python 3 (ipykernel)",
   "language": "python",
   "name": "python3"
  },
  "language_info": {
   "codemirror_mode": {
    "name": "ipython",
    "version": 3
   },
   "file_extension": ".py",
   "mimetype": "text/x-python",
   "name": "python",
   "nbconvert_exporter": "python",
   "pygments_lexer": "ipython3",
   "version": "3.8.11"
  }
 },
 "nbformat": 4,
 "nbformat_minor": 5
}
