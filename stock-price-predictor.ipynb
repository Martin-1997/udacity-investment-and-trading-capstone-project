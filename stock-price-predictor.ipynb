{
 "cells": [
  {
   "cell_type": "code",
   "execution_count": 1,
   "id": "031bc05e-45c2-4a14-8407-0147a167de38",
   "metadata": {},
   "outputs": [],
   "source": [
    "%%capture\n",
    "# %%capture: Show now output for this cell\n",
    "# Imports\n",
    "import pandas as pd\n",
    "import numpy as np\n",
    "import matplotlib.pyplot as plt\n",
    "import datetime as dt\n",
    "\n",
    "# https://pydata.github.io/pandas-datareader/\n",
    "!pip install pandas-datareader\n",
    "import pandas_datareader as pdr"
   ]
  },
  {
   "cell_type": "markdown",
   "id": "8e810f90-577b-45b6-9200-da562ec0dbfd",
   "metadata": {},
   "source": [
    "# Implement stock predictor\n",
    "For your core stock predictor, implement:\n",
    "\n",
    "- A training interface that accepts a data range (start_date, end_date) and a list of ticker symbols (e.g. GOOG, AAPL), and builds a model of stock behavior. Your code should read the desired historical prices from the data source of your choice.\n",
    "- A query interface that accepts a list of dates and a list of ticker symbols, and outputs the predicted stock prices for each of those stocks on the given dates. Note that the query dates passed in must be after the training date range, and ticker symbols must be a subset of the ones trained on."
   ]
  },
  {
   "cell_type": "code",
   "execution_count": 36,
   "id": "6f9c8412-e9ec-49a5-a765-de9d08e3d2dc",
   "metadata": {},
   "outputs": [],
   "source": [
    "# Define a date range\n",
    "start = dt.datetime(2018, 1, 29)\n",
    "end = dt.datetime.today()\n",
    "\n",
    "# Define ticker symbols\n",
    "ticker_symbols = ['GOOG', \"AAPL\"]"
   ]
  },
  {
   "cell_type": "code",
   "execution_count": null,
   "id": "74ab01f2-ab02-4804-a568-d635c51dc87b",
   "metadata": {},
   "outputs": [],
   "source": [
    "def get_stock_data(ticker_symbols, start_date, end_date = dt.datetime.today(), date_index = False, columns=\"all\"):\n",
    "    '''\n",
    "    Returns stock data from yahoo for the specified ticker symbols, start and end dates.\n",
    "    A dictionary is returned and the data for each stock can be accessed by data[\"ticker_symbol\"]\n",
    "    '''\n",
    "    ticker_symbols = set(ticker_symbols)\n",
    "    data = {}\n",
    "    for ticker in ticker_symbols:\n",
    "        df = pdr.data.DataReader(ticker, 'yahoo', start = start_date, end = end_date)\n",
    "        if date_index:\n",
    "            if \"Date\" in df.columns:\n",
    "                df.set_index = df[\"Date\"]\n",
    "        else:\n",
    "            df[\"Date\"] = df.index\n",
    "            df.index =  range(1, df.shape[0] + 1)\n",
    "        if columns != \"all\":\n",
    "            if len(columns) > 0:\n",
    "                for column in df.columns:\n",
    "                    if column not in columns:\n",
    "                        df = df.drop([column], axis = 1)\n",
    "        if df.isnull().sum().sum() != 0:\n",
    "            print(f\"WARN: {df.isnull().sum().sum() } data points are missing for ticker symbol {ticker}\")\n",
    "        data[ticker] = df\n",
    "    return data"
   ]
  },
  {
   "cell_type": "code",
   "execution_count": 19,
   "id": "f46ad58c-245d-4d46-948e-89f28744726e",
   "metadata": {},
   "outputs": [],
   "source": [
    "#get_stock_data(ticker_symbols, start)"
   ]
  },
  {
   "cell_type": "code",
   "execution_count": 10,
   "id": "e27fb09b-3854-43a7-b35b-7ec966f3cdce",
   "metadata": {},
   "outputs": [],
   "source": [
    "def get_model(name):\n",
    "    model_dict = {}\n",
    "    model_dict[\"name\"] = name\n",
    "    \n",
    "    return model_dict"
   ]
  },
  {
   "cell_type": "code",
   "execution_count": 11,
   "id": "aa24ee4a-c690-4c8d-b412-74aa466fff72",
   "metadata": {},
   "outputs": [],
   "source": [
    "def train_model(model_dict, ticker_symbols, start_date, end_date = dt.datetime.today()):\n",
    "    ticker_symbols = set(ticker_symbols)\n",
    "    data = get_stock_data(ticker_symbols, start_date, end_date)\n",
    "    \n",
    "    model_dict[\"ticker_symbols\"] = ticker_symbols\n",
    "    model_dict[\"start_date\"] = start_date\n",
    "    model_dict[\"end_date\"] = end_date\n",
    "    \n",
    "    return model_dict   "
   ]
  },
  {
   "cell_type": "code",
   "execution_count": 34,
   "id": "430881ca-737b-44c7-a9ba-fd831f782e3d",
   "metadata": {},
   "outputs": [],
   "source": [
    "def make_prediction(model_dict, dates, ticker_symbols):\n",
    "    '''\n",
    "    \n",
    "    '''\n",
    "    \n",
    "    # Check if the model was trained for all the provided ticker symbols:\n",
    "    ticker_symbols = set(ticker_symbols)\n",
    "    for ticker in ticker_symbols:\n",
    "        if ticker not in model_dict[\"ticker_symbols\"]:\n",
    "            print(f\"WARN: model {model['name']} was not trained to predict prices for {ticker}!\")\n",
    "            ticker_symbols.drop(ticker)\n",
    "            \n",
    "    # Check if the date ranges are outside the range which were used for training:\n",
    "    for date in dates:\n",
    "        if (date > model[\"start_date\"]) and (date < mode[\"end_date\"]):\n",
    "            print(f\"WARN: the model was trained with the date {date} and therefore no predictions for that date can be made!\")\n",
    "            dates.drop(date)\n",
    "            \n",
    "    # Initialize a result dictionary\n",
    "    result = {}\n",
    "    for ticker in ticker_symbols:\n",
    "        for date in dates:\n",
    "            prediction = 0\n",
    "            result[ticker][date] = prediction\n",
    "        \n",
    "    return result"
   ]
  },
  {
   "cell_type": "markdown",
   "id": "cc645ff7-774e-4526-a721-a645ac1aa14d",
   "metadata": {},
   "source": [
    "# Test and measure performance\n",
    "A basic run of the core system would involve one call to the training interface, and one or more calls to the query interface. Implement a train-test cycle to measure the performance of your model. Use it to test prediction accuracy for query dates at different intervals after the training end date, e.g. the day immediately after training end date, 7 days later, 14 days, 28 days, etc.\n",
    "\n",
    "(Note: Pick the training period accordingly so that you have ground truth data for that many days in the future.)"
   ]
  },
  {
   "cell_type": "code",
   "execution_count": null,
   "id": "2f50e8bd-1223-498d-b498-90dc92cd615a",
   "metadata": {},
   "outputs": [],
   "source": []
  }
 ],
 "metadata": {
  "kernelspec": {
   "display_name": "Python 3 (ipykernel)",
   "language": "python",
   "name": "python3"
  },
  "language_info": {
   "codemirror_mode": {
    "name": "ipython",
    "version": 3
   },
   "file_extension": ".py",
   "mimetype": "text/x-python",
   "name": "python",
   "nbconvert_exporter": "python",
   "pygments_lexer": "ipython3",
   "version": "3.8.11"
  }
 },
 "nbformat": 4,
 "nbformat_minor": 5
}
