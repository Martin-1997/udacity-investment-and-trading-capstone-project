{
 "cells": [
  {
   "cell_type": "code",
   "execution_count": 288,
   "id": "031bc05e-45c2-4a14-8407-0147a167de38",
   "metadata": {},
   "outputs": [],
   "source": [
    "%%capture\n",
    "# %%capture: Show now output for this cell\n",
    "# Imports\n",
    "import pandas as pd\n",
    "import numpy as np\n",
    "import matplotlib.pyplot as plt\n",
    "from datetime import datetime\n",
    "import math\n",
    "\n",
    "# https://pydata.github.io/pandas-datareader/\n",
    "!pip install pandas-datareader\n",
    "import pandas_datareader as pdr"
   ]
  },
  {
   "cell_type": "markdown",
   "id": "8e810f90-577b-45b6-9200-da562ec0dbfd",
   "metadata": {},
   "source": [
    "# Implement stock predictor\n",
    "For your core stock predictor, implement:\n",
    "\n",
    "- A training interface that accepts a data range (start_date, end_date) and a list of ticker symbols (e.g. GOOG, AAPL), and builds a model of stock behavior. Your code should read the desired historical prices from the data source of your choice.\n",
    "- A query interface that accepts a list of dates and a list of ticker symbols, and outputs the predicted stock prices for each of those stocks on the given dates. Note that the query dates passed in must be after the training date range, and ticker symbols must be a subset of the ones trained on."
   ]
  },
  {
   "cell_type": "code",
   "execution_count": 3,
   "id": "74ab01f2-ab02-4804-a568-d635c51dc87b",
   "metadata": {},
   "outputs": [],
   "source": [
    "def get_stock_data_dict(ticker_symbols, start_date, end_date = datetime.today(), date_index = True, columns=\"all\"):\n",
    "    '''\n",
    "    Returns stock data from yahoo for the specified ticker symbols, start and end dates.\n",
    "    A dictionary is returned and the data for each stock can be accessed by data[\"ticker_symbol\"]\n",
    "    '''\n",
    "    ticker_symbols = set(ticker_symbols)\n",
    "    data = {}\n",
    "    for ticker in ticker_symbols:\n",
    "        df = pdr.data.DataReader(ticker, 'yahoo', start = start_date, end = end_date)\n",
    "        if date_index:\n",
    "            if \"Date\" in df.columns:\n",
    "                df.set_index = df[\"Date\"]\n",
    "        else:\n",
    "            df[\"Date\"] = df.index\n",
    "            df.index =  range(1, df.shape[0] + 1)\n",
    "        if columns != \"all\":\n",
    "            if len(columns) > 0:\n",
    "                for column in df.columns:\n",
    "                    if column not in columns:\n",
    "                        df = df.drop([column], axis = 1)\n",
    "        if df.isnull().sum().sum() != 0:\n",
    "            print(f\"WARN: {df.isnull().sum().sum() } data points are missing for ticker symbol {ticker}\")\n",
    "        data[ticker] = df\n",
    "    return data"
   ]
  },
  {
   "cell_type": "code",
   "execution_count": 158,
   "id": "722bb14c-efcf-4ef3-b913-a2210819fc12",
   "metadata": {},
   "outputs": [],
   "source": [
    "def get_stock_data(ticker_symbols, start_date, end_date = datetime.today(), date_index = True, columns=\"all\"):\n",
    "    '''\n",
    "    Returns stock data from yahoo for the specified ticker symbols, start and end dates.\n",
    "    A dictionary is returned and the data for each stock can be accessed by data[\"ticker_symbol\"]\n",
    "    '''\n",
    "    ticker_symbols = set(ticker_symbols)\n",
    "    df = pd.DataFrame()\n",
    "    for ticker in ticker_symbols:\n",
    "        df_ticker = pdr.data.DataReader(ticker, 'yahoo', start = start_date, end = end_date)\n",
    "        if date_index:\n",
    "            if \"Date\" in df_ticker.columns:\n",
    "                df_ticker.set_index = df_ticker[\"Date\"]\n",
    "        else:\n",
    "            df_ticker[\"Date\"] = df_ticker.index\n",
    "            df_ticker.index =  range(1, df_ticker.shape[0] + 1)\n",
    "        if columns != \"all\":\n",
    "            if len(columns) > 0:\n",
    "                for column in df_ticker.columns:\n",
    "                    if column not in columns:\n",
    "                        df_ticker = df_ticker.drop([column], axis = 1)\n",
    "        if df_ticker.isnull().sum().sum() != 0:\n",
    "            print(f\"WARN: {df_ticker.isnull().sum().sum() } data points are missing for ticker symbol {ticker}\")\n",
    "        df_ticker[\"Name\"] = ticker\n",
    "        df = df.append(df_ticker)\n",
    "    return df"
   ]
  },
  {
   "cell_type": "code",
   "execution_count": 159,
   "id": "a48a98b4-03fd-4a48-bed1-0c6ca3782471",
   "metadata": {},
   "outputs": [],
   "source": [
    "def plot_data(title, df):\n",
    "    '''\n",
    "    '''\n",
    "    ax = df.plot(title = title, fontsize = 12)\n",
    "    ax.set_xlabel(\"Date\")\n",
    "    ax.set_ylabel(\"Price in $\")\n",
    "    plt.show()"
   ]
  },
  {
   "cell_type": "code",
   "execution_count": 160,
   "id": "3e6f6ef3-ec99-41fe-81b2-e8c378a3a7df",
   "metadata": {},
   "outputs": [],
   "source": [
    "def tickers_as_columns(data_dict, column=\"Adj Close\"):\n",
    "    '''\n",
    "    '''\n",
    "    index = []\n",
    "    columns = []\n",
    "    column_names = []\n",
    "    for key in data_dict:\n",
    "        column_names.append(key)\n",
    "        index\n",
    "        columns.append(data_dict[key][column])\n",
    "    df = pd.DataFrame(columns, index = column_names).T\n",
    "  #  df.index = data_dict[key][column].index\n",
    "    return df"
   ]
  },
  {
   "cell_type": "code",
   "execution_count": 261,
   "id": "908b1181-e6ca-4e45-8e10-8ea5575afd17",
   "metadata": {},
   "outputs": [],
   "source": [
    "# Define a date range\n",
    "start_date = datetime(2015, 1, 29)\n",
    "end_date = datetime.today()\n",
    "\n",
    "# Define ticker symbols\n",
    "ticker_symbols = ['GOOG', \"AAPL\", 'SPY','GLD' ]#,'BTC-USD']\n",
    "\n",
    "# Create a dataframe with the apple stock price\n",
    "# df = get_stock_data(ticker_symbols, start_date, end_date, date_index=True, columns=[\"Adj Close\"])"
   ]
  },
  {
   "cell_type": "code",
   "execution_count": 230,
   "id": "6245098e-9922-4824-a524-30957872d85d",
   "metadata": {},
   "outputs": [],
   "source": [
    "def get_adj_close_df(ticker_symbols, start_date, end_date = datetime.today()):\n",
    "    ticker_symbols = set(ticker_symbols)\n",
    "    df = pd.DataFrame()\n",
    "    for ticker in ticker_symbols:\n",
    "        column = pdr.data.DataReader(ticker, 'yahoo', start = start_date, end = end_date)[\"Adj Close\"]\n",
    "        column.name = ticker\n",
    "        df = pd.concat([df, column], axis = 1)\n",
    "   # df = pd.DataFrame(data = columns) #, columns=ticker_symbols, index = range(1, len(columns[1])))\n",
    "    return df"
   ]
  },
  {
   "cell_type": "code",
   "execution_count": 265,
   "id": "adea8cd6-aca4-485f-8e8e-953a77e389e1",
   "metadata": {},
   "outputs": [
    {
     "data": {
      "text/html": [
       "<div>\n",
       "<style scoped>\n",
       "    .dataframe tbody tr th:only-of-type {\n",
       "        vertical-align: middle;\n",
       "    }\n",
       "\n",
       "    .dataframe tbody tr th {\n",
       "        vertical-align: top;\n",
       "    }\n",
       "\n",
       "    .dataframe thead th {\n",
       "        text-align: right;\n",
       "    }\n",
       "</style>\n",
       "<table border=\"1\" class=\"dataframe\">\n",
       "  <thead>\n",
       "    <tr style=\"text-align: right;\">\n",
       "      <th></th>\n",
       "      <th>SPY</th>\n",
       "      <th>GLD</th>\n",
       "      <th>AAPL</th>\n",
       "      <th>GOOG</th>\n",
       "    </tr>\n",
       "  </thead>\n",
       "  <tbody>\n",
       "    <tr>\n",
       "      <th>2015-01-29</th>\n",
       "      <td>178.515808</td>\n",
       "      <td>120.760002</td>\n",
       "      <td>26.951370</td>\n",
       "      <td>509.261810</td>\n",
       "    </tr>\n",
       "    <tr>\n",
       "      <th>2015-01-30</th>\n",
       "      <td>176.270996</td>\n",
       "      <td>123.449997</td>\n",
       "      <td>26.556961</td>\n",
       "      <td>533.056519</td>\n",
       "    </tr>\n",
       "    <tr>\n",
       "      <th>2015-02-02</th>\n",
       "      <td>178.453934</td>\n",
       "      <td>122.419998</td>\n",
       "      <td>26.890163</td>\n",
       "      <td>527.033020</td>\n",
       "    </tr>\n",
       "    <tr>\n",
       "      <th>2015-02-03</th>\n",
       "      <td>181.034607</td>\n",
       "      <td>121.050003</td>\n",
       "      <td>26.894701</td>\n",
       "      <td>527.790955</td>\n",
       "    </tr>\n",
       "    <tr>\n",
       "      <th>2015-02-04</th>\n",
       "      <td>180.345215</td>\n",
       "      <td>121.580002</td>\n",
       "      <td>27.100969</td>\n",
       "      <td>521.328674</td>\n",
       "    </tr>\n",
       "    <tr>\n",
       "      <th>...</th>\n",
       "      <td>...</td>\n",
       "      <td>...</td>\n",
       "      <td>...</td>\n",
       "      <td>...</td>\n",
       "    </tr>\n",
       "    <tr>\n",
       "      <th>2021-09-09</th>\n",
       "      <td>448.980011</td>\n",
       "      <td>168.029999</td>\n",
       "      <td>154.070007</td>\n",
       "      <td>2898.270020</td>\n",
       "    </tr>\n",
       "    <tr>\n",
       "      <th>2021-09-10</th>\n",
       "      <td>445.440002</td>\n",
       "      <td>167.179993</td>\n",
       "      <td>148.970001</td>\n",
       "      <td>2838.419922</td>\n",
       "    </tr>\n",
       "    <tr>\n",
       "      <th>2021-09-13</th>\n",
       "      <td>446.579987</td>\n",
       "      <td>167.740005</td>\n",
       "      <td>149.550003</td>\n",
       "      <td>2869.300049</td>\n",
       "    </tr>\n",
       "    <tr>\n",
       "      <th>2021-09-14</th>\n",
       "      <td>444.170013</td>\n",
       "      <td>168.820007</td>\n",
       "      <td>148.119995</td>\n",
       "      <td>2868.120117</td>\n",
       "    </tr>\n",
       "    <tr>\n",
       "      <th>2021-09-15</th>\n",
       "      <td>447.880005</td>\n",
       "      <td>167.830002</td>\n",
       "      <td>149.029999</td>\n",
       "      <td>2904.120117</td>\n",
       "    </tr>\n",
       "  </tbody>\n",
       "</table>\n",
       "<p>1670 rows × 4 columns</p>\n",
       "</div>"
      ],
      "text/plain": [
       "                   SPY         GLD        AAPL         GOOG\n",
       "2015-01-29  178.515808  120.760002   26.951370   509.261810\n",
       "2015-01-30  176.270996  123.449997   26.556961   533.056519\n",
       "2015-02-02  178.453934  122.419998   26.890163   527.033020\n",
       "2015-02-03  181.034607  121.050003   26.894701   527.790955\n",
       "2015-02-04  180.345215  121.580002   27.100969   521.328674\n",
       "...                ...         ...         ...          ...\n",
       "2021-09-09  448.980011  168.029999  154.070007  2898.270020\n",
       "2021-09-10  445.440002  167.179993  148.970001  2838.419922\n",
       "2021-09-13  446.579987  167.740005  149.550003  2869.300049\n",
       "2021-09-14  444.170013  168.820007  148.119995  2868.120117\n",
       "2021-09-15  447.880005  167.830002  149.029999  2904.120117\n",
       "\n",
       "[1670 rows x 4 columns]"
      ]
     },
     "execution_count": 265,
     "metadata": {},
     "output_type": "execute_result"
    }
   ],
   "source": [
    "df = get_adj_close_df(ticker_symbols, start_date)\n",
    "df"
   ]
  },
  {
   "cell_type": "code",
   "execution_count": 234,
   "id": "a7087f70-c134-4108-b999-3bda35e09226",
   "metadata": {},
   "outputs": [
    {
     "data": {
      "image/png": "[encoded data removed]",
      "text/plain": [
       "<Figure size 432x288 with 1 Axes>"
      ]
     },
     "metadata": {
      "needs_background": "light"
     },
     "output_type": "display_data"
    }
   ],
   "source": [
    "# Get data for multiple ticker symbols\n",
    "data = get_stock_data(ticker_symbols, start_date)\n",
    "#formated_data = tickers_as_columns(formated_data)\n",
    "\n",
    "plot_data(title=\"Tech companies vs S&P 500 vs GLD\", df = df)"
   ]
  },
  {
   "cell_type": "code",
   "execution_count": 101,
   "id": "2f50e8bd-1223-498d-b498-90dc92cd615a",
   "metadata": {},
   "outputs": [],
   "source": [
    "def compute_daily_returns(df):\n",
    "    '''\n",
    "    Compute and return the daily return values\n",
    "    '''\n",
    "    daily_returns = df.copy()\n",
    "    daily_returns[1:] = (df[1:] / df[:-1].values)-1\n",
    "    daily_returns.iloc[0, :] = 0 # set daily returns of row 0 to 0\n",
    "    return daily_returns"
   ]
  },
  {
   "cell_type": "code",
   "execution_count": 102,
   "id": "bb5f706a-0e27-4acf-9d08-ee41860079f6",
   "metadata": {},
   "outputs": [],
   "source": [
    "daily_returns = compute_daily_returns(formated_data)"
   ]
  },
  {
   "cell_type": "code",
   "execution_count": 103,
   "id": "4be510ef-43c6-44d2-963b-36ddcab58f21",
   "metadata": {},
   "outputs": [
    {
     "data": {
      "image/png": "[encoded data removed]",
      "text/plain": [
       "<Figure size 432x288 with 1 Axes>"
      ]
     },
     "metadata": {
      "needs_background": "light"
     },
     "output_type": "display_data"
    }
   ],
   "source": [
    "plot_data(title=\"AAPL Daily Returns\", df = daily_returns[\"AAPL\"])"
   ]
  },
  {
   "cell_type": "code",
   "execution_count": 88,
   "id": "dba0ed18-0fc5-4c45-86a1-c424b76ddc48",
   "metadata": {},
   "outputs": [
    {
     "name": "stdout",
     "output_type": "stream",
     "text": [
      "Mean: 0.0013731729405213838; Standard deviation: 0.02079469503990949; Kurtosis: 5.487458019816152\n"
     ]
    },
    {
     "data": {
      "text/plain": [
       "[]"
      ]
     },
     "execution_count": 88,
     "metadata": {},
     "output_type": "execute_result"
    },
    {
     "data": {
      "image/png": "[encoded data removed]",
      "text/plain": [
       "<Figure size 432x288 with 1 Axes>"
      ]
     },
     "metadata": {
      "needs_background": "light"
     },
     "output_type": "display_data"
    }
   ],
   "source": [
    "plot = daily_returns[\"AAPL\"].hist(bins=100)\n",
    "mean = daily_returns[\"AAPL\"].mean()\n",
    "std = daily_returns[\"AAPL\"].std()\n",
    "kurtosis = daily_returns[\"AAPL\"].kurtosis()\n",
    "print(f\"Mean: {mean}; Standard deviation: {std}; Kurtosis: {kurtosis}\")\n",
    "plot.axvline(mean, color = 'b', linestyle = 'dashed' , linewidth = 2)\n",
    "for i in range(1,4):\n",
    "    plot.axvline(mean + i * std, color = 'r', linestyle = 'dashed' , linewidth = 2)\n",
    "    plot.axvline(mean - i * std, color = 'r', linestyle = 'dashed' , linewidth = 2)\n",
    "plot.plot()"
   ]
  },
  {
   "cell_type": "code",
   "execution_count": 89,
   "id": "2086558b-4300-4fe3-8d5b-b6becfad2e19",
   "metadata": {},
   "outputs": [
    {
     "data": {
      "text/plain": [
       "<AxesSubplot:>"
      ]
     },
     "execution_count": 89,
     "metadata": {},
     "output_type": "execute_result"
    },
    {
     "data": {
      "image/png": "[encoded data removed]",
      "text/plain": [
       "<Figure size 432x288 with 1 Axes>"
      ]
     },
     "metadata": {
      "needs_background": "light"
     },
     "output_type": "display_data"
    }
   ],
   "source": [
    "daily_returns['SPY'].hist(bins=100)"
   ]
  },
  {
   "cell_type": "code",
   "execution_count": 90,
   "id": "105d93a9-2016-4d55-9d60-ae41ef94cb87",
   "metadata": {},
   "outputs": [
    {
     "data": {
      "text/plain": [
       "<matplotlib.legend.Legend at 0x7f81e78c54c0>"
      ]
     },
     "execution_count": 90,
     "metadata": {},
     "output_type": "execute_result"
    },
    {
     "data": {
      "image/png": "[encoded data removed]",
      "text/plain": [
       "<Figure size 432x288 with 1 Axes>"
      ]
     },
     "metadata": {
      "needs_background": "light"
     },
     "output_type": "display_data"
    }
   ],
   "source": [
    "daily_returns['SPY'].hist(bins=100, label=\"SPY\")\n",
    "daily_returns['AAPL'].hist(bins=100, label=\"AAPL\")\n",
    "plt.legend(loc='upper right')"
   ]
  },
  {
   "cell_type": "code",
   "execution_count": 106,
   "id": "8674a86c-7cc3-49b9-abb6-00fb63a6cf9e",
   "metadata": {},
   "outputs": [
    {
     "data": {
      "text/plain": [
       "<AxesSubplot:>"
      ]
     },
     "execution_count": 106,
     "metadata": {},
     "output_type": "execute_result"
    },
    {
     "data": {
      "image/png": "[encoded data removed]",
      "text/plain": [
       "<Figure size 432x288 with 1 Axes>"
      ]
     },
     "metadata": {
      "needs_background": "light"
     },
     "output_type": "display_data"
    }
   ],
   "source": [
    "daily_returns['BTC-USD'].hist(bins=100, label=\"SPY\")"
   ]
  },
  {
   "cell_type": "code",
   "execution_count": 109,
   "id": "c3603105-9cf6-4a67-8f3a-0209d0244498",
   "metadata": {},
   "outputs": [
    {
     "data": {
      "image/png": "[encoded data removed]",
      "text/plain": [
       "<Figure size 432x288 with 1 Axes>"
      ]
     },
     "metadata": {
      "needs_background": "light"
     },
     "output_type": "display_data"
    }
   ],
   "source": [
    "daily_returns.plot(kind='scatter', x='SPY', y='AAPL')\n",
    "beta_SPY_AAPL, alpha_SPY_AAPL = np.polyfit(daily_returns[\"SPY\"], daily_returns[\"AAPL\"],1)\n",
    "plt.plot(daily_returns[\"SPY\"], beta_SPY_AAPL * daily_returns[\"SPY\"] + alpha_SPY_AAPL, '-', color='r')\n",
    "plt.show()"
   ]
  },
  {
   "cell_type": "code",
   "execution_count": 104,
   "id": "98430f59-01e9-4c4b-ba12-f1cd35cf6446",
   "metadata": {},
   "outputs": [
    {
     "data": {
      "text/plain": [
       "<AxesSubplot:xlabel='GOOG', ylabel='AAPL'>"
      ]
     },
     "execution_count": 104,
     "metadata": {},
     "output_type": "execute_result"
    },
    {
     "data": {
      "image/png": "[encoded data removed]",
      "text/plain": [
       "<Figure size 432x288 with 1 Axes>"
      ]
     },
     "metadata": {
      "needs_background": "light"
     },
     "output_type": "display_data"
    }
   ],
   "source": [
    "daily_returns.plot(kind='scatter', x='GOOG', y='AAPL')"
   ]
  },
  {
   "cell_type": "code",
   "execution_count": 105,
   "id": "6914c9b6-5bd4-4456-bd27-104fb1bd0318",
   "metadata": {},
   "outputs": [
    {
     "data": {
      "text/plain": [
       "<AxesSubplot:xlabel='BTC-USD', ylabel='GLD'>"
      ]
     },
     "execution_count": 105,
     "metadata": {},
     "output_type": "execute_result"
    },
    {
     "data": {
      "image/png": "[encoded data removed]",
      "text/plain": [
       "<Figure size 432x288 with 1 Axes>"
      ]
     },
     "metadata": {
      "needs_background": "light"
     },
     "output_type": "display_data"
    }
   ],
   "source": [
    "daily_returns.plot(kind='scatter', x='BTC-USD', y='GLD')"
   ]
  },
  {
   "cell_type": "code",
   "execution_count": 110,
   "id": "adfb65ac-492b-4e1c-8812-8690e630b95f",
   "metadata": {},
   "outputs": [
    {
     "data": {
      "text/html": [
       "<div>\n",
       "<style scoped>\n",
       "    .dataframe tbody tr th:only-of-type {\n",
       "        vertical-align: middle;\n",
       "    }\n",
       "\n",
       "    .dataframe tbody tr th {\n",
       "        vertical-align: top;\n",
       "    }\n",
       "\n",
       "    .dataframe thead th {\n",
       "        text-align: right;\n",
       "    }\n",
       "</style>\n",
       "<table border=\"1\" class=\"dataframe\">\n",
       "  <thead>\n",
       "    <tr style=\"text-align: right;\">\n",
       "      <th></th>\n",
       "      <th>GLD</th>\n",
       "      <th>SPY</th>\n",
       "      <th>BTC-USD</th>\n",
       "      <th>AAPL</th>\n",
       "      <th>GOOG</th>\n",
       "    </tr>\n",
       "  </thead>\n",
       "  <tbody>\n",
       "    <tr>\n",
       "      <th>GLD</th>\n",
       "      <td>1.000000</td>\n",
       "      <td>0.044042</td>\n",
       "      <td>0.005151</td>\n",
       "      <td>0.003644</td>\n",
       "      <td>0.004121</td>\n",
       "    </tr>\n",
       "    <tr>\n",
       "      <th>SPY</th>\n",
       "      <td>0.044042</td>\n",
       "      <td>1.000000</td>\n",
       "      <td>0.027106</td>\n",
       "      <td>0.616844</td>\n",
       "      <td>0.638328</td>\n",
       "    </tr>\n",
       "    <tr>\n",
       "      <th>BTC-USD</th>\n",
       "      <td>0.005151</td>\n",
       "      <td>0.027106</td>\n",
       "      <td>1.000000</td>\n",
       "      <td>0.019145</td>\n",
       "      <td>0.003974</td>\n",
       "    </tr>\n",
       "    <tr>\n",
       "      <th>AAPL</th>\n",
       "      <td>0.003644</td>\n",
       "      <td>0.616844</td>\n",
       "      <td>0.019145</td>\n",
       "      <td>1.000000</td>\n",
       "      <td>0.526783</td>\n",
       "    </tr>\n",
       "    <tr>\n",
       "      <th>GOOG</th>\n",
       "      <td>0.004121</td>\n",
       "      <td>0.638328</td>\n",
       "      <td>0.003974</td>\n",
       "      <td>0.526783</td>\n",
       "      <td>1.000000</td>\n",
       "    </tr>\n",
       "  </tbody>\n",
       "</table>\n",
       "</div>"
      ],
      "text/plain": [
       "              GLD       SPY   BTC-USD      AAPL      GOOG\n",
       "GLD      1.000000  0.044042  0.005151  0.003644  0.004121\n",
       "SPY      0.044042  1.000000  0.027106  0.616844  0.638328\n",
       "BTC-USD  0.005151  0.027106  1.000000  0.019145  0.003974\n",
       "AAPL     0.003644  0.616844  0.019145  1.000000  0.526783\n",
       "GOOG     0.004121  0.638328  0.003974  0.526783  1.000000"
      ]
     },
     "execution_count": 110,
     "metadata": {},
     "output_type": "execute_result"
    }
   ],
   "source": [
    "daily_returns.corr(method='pearson')"
   ]
  },
  {
   "cell_type": "markdown",
   "id": "ceb49dc9-6050-4919-8d52-5126e0b12de0",
   "metadata": {},
   "source": [
    "# Portfolio analysis"
   ]
  },
  {
   "cell_type": "code",
   "execution_count": 266,
   "id": "d0614d32-8b5c-413a-abe7-d037dc2ffe5b",
   "metadata": {},
   "outputs": [],
   "source": [
    "def norm_df(df):\n",
    "    norm_df = df.copy()\n",
    "    norm_df = (norm_df / norm_df.iloc[0][:].values)\n",
    "    return norm_df"
   ]
  },
  {
   "cell_type": "code",
   "execution_count": 289,
   "id": "a7affcaa-b162-4b67-9e1e-a0d045329e55",
   "metadata": {},
   "outputs": [],
   "source": [
    "def evaluate_portfolio(stock_prices_df, allocation, initial_invest, k = 252, risk_free_return = 0, risk_free_std = 0, print_results=True):\n",
    "    df_norm = norm_df(stock_prices_df)\n",
    "    normed_val = df_norm * allocation\n",
    "    worth = port_val * initial_invest\n",
    "    portfolio_value = worth.sum(axis=1)\n",
    "    \n",
    "    pf_daily_returns = compute_daily_returns(portfolio_value)\n",
    "    pf_daily_returns = pf_daily_returns[1:]\n",
    "    \n",
    "    cum_ret = (portfolio_value[-1] / portfolio_value[0]) - 1\n",
    "    mean_daily_return = pf_daily_returns.mean()\n",
    "    std_daily_return = pf_daily_returns.std()\n",
    "    \n",
    "    sharp_ratio = (mean_daily_return - risk_free_return) / (std_daily_return - risk_free_std)\n",
    "    sharp_ratio_annualized = math.sqrt(k) * sharp_ratio\n",
    "    \n",
    "    if print_results:\n",
    "        print(f\"Cumulative return: {cum_ret}\")\n",
    "        print(f\"Mean daily returns: {mean_daily_return}\")\n",
    "        print(f\"Std daily returns: {std_daily_return}\")\n",
    "        print(f\"Sharp ratio: {sharp_ratio}\")\n",
    "        print(f\"Sharp ratio annualized: {sharp_ratio_annualized}\")\n",
    "    \n",
    "    return cum_ret, mean_daily_return, std_daily_return, sharp_ratio_annualized"
   ]
  },
  {
   "cell_type": "code",
   "execution_count": 290,
   "id": "be85feb0-0197-4417-b2c5-fc69b248a799",
   "metadata": {},
   "outputs": [
    {
     "name": "stdout",
     "output_type": "stream",
     "text": [
      "Cumulative return: 1.6826959696135448\n",
      "Mean daily returns: 0.0006328005153939862\n",
      "Std daily returns: 0.009082111461338069\n",
      "Sharp ratio: 0.0696754843945458\n",
      "Sharp ratio annualized: 1.1060640251155798\n"
     ]
    }
   ],
   "source": [
    "allocation = [0.4, 0.4, 0.1, 0.1]\n",
    "initial_invest = 1_000_000\n",
    "\n",
    "cum_ret, mean_daily_return, std_daily_return, sharp_ratio_annualized = evaluate_portfolio(df, allocation, initial_invest)"
   ]
  },
  {
   "cell_type": "code",
   "execution_count": 291,
   "id": "12913b10-4984-4bc9-846c-83732d83a11b",
   "metadata": {},
   "outputs": [
    {
     "name": "stdout",
     "output_type": "stream",
     "text": [
      "Cumulative return: 1.6826959696135448\n",
      "Mean daily returns: 0.0006328005153939862\n",
      "Std daily returns: 0.009082111461338069\n",
      "Sharp ratio: 5.575003206130466\n",
      "Sharp ratio annualized: 88.50043225085386\n"
     ]
    }
   ],
   "source": [
    "# Considering inflation for the sharpe ratio like this?\n",
    "cum_ret, mean_daily_return, std_daily_return, sharp_ratio_annualized = evaluate_portfolio(df, allocation, initial_invest, risk_free_return=-0.05)"
   ]
  },
  {
   "cell_type": "markdown",
   "id": "9529a6a0-5afb-4a36-b7b5-716ea4b20f1a",
   "metadata": {},
   "source": [
    "# Optimizers"
   ]
  },
  {
   "cell_type": "code",
   "execution_count": 292,
   "id": "c91b0085-69ba-40e7-aa99-5f132b433f3f",
   "metadata": {},
   "outputs": [],
   "source": [
    "import scipy.optimize as spo"
   ]
  },
  {
   "cell_type": "code",
   "execution_count": 293,
   "id": "fbe25dfb-cda6-4229-b314-cf3fd1705884",
   "metadata": {},
   "outputs": [],
   "source": [
    "def function(X):\n",
    "    Y = (X - 1.5)**2 + 0.5\n",
    "    print(f\"Y = {Y}; X = {X}\")\n",
    "    return Y"
   ]
  },
  {
   "cell_type": "code",
   "execution_count": 297,
   "id": "0a63864a-980c-44b3-a8b3-2f901a6846fd",
   "metadata": {},
   "outputs": [],
   "source": [
    "def test_run():\n",
    "    X_guess = 2\n",
    "    min_result = spo.minimize(function, X_guess, method=\"SLSQP\", options={'disp': True})\n",
    "    print(f\"Minima found at:\")\n",
    "    print(f\" X = {min_result.x}; Y = {min_result.fun}\")"
   ]
  },
  {
   "cell_type": "code",
   "execution_count": 298,
   "id": "20522e43-829e-4a00-b1ae-d322d52aa0e6",
   "metadata": {},
   "outputs": [
    {
     "name": "stdout",
     "output_type": "stream",
     "text": [
      "Y = [0.75]; X = [2.]\n",
      "Y = [0.75000001]; X = [2.00000001]\n",
      "Y = [0.75000001]; X = [0.99999999]\n",
      "Y = [0.5]; X = [1.5]\n",
      "Y = [0.5]; X = [1.50000001]\n",
      "Optimization terminated successfully    (Exit mode 0)\n",
      "            Current function value: [0.5]\n",
      "            Iterations: 2\n",
      "            Function evaluations: 5\n",
      "            Gradient evaluations: 2\n",
      "Minima found at:\n",
      " X = [1.5]; Y = [0.5]\n"
     ]
    }
   ],
   "source": [
    "test_run()"
   ]
  },
  {
   "cell_type": "code",
   "execution_count": 299,
   "id": "97b8ee14-a94a-43d0-bb87-295889dabe82",
   "metadata": {},
   "outputs": [],
   "source": [
    "def error(line, data):\n",
    "    err = np.sum((data[:, 1] - (line[0] * data[:, 0] + line[1]))**2)\n",
    "    return err"
   ]
  },
  {
   "cell_type": "code",
   "execution_count": null,
   "id": "8ec28e94-d54a-4072-bdb2-b52abce3c24a",
   "metadata": {},
   "outputs": [],
   "source": [
    "# Portfolio Optimization\n"
   ]
  },
  {
   "cell_type": "code",
   "execution_count": null,
   "id": "de919c37-e6c8-4c9e-904b-df76fb7577a2",
   "metadata": {},
   "outputs": [],
   "source": [
    "# Trading considering fees"
   ]
  }
 ],
 "metadata": {
  "kernelspec": {
   "display_name": "Python 3 (ipykernel)",
   "language": "python",
   "name": "python3"
  },
  "language_info": {
   "codemirror_mode": {
    "name": "ipython",
    "version": 3
   },
   "file_extension": ".py",
   "mimetype": "text/x-python",
   "name": "python",
   "nbconvert_exporter": "python",
   "pygments_lexer": "ipython3",
   "version": "3.8.11"
  }
 },
 "nbformat": 4,
 "nbformat_minor": 5
}
