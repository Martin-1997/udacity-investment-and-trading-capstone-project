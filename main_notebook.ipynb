{
 "cells": [
  {
   "cell_type": "markdown",
   "id": "8e6ec90c-dab1-4830-9fc8-533332bd66f3",
   "metadata": {
    "tags": []
   },
   "source": [
    "# Imports"
   ]
  },
  {
   "cell_type": "code",
   "execution_count": 1,
   "id": "4aa44e04-8e6b-4799-b83d-932a61b2bd0d",
   "metadata": {},
   "outputs": [],
   "source": [
    "# Links:\n",
    "# https://www.askpython.com/python/examples/stock-price-prediction-python\n",
    "# https://www.codespeedy.com/predicting-stock-price-using-lstm-python-ml/"
   ]
  },
  {
   "cell_type": "code",
   "execution_count": 2,
   "id": "b223ed6b-4cd8-4925-b121-9a7c25ddd551",
   "metadata": {},
   "outputs": [],
   "source": [
    "%%capture\n",
    "# %%capture: Show now output for this cell\n",
    "# Imports\n",
    "import pandas as pd\n",
    "import numpy as np\n",
    "from datetime import datetime, timedelta\n",
    "import math"
   ]
  },
  {
   "cell_type": "code",
   "execution_count": 3,
   "id": "25e2b4a8-8aad-41be-a80e-1d126bb39600",
   "metadata": {},
   "outputs": [
    {
     "name": "stderr",
     "output_type": "stream",
     "text": [
      "2021-11-11 17:06:48.699840: W tensorflow/stream_executor/platform/default/dso_loader.cc:64] Could not load dynamic library 'libcudart.so.11.0'; dlerror: libcudart.so.11.0: cannot open shared object file: No such file or directory\n",
      "2021-11-11 17:06:48.699861: I tensorflow/stream_executor/cuda/cudart_stub.cc:29] Ignore above cudart dlerror if you do not have a GPU set up on your machine.\n"
     ]
    }
   ],
   "source": [
    "import access_api as api\n",
    "from dataset import Dataset\n",
    "from model import LSTM_model"
   ]
  },
  {
   "cell_type": "code",
   "execution_count": 4,
   "id": "417661e1-bd2b-4bca-8d0c-a1dab6591951",
   "metadata": {},
   "outputs": [],
   "source": [
    "# Define a date range\n",
    "start_date = datetime(year = 2019, month = 11, day = 10)\n",
    "end_date = datetime(year = 2021, month = 11, day = 10)\n",
    "ticker_symbols = [\"AAPL\", \"GOOG\"]\n",
    "pred_base_range = 60"
   ]
  },
  {
   "cell_type": "code",
   "execution_count": 5,
   "id": "0605484c-9547-4437-80fc-ee4794a36a43",
   "metadata": {},
   "outputs": [],
   "source": [
    "# abnb = api.get_stock_data(\"ABNB\", start_date)\n",
    "# abnb_dataset = Dataset(\"ABNB\", start_date, end_date, abnb, False)\n",
    "# x_train, y_train, x_test, y_test, scaler = abnb_dataset.scaled_train_test_split()\n",
    "# x_train, y_train, x_test, y_test = abnb_dataset.train_test_split()"
   ]
  },
  {
   "cell_type": "code",
   "execution_count": 6,
   "id": "bf2878a5-f4f8-43d6-8742-3c61cf5c05dc",
   "metadata": {},
   "outputs": [],
   "source": [
    "AAPL = api.get_stock_data(\"AAPL\", start_date)\n",
    "AAPL_dataset = Dataset(\"AAPL\", start_date, end_date, AAPL, True)\n",
    "# x_train, y_train, x_test, y_test, scaler = btc_usd_dataset.scaled_train_test_split()\n",
    "x_train, y_train, x_test, y_test = AAPL_dataset.train_test_split()"
   ]
  },
  {
   "cell_type": "code",
   "execution_count": 7,
   "id": "29852de5-b2eb-4265-85c8-82fb82c2592c",
   "metadata": {},
   "outputs": [
    {
     "data": {
      "image/png": "[encoded data removed]",
      "text/plain": [
       "<Figure size 432x288 with 1 Axes>"
      ]
     },
     "metadata": {
      "needs_background": "light"
     },
     "output_type": "display_data"
    }
   ],
   "source": [
    "AAPL_dataset.plot_price_data()"
   ]
  },
  {
   "cell_type": "code",
   "execution_count": 8,
   "id": "0bd00b40-f860-4ad7-b362-bd70829352b8",
   "metadata": {},
   "outputs": [],
   "source": [
    "# AAPL_model = LSTM_model(\"AAPL_model\", \"AAPL\", start_date, end_date, pred_base_range)\n",
    "# AAPL_model.train(x_train, y_train, batch_size=1, epochs=1)\n",
    "# AAPL_model.engine.summary()"
   ]
  },
  {
   "cell_type": "code",
   "execution_count": 9,
   "id": "d449780d-8953-46d1-968a-3b7daa1f124b",
   "metadata": {},
   "outputs": [],
   "source": [
    "# btc_usd_dataset.df[\"Adj Close\"].values"
   ]
  },
  {
   "cell_type": "code",
   "execution_count": 10,
   "id": "1a250184-1d90-4748-bd17-0e6cccb6c146",
   "metadata": {},
   "outputs": [],
   "source": [
    "# btc_usd_model.predict_future(btc_usd_dataset.df[\"Adj Close\"].values.reshape(-1, 1))"
   ]
  },
  {
   "cell_type": "code",
   "execution_count": 11,
   "id": "79b2578d-5b67-4c01-b243-30dcca1bea47",
   "metadata": {},
   "outputs": [],
   "source": [
    "# # Define tickers for our testing\n",
    "# tickers = [\"ABNB\", \"BTC_USD\", \"GOOG\", \"AAPL\"]\n",
    "\n",
    "# # Define a date range\n",
    "# start_date = datetime(2005, 1, 29)\n",
    "# end_date = datetime.today()\n",
    "# pred_base_range = 60\n",
    "\n",
    "# # Define a dictionary to hold our LSTM models\n",
    "# lstm_models = {}\n",
    "\n",
    "# for ticker in tickers:\n",
    "#     lstm_models[ticker] = LSTM_model(ticker + \"_model\", ticker, start_date, end_date, pred_base_range)\n",
    "    \n",
    "#     # Get the data, rescale it and divide it into training and test set\n",
    "#     df = data.get_adj_close_df([ticker], start_date, end_date)\n",
    "#     df_values = df.values\n",
    "#     scaler, scaled_dataset = data.scale_data(df_values)\n",
    "#     x_train, y_train, x_test, y_test, training_data_len = data.train_test_split(scaled_dataset, days = pred_base_range)\n",
    "    \n",
    "#     # Train a model with the data\n",
    "#     model = create_model(input_shape = x_train.shape[1])\n",
    "#     model.fit(x_train, y_train, batch_size=1, epochs=1)\n",
    "#     model_dict[\"model\"] = model"
   ]
  },
  {
   "cell_type": "markdown",
   "id": "83ccc7ef-b0a5-48a0-8b07-ab318ddaea40",
   "metadata": {},
   "source": [
    "# Youtube Multivariate Time Series Prediction with LSTM and Multiple features"
   ]
  },
  {
   "cell_type": "markdown",
   "id": "549e2b03-3c7d-4a75-8b92-5624482c691b",
   "metadata": {
    "tags": []
   },
   "source": [
    "## Data Preprocessing"
   ]
  },
  {
   "cell_type": "code",
   "execution_count": 36,
   "id": "b763428f-4374-4f19-a913-675abc285950",
   "metadata": {},
   "outputs": [],
   "source": [
    "AAPL.to_csv(\"AAPL.csv\")"
   ]
  },
  {
   "cell_type": "code",
   "execution_count": 28,
   "id": "711fb016-ac3c-4f6f-9213-df3ad19cb237",
   "metadata": {},
   "outputs": [
    {
     "name": "stdout",
     "output_type": "stream",
     "text": [
      "Training set shape == (506, 6)\n",
      "Featured selected: ['High', 'Low', 'Open', 'Close', 'Volume', 'Adj Close']\n"
     ]
    }
   ],
   "source": [
    "dataset_train = AAPL\n",
    "# Select features (columns) to be involved intro training and predictions\n",
    "cols = list(dataset_train)\n",
    "\n",
    "print('Training set shape == {}'.format(dataset_train.shape))\n",
    "print('Featured selected: {}'.format(cols))"
   ]
  },
  {
   "cell_type": "code",
   "execution_count": 29,
   "id": "24cf1740-5ec0-4076-ac7d-2ed69a3901a1",
   "metadata": {},
   "outputs": [
    {
     "name": "stdout",
     "output_type": "stream",
     "text": [
      "Shape of training set == (506, 6).\n"
     ]
    },
    {
     "data": {
      "text/plain": [
       "array([[6.56175003e+01, 6.45699997e+01, 6.45749969e+01, 6.55500031e+01,\n",
       "        8.18212000e+07, 6.45905609e+01],\n",
       "       [6.56975021e+01, 6.52300034e+01, 6.53874969e+01, 6.54899979e+01,\n",
       "        8.73888000e+07, 6.45314484e+01],\n",
       "       [6.61949997e+01, 6.52675018e+01, 6.52825012e+01, 6.61175003e+01,\n",
       "        1.02734400e+08, 6.51497650e+01],\n",
       "       ...,\n",
       "       [1.51429993e+02, 1.50059998e+02, 1.50199997e+02, 1.50809998e+02,\n",
       "        5.67879000e+07, 1.50809998e+02],\n",
       "       [1.50130005e+02, 1.47850006e+02, 1.50020004e+02, 1.47919998e+02,\n",
       "        6.50767000e+07, 1.47919998e+02],\n",
       "       [1.49080002e+02, 1.48150101e+02, 1.48960007e+02, 1.48309998e+02,\n",
       "        1.38198740e+07, 1.48309998e+02]])"
      ]
     },
     "execution_count": 29,
     "metadata": {},
     "output_type": "execute_result"
    }
   ],
   "source": [
    "dataset_train = dataset_train[cols].astype(str)\n",
    "for i in cols:\n",
    "    for j in range(0, len(dataset_train)):\n",
    "        dataset_train[i][j] = dataset_train[i][j].replace(',', '')\n",
    "\n",
    "dataset_train = dataset_train.astype(float)\n",
    "\n",
    "# Using multiple features (predictors)\n",
    "training_set = dataset_train.values\n",
    "\n",
    "print('Shape of training set == {}.'.format(training_set.shape))\n",
    "training_set"
   ]
  },
  {
   "cell_type": "code",
   "execution_count": 30,
   "id": "eb417463-fff0-4e70-8267-204057538192",
   "metadata": {
    "collapsed": true,
    "jupyter": {
     "outputs_hidden": true
    },
    "tags": []
   },
   "outputs": [
    {
     "data": {
      "text/plain": [
       "array([[-1.62861345],\n",
       "       [-1.62583682],\n",
       "       [-1.60857007],\n",
       "       [-1.60770234],\n",
       "       [-1.59989328],\n",
       "       [-1.58557661],\n",
       "       [-1.58063078],\n",
       "       [-1.59729034],\n",
       "       [-1.61525111],\n",
       "       [-1.622453  ],\n",
       "       [-1.59416656],\n",
       "       [-1.58791925],\n",
       "       [-1.58080422],\n",
       "       [-1.58063078],\n",
       "       [-1.57846158],\n",
       "       [-1.65412326],\n",
       "       [-1.62132498],\n",
       "       [-1.59893869],\n",
       "       [-1.55460038],\n",
       "       [-1.55633585],\n",
       "       [-1.56266974],\n",
       "       [-1.55373265],\n",
       "       [-1.5410646 ],\n",
       "       [-1.51729026],\n",
       "       [-1.46965446],\n",
       "       [-1.46115137],\n",
       "       [-1.46002334],\n",
       "       [-1.46627065],\n",
       "       [-1.45351574],\n",
       "       [-1.43963282],\n",
       "       [-1.43407954],\n",
       "       [-1.38991467],\n",
       "       [-1.35529433],\n",
       "       [-1.36640062],\n",
       "       [-1.35781068],\n",
       "       [-1.29776712],\n",
       "       [-1.29794083],\n",
       "       [-1.3033204 ],\n",
       "       [-1.29516419],\n",
       "       [-1.26444825],\n",
       "       [-1.21247432],\n",
       "       [-1.19303811],\n",
       "       [-1.15486026],\n",
       "       [-1.15052186],\n",
       "       [-1.16848289],\n",
       "       [-1.16674743],\n",
       "       [-1.14037015],\n",
       "       [-1.13794066],\n",
       "       [-1.12952416],\n",
       "       [-1.13325512],\n",
       "       [-1.10054369],\n",
       "       [-1.20084744],\n",
       "       [-1.14332023],\n",
       "       [-1.06132439],\n",
       "       [-1.09394923],\n",
       "       [-1.10618355],\n",
       "       [-1.18592334],\n",
       "       [-1.13256082],\n",
       "       [-1.08813566],\n",
       "       [-1.08414441],\n",
       "       [-1.09993625],\n",
       "       [-1.11598837],\n",
       "       [-1.09559785],\n",
       "       [-1.06679082],\n",
       "       [-1.07546761],\n",
       "       [-1.07754996],\n",
       "       [-1.1316065 ],\n",
       "       [-1.08978428],\n",
       "       [-1.08909025],\n",
       "       [-1.12553264],\n",
       "       [-1.2667043 ],\n",
       "       [-1.28102097],\n",
       "       [-1.32136802],\n",
       "       [-1.42444842],\n",
       "       [-1.49030528],\n",
       "       [-1.29047864],\n",
       "       [-1.26826606],\n",
       "       [-1.2734722 ],\n",
       "       [-1.30687792],\n",
       "       [-1.38262619],\n",
       "       [-1.49308192],\n",
       "       [-1.42063061],\n",
       "       [-1.4659235 ],\n",
       "       [-1.56327718],\n",
       "       [-1.47720323],\n",
       "       [-1.65802793],\n",
       "       [-1.67078283],\n",
       "       [-1.73681313],\n",
       "       [-1.71217106],\n",
       "       [-1.72093457],\n",
       "       [-1.92336428],\n",
       "       [-1.75685651],\n",
       "       [-1.66522955],\n",
       "       [-1.66149859],\n",
       "       [-1.68588037],\n",
       "       [-1.68891717],\n",
       "       [-1.62844001],\n",
       "       [-1.74791942],\n",
       "       [-1.77889565],\n",
       "       [-1.77412339],\n",
       "       [-1.62306044],\n",
       "       [-1.54852652],\n",
       "       [-1.5860972 ],\n",
       "       [-1.56266974],\n",
       "       [-1.53117292],\n",
       "       [-1.40492563],\n",
       "       [-1.42158519],\n",
       "       [-1.40535936],\n",
       "       [-1.41620536],\n",
       "       [-1.46193225],\n",
       "       [-1.5003704 ],\n",
       "       [-1.49473053],\n",
       "       [-1.46132481],\n",
       "       [-1.45039196],\n",
       "       [-1.43711647],\n",
       "       [-1.42592359],\n",
       "       [-1.39260446],\n",
       "       [-1.35043535],\n",
       "       [-1.31165005],\n",
       "       [-1.35772383],\n",
       "       [-1.29429646],\n",
       "       [-1.27486052],\n",
       "       [-1.25811409],\n",
       "       [-1.21316835],\n",
       "       [-1.15503396],\n",
       "       [-1.13212709],\n",
       "       [-1.16457823],\n",
       "       [-1.21802733],\n",
       "       [-1.23442661],\n",
       "       [-1.1598061 ],\n",
       "       [-1.14227906],\n",
       "       [-1.13360226],\n",
       "       [-1.12171483],\n",
       "       [-1.13611834],\n",
       "       [-1.09264777],\n",
       "       [-1.14063045],\n",
       "       [-1.0995891 ],\n",
       "       [-1.11945904],\n",
       "       [-1.10904678],\n",
       "       [-1.0995891 ],\n",
       "       [-1.07564105],\n",
       "       [-1.08067374],\n",
       "       [-1.02748493],\n",
       "       [-1.01143281],\n",
       "       [-0.90722465],\n",
       "       [-0.82774515],\n",
       "       [-0.85993599],\n",
       "       [-0.88822244],\n",
       "       [-0.90661721],\n",
       "       [-0.84136752],\n",
       "       [-0.82227873],\n",
       "       [-0.83919832],\n",
       "       [-0.81221361],\n",
       "       [-0.78705095],\n",
       "       [-0.67494661],\n",
       "       [-0.70609628],\n",
       "       [-0.73898142],\n",
       "       [-0.73620478],\n",
       "       [-0.76353664],\n",
       "       [-0.73047806],\n",
       "       [-0.7185043 ],\n",
       "       [-0.69151932],\n",
       "       [-0.64544555],\n",
       "       [-0.62080348],\n",
       "       [-0.59581426],\n",
       "       [-0.56310283],\n",
       "       [-0.57481629],\n",
       "       [-0.43685526],\n",
       "       [-0.53056484],\n",
       "       [-0.46141075],\n",
       "       [-0.5253587 ],\n",
       "       [-0.53429579],\n",
       "       [-0.48735429],\n",
       "       [-0.4613239 ],\n",
       "       [-0.50557562],\n",
       "       [-0.53672529],\n",
       "       [-0.67928501],\n",
       "       [-0.61212668],\n",
       "       [-0.62444758],\n",
       "       [-0.60084668],\n",
       "       [-0.56379685],\n",
       "       [-0.21264685],\n",
       "       [-0.03138869],\n",
       "       [-0.06080289],\n",
       "       [-0.07459897],\n",
       "       [ 0.06492382],\n",
       "       [ 0.03932743],\n",
       "       [ 0.04279809],\n",
       "       [-0.00206107],\n",
       "       [ 0.0254445 ],\n",
       "       [ 0.12149671],\n",
       "       [ 0.08531435],\n",
       "       [ 0.12305847],\n",
       "       [ 0.12002154],\n",
       "       [ 0.16036859],\n",
       "       [ 0.20305855],\n",
       "       [ 0.42778756],\n",
       "       [ 0.56375309],\n",
       "       [ 0.43863355],\n",
       "       [ 0.50154033],\n",
       "       [ 0.51863364],\n",
       "       [ 0.48245127],\n",
       "       [ 0.64062939],\n",
       "       [ 0.77251682],\n",
       "       [ 0.88288543],\n",
       "       [ 0.56566173],\n",
       "       [ 0.38726679],\n",
       "       [ 0.22379596],\n",
       "       [ 0.22900209],\n",
       "       [ 0.27620389],\n",
       "       [ 0.09329712],\n",
       "       [ 0.11759204],\n",
       "       [ 0.21824295],\n",
       "       [ 0.12002154],\n",
       "       [-0.01186589],\n",
       "       [-0.05767937],\n",
       "       [-0.08162715],\n",
       "       [ 0.01104098],\n",
       "       [-0.01498941],\n",
       "       [-0.07954481],\n",
       "       [-0.00353597],\n",
       "       [ 0.09642064],\n",
       "       [ 0.09607349],\n",
       "       [ 0.16375267],\n",
       "       [ 0.17971795],\n",
       "       [ 0.0981561 ],\n",
       "       [ 0.14258126],\n",
       "       [ 0.1241865 ],\n",
       "       [ 0.10440341],\n",
       "       [ 0.13390447],\n",
       "       [ 0.15472873],\n",
       "       [ 0.43863355],\n",
       "       [ 0.44592203],\n",
       "       [ 0.36401304],\n",
       "       [ 0.30049882],\n",
       "       [ 0.31264655],\n",
       "       [ 0.27342725],\n",
       "       [ 0.22344908],\n",
       "       [ 0.21407799],\n",
       "       [ 0.19082424],\n",
       "       [ 0.1391106 ],\n",
       "       [ 0.1391106 ],\n",
       "       [ 0.1644467 ],\n",
       "       [ 0.10023845],\n",
       "       [ 0.15229923],\n",
       "       [-0.01915437],\n",
       "       [-0.0646207 ],\n",
       "       [-0.03650796],\n",
       "       [ 0.10579146],\n",
       "       [ 0.24566166],\n",
       "       [ 0.23108444],\n",
       "       [ 0.32791753],\n",
       "       [ 0.17520584],\n",
       "       [ 0.24600854],\n",
       "       [ 0.27724507],\n",
       "       [ 0.24739686],\n",
       "       [ 0.29321034],\n",
       "       [ 0.28210405],\n",
       "       [ 0.25260299],\n",
       "       [ 0.22622545],\n",
       "       [ 0.21616034],\n",
       "       [ 0.17624728],\n",
       "       [ 0.11481541],\n",
       "       [ 0.14605193],\n",
       "       [ 0.17173518],\n",
       "       [ 0.29251631],\n",
       "       [ 0.37928429],\n",
       "       [ 0.37581362],\n",
       "       [ 0.39004343],\n",
       "       [ 0.35811288],\n",
       "       [ 0.41746215],\n",
       "       [ 0.43169222],\n",
       "       [ 0.46535797],\n",
       "       [ 0.39316722],\n",
       "       [ 0.35464222],\n",
       "       [ 0.37511933],\n",
       "       [ 0.53303715],\n",
       "       [ 0.54934931],\n",
       "       [ 0.59134524],\n",
       "       [ 0.57468594],\n",
       "       [ 0.54726696],\n",
       "       [ 0.75898103],\n",
       "       [ 0.69026042],\n",
       "       [ 0.72600931],\n",
       "       [ 0.86067285],\n",
       "       [ 0.91099817],\n",
       "       [ 0.81381846],\n",
       "       [ 0.77043447],\n",
       "       [ 0.73121518],\n",
       "       [ 0.6663129 ],\n",
       "       [ 0.64236485],\n",
       "       [ 0.66249509],\n",
       "       [ 0.69720228],\n",
       "       [ 0.61182236],\n",
       "       [ 0.59516305],\n",
       "       [ 0.65624752],\n",
       "       [ 0.64062939],\n",
       "       [ 0.61355782],\n",
       "       [ 0.56115016],\n",
       "       [ 0.69234329],\n",
       "       [ 0.94154066],\n",
       "       [ 0.94778823],\n",
       "       [ 1.12965357],\n",
       "       [ 1.10223512],\n",
       "       [ 1.10223512],\n",
       "       [ 1.0220616 ],\n",
       "       [ 0.83984885],\n",
       "       [ 0.79264705],\n",
       "       [ 0.82492448],\n",
       "       [ 0.80618283],\n",
       "       [ 0.86275519],\n",
       "       [ 0.86344948],\n",
       "       [ 0.84748447],\n",
       "       [ 0.87941503],\n",
       "       [ 0.84852565],\n",
       "       [ 0.82770112],\n",
       "       [ 0.79785292],\n",
       "       [ 0.81451222],\n",
       "       [ 0.6829722 ],\n",
       "       [ 0.6059222 ],\n",
       "       [ 0.63056454],\n",
       "       [ 0.59620423],\n",
       "       [ 0.49173551],\n",
       "       [ 0.45182219],\n",
       "       [ 0.48305871],\n",
       "       [ 0.42718012],\n",
       "       [ 0.53407833],\n",
       "       [ 0.56149704],\n",
       "       [ 0.45702832],\n",
       "       [ 0.38379613],\n",
       "       [ 0.32618233],\n",
       "       [ 0.29355749],\n",
       "       [ 0.33034702],\n",
       "       [ 0.33416484],\n",
       "       [ 0.37026035],\n",
       "       [ 0.29945765],\n",
       "       [ 0.39767906],\n",
       "       [ 0.50943625],\n",
       "       [ 0.46223445],\n",
       "       [ 0.36921917],\n",
       "       [ 0.30848159],\n",
       "       [ 0.39316722],\n",
       "       [ 0.40600871],\n",
       "       [ 0.3595012 ],\n",
       "       [ 0.31646436],\n",
       "       [ 0.31021706],\n",
       "       [ 0.34839491],\n",
       "       [ 0.27273323],\n",
       "       [ 0.38101949],\n",
       "       [ 0.40392636],\n",
       "       [ 0.47264672],\n",
       "       [ 0.50631247],\n",
       "       [ 0.53373118],\n",
       "       [ 0.61945798],\n",
       "       [ 0.71143182],\n",
       "       [ 0.7048379 ],\n",
       "       [ 0.76765783],\n",
       "       [ 0.77945815],\n",
       "       [ 0.77945815],\n",
       "       [ 0.76800471],\n",
       "       [ 0.79577057],\n",
       "       [ 0.79785292],\n",
       "       [ 0.73607416],\n",
       "       [ 0.74995683],\n",
       "       [ 0.78362284],\n",
       "       [ 0.7815405 ],\n",
       "       [ 0.79368822],\n",
       "       [ 0.78015244],\n",
       "       [ 0.85130229],\n",
       "       [ 0.72947971],\n",
       "       [ 0.74718072],\n",
       "       [ 0.6576361 ],\n",
       "       [ 0.62154033],\n",
       "       [ 0.5972454 ],\n",
       "       [ 0.64965307],\n",
       "       [ 0.58995666],\n",
       "       [ 0.47646426],\n",
       "       [ 0.41989164],\n",
       "       [ 0.47229957],\n",
       "       [ 0.53269001],\n",
       "       [ 0.49937114],\n",
       "       [ 0.50145348],\n",
       "       [ 0.42960961],\n",
       "       [ 0.52678985],\n",
       "       [ 0.53650782],\n",
       "       [ 0.53442547],\n",
       "       [ 0.54761437],\n",
       "       [ 0.51533641],\n",
       "       [ 0.52401321],\n",
       "       [ 0.46015211],\n",
       "       [ 0.44453371],\n",
       "       [ 0.4407159 ],\n",
       "       [ 0.42718012],\n",
       "       [ 0.47264672],\n",
       "       [ 0.47819973],\n",
       "       [ 0.55247336],\n",
       "       [ 0.52783102],\n",
       "       [ 0.54310227],\n",
       "       [ 0.51707188],\n",
       "       [ 0.62466385],\n",
       "       [ 0.62674672],\n",
       "       [ 0.63681158],\n",
       "       [ 0.69442564],\n",
       "       [ 0.65832986],\n",
       "       [ 0.68956665],\n",
       "       [ 0.7475276 ],\n",
       "       [ 0.75585751],\n",
       "       [ 0.76696354],\n",
       "       [ 0.74093315],\n",
       "       [ 0.78813495],\n",
       "       [ 0.83117205],\n",
       "       [ 0.8631026 ],\n",
       "       [ 0.86032596],\n",
       "       [ 0.9529941 ],\n",
       "       [ 1.06232154],\n",
       "       [ 1.12271224],\n",
       "       [ 1.09390521],\n",
       "       [ 1.14908951],\n",
       "       [ 1.17234379],\n",
       "       [ 1.21190997],\n",
       "       [ 1.28514216],\n",
       "       [ 1.300066  ],\n",
       "       [ 1.29173608],\n",
       "       [ 1.09425262],\n",
       "       [ 1.19941536],\n",
       "       [ 1.16574934],\n",
       "       [ 1.23759295],\n",
       "       [ 1.25564084],\n",
       "       [ 1.29416584],\n",
       "       [ 1.27264755],\n",
       "       [ 1.19490326],\n",
       "       [ 1.1803263 ],\n",
       "       [ 1.17269068],\n",
       "       [ 1.19420896],\n",
       "       [ 1.23203967],\n",
       "       [ 1.22336288],\n",
       "       [ 1.22509834],\n",
       "       [ 1.19976224],\n",
       "       [ 1.18553217],\n",
       "       [ 1.22058677],\n",
       "       [ 1.18622646],\n",
       "       [ 1.26709427],\n",
       "       [ 1.28063006],\n",
       "       [ 1.34136764],\n",
       "       [ 1.35837382],\n",
       "       [ 1.32505522],\n",
       "       [ 1.23065162],\n",
       "       [ 1.24800521],\n",
       "       [ 1.30666045],\n",
       "       [ 1.3299142 ],\n",
       "       [ 1.31117255],\n",
       "       [ 1.2695235 ],\n",
       "       [ 1.25668201],\n",
       "       [ 1.42119428],\n",
       "       [ 1.39724624],\n",
       "       [ 1.47290766],\n",
       "       [ 1.46388398],\n",
       "       [ 1.46076046],\n",
       "       [ 1.55204001],\n",
       "       [ 1.54440438],\n",
       "       [ 1.51212695],\n",
       "       [ 1.49026125],\n",
       "       [ 1.34935015],\n",
       "       [ 1.33720295],\n",
       "       [ 1.28063006],\n",
       "       [ 1.26431764],\n",
       "       [ 1.25911177],\n",
       "       [ 1.12097677],\n",
       "       [ 1.11264738],\n",
       "       [ 1.17616108],\n",
       "       [ 1.19872107],\n",
       "       [ 1.21225685],\n",
       "       [ 1.15984918],\n",
       "       [ 1.11785325],\n",
       "       [ 1.10744099],\n",
       "       [ 1.10501176],\n",
       "       [ 1.05433903],\n",
       "       [ 1.02969722],\n",
       "       [ 1.0307384 ],\n",
       "       [ 1.02761435],\n",
       "       [ 1.09945848],\n",
       "       [ 1.0980699 ],\n",
       "       [ 1.1199356 ],\n",
       "       [ 1.06579247],\n",
       "       [ 1.00158395],\n",
       "       [ 1.08765817],\n",
       "       [ 1.12305912],\n",
       "       [ 1.19039115],\n",
       "       [ 1.27125897],\n",
       "       [ 1.2913892 ],\n",
       "       [ 1.28757139],\n",
       "       [ 1.30631304],\n",
       "       [ 1.2782003 ],\n",
       "       [ 1.32921991],\n",
       "       [ 1.29069491],\n",
       "       [ 1.41008773],\n",
       "       [ 1.29798365],\n",
       "       [ 1.28965374],\n",
       "       [ 1.35455654],\n",
       "       [ 1.36843921],\n",
       "       [ 1.38440422],\n",
       "       [ 1.37642171],\n",
       "       [ 1.35455654],\n",
       "       [ 1.34969703],\n",
       "       [ 1.3045781 ],\n",
       "       [ 1.26813545]])"
      ]
     },
     "execution_count": 30,
     "metadata": {},
     "output_type": "execute_result"
    }
   ],
   "source": [
    "# Feature Scaling\n",
    "from sklearn.preprocessing import StandardScaler\n",
    "\n",
    "sc = StandardScaler()\n",
    "training_set_scaled = sc.fit_transform(training_set)\n",
    "\n",
    "sc_predict = StandardScaler()\n",
    "sc_predict.fit_transform(training_set[:, 0:1])"
   ]
  },
  {
   "cell_type": "code",
   "execution_count": 31,
   "id": "5904289a-2c43-4cdf-8951-c9b4c4fb92a0",
   "metadata": {},
   "outputs": [
    {
     "name": "stdout",
     "output_type": "stream",
     "text": [
      "X_train shape == (357, 90, 5).\n",
      "y_train shape == (357, 1).\n"
     ]
    }
   ],
   "source": [
    "# Creating a data structure with 90 timestamps and 1 output\n",
    "X_train = []\n",
    "y_train = []\n",
    "\n",
    "n_future = 60   # Number of days we want top predict into the future\n",
    "n_past = 90     # Number of past days we want to use to predict the future\n",
    "\n",
    "for i in range(n_past, len(training_set_scaled) - n_future +1):\n",
    "    X_train.append(training_set_scaled[i - n_past:i, 0:dataset_train.shape[1] - 1])\n",
    "    y_train.append(training_set_scaled[i + n_future - 1:i + n_future, 0])\n",
    "\n",
    "X_train, y_train = np.array(X_train), np.array(y_train)\n",
    "\n",
    "print('X_train shape == {}.'.format(X_train.shape))\n",
    "print('y_train shape == {}.'.format(y_train.shape))"
   ]
  },
  {
   "cell_type": "markdown",
   "id": "03b37558-766f-4f55-a063-4c40fbb048db",
   "metadata": {},
   "source": [
    "## Create a model"
   ]
  },
  {
   "cell_type": "code",
   "execution_count": 37,
   "id": "ced9adab-3cc7-40ea-b881-464b9dc95609",
   "metadata": {},
   "outputs": [],
   "source": [
    "# Import Libraries and packages from Keras\n",
    "from keras.models import Sequential\n",
    "from keras.layers import Dense\n",
    "from keras.layers import LSTM\n",
    "from keras.layers import Dropout\n",
    "from tensorflow.keras.optimizers import Adam\n",
    "from keras.callbacks import EarlyStopping, ReduceLROnPlateau, ModelCheckpoint, TensorBoard"
   ]
  },
  {
   "cell_type": "code",
   "execution_count": 35,
   "id": "eaba3d7e-2ae0-4e91-af24-e325b7300cfe",
   "metadata": {},
   "outputs": [
    {
     "name": "stderr",
     "output_type": "stream",
     "text": [
      "2021-11-11 17:43:35.690560: W tensorflow/stream_executor/platform/default/dso_loader.cc:64] Could not load dynamic library 'libcuda.so.1'; dlerror: libcuda.so.1: cannot open shared object file: No such file or directory\n",
      "2021-11-11 17:43:35.690578: W tensorflow/stream_executor/cuda/cuda_driver.cc:269] failed call to cuInit: UNKNOWN ERROR (303)\n",
      "2021-11-11 17:43:35.690593: I tensorflow/stream_executor/cuda/cuda_diagnostics.cc:156] kernel driver does not appear to be running on this host (martin-ThinkPad-T490): /proc/driver/nvidia/version does not exist\n",
      "2021-11-11 17:43:35.690796: I tensorflow/core/platform/cpu_feature_guard.cc:142] This TensorFlow binary is optimized with oneAPI Deep Neural Network Library (oneDNN) to use the following CPU instructions in performance-critical operations:  AVX2 FMA\n",
      "To enable them in other operations, rebuild TensorFlow with the appropriate compiler flags.\n"
     ]
    }
   ],
   "source": [
    "# Initializing the Neural Network based on LSTM\n",
    "model = Sequential()\n",
    "\n",
    "# Adding 1st LSTM layer\n",
    "model.add(LSTM(units=64, return_sequences=True, input_shape=(n_past, dataset_train.shape[1]-1)))\n",
    "\n",
    "# Adding 2nd LSTM layer\n",
    "model.add(LSTM(units=10, return_sequences=False))\n",
    "\n",
    "# Adding Dropout\n",
    "model.add(Dropout(0.25))\n",
    "\n",
    "# Output layer\n",
    "model.add(Dense(units=1, activation='linear'))\n",
    "\n",
    "# Compiling the Neural Network\n",
    "model.compile(optimizer = Adam(learning_rate=0.01), loss='mean_squared_error')"
   ]
  },
  {
   "cell_type": "code",
   "execution_count": 38,
   "id": "fbffd6bb-942d-482e-8b73-dab4be70ea3a",
   "metadata": {},
   "outputs": [
    {
     "name": "stderr",
     "output_type": "stream",
     "text": [
      "2021-11-11 17:53:57.967174: I tensorflow/core/profiler/lib/profiler_session.cc:131] Profiler session initializing.\n",
      "2021-11-11 17:53:57.967198: I tensorflow/core/profiler/lib/profiler_session.cc:146] Profiler session started.\n",
      "2021-11-11 17:53:57.968120: I tensorflow/core/profiler/lib/profiler_session.cc:164] Profiler session tear down.\n",
      "2021-11-11 17:53:58.005556: I tensorflow/compiler/mlir/mlir_graph_optimization_pass.cc:185] None of the MLIR Optimization Passes are enabled (registered 2)\n"
     ]
    },
    {
     "name": "stdout",
     "output_type": "stream",
     "text": [
      "Epoch 1/30\n",
      "2/2 [==============================] - ETA: 0s - loss: 0.7920"
     ]
    },
    {
     "name": "stderr",
     "output_type": "stream",
     "text": [
      "2021-11-11 17:54:00.334686: I tensorflow/core/profiler/lib/profiler_session.cc:131] Profiler session initializing.\n",
      "2021-11-11 17:54:00.334709: I tensorflow/core/profiler/lib/profiler_session.cc:146] Profiler session started.\n",
      "2021-11-11 17:54:00.387113: I tensorflow/core/profiler/lib/profiler_session.cc:66] Profiler session collecting data.\n",
      "2021-11-11 17:54:00.435227: I tensorflow/core/profiler/lib/profiler_session.cc:164] Profiler session tear down.\n",
      "2021-11-11 17:54:00.551391: I tensorflow/core/profiler/rpc/client/save_profile.cc:136] Creating directory: logs/train/plugins/profile/2021_11_11_17_54_00\n",
      "\n",
      "2021-11-11 17:54:00.627313: I tensorflow/core/profiler/rpc/client/save_profile.cc:142] Dumped gzipped tool data for trace.json.gz to logs/train/plugins/profile/2021_11_11_17_54_00/martin-ThinkPad-T490.trace.json.gz\n",
      "2021-11-11 17:54:00.685106: I tensorflow/core/profiler/rpc/client/save_profile.cc:136] Creating directory: logs/train/plugins/profile/2021_11_11_17_54_00\n",
      "\n",
      "2021-11-11 17:54:00.685219: I tensorflow/core/profiler/rpc/client/save_profile.cc:142] Dumped gzipped tool data for memory_profile.json.gz to logs/train/plugins/profile/2021_11_11_17_54_00/martin-ThinkPad-T490.memory_profile.json.gz\n",
      "2021-11-11 17:54:00.686141: I tensorflow/core/profiler/rpc/client/capture_profile.cc:251] Creating directory: logs/train/plugins/profile/2021_11_11_17_54_00\n",
      "Dumped tool data for xplane.pb to logs/train/plugins/profile/2021_11_11_17_54_00/martin-ThinkPad-T490.xplane.pb\n",
      "Dumped tool data for overview_page.pb to logs/train/plugins/profile/2021_11_11_17_54_00/martin-ThinkPad-T490.overview_page.pb\n",
      "Dumped tool data for input_pipeline.pb to logs/train/plugins/profile/2021_11_11_17_54_00/martin-ThinkPad-T490.input_pipeline.pb\n",
      "Dumped tool data for tensorflow_stats.pb to logs/train/plugins/profile/2021_11_11_17_54_00/martin-ThinkPad-T490.tensorflow_stats.pb\n",
      "Dumped tool data for kernel_stats.pb to logs/train/plugins/profile/2021_11_11_17_54_00/martin-ThinkPad-T490.kernel_stats.pb\n",
      "\n"
     ]
    },
    {
     "name": "stdout",
     "output_type": "stream",
     "text": [
      "2/2 [==============================] - 3s 894ms/step - loss: 0.7920 - val_loss: 0.0517\n",
      "\n",
      "Epoch 00001: val_loss improved from inf to 0.05169, saving model to weights.h5\n",
      "Epoch 2/30\n",
      "2/2 [==============================] - 0s 63ms/step - loss: 0.2326 - val_loss: 0.7067\n",
      "\n",
      "Epoch 00002: val_loss did not improve from 0.05169\n",
      "Epoch 3/30\n",
      "2/2 [==============================] - 0s 63ms/step - loss: 0.1601 - val_loss: 0.4674\n",
      "\n",
      "Epoch 00003: val_loss did not improve from 0.05169\n",
      "Epoch 4/30\n",
      "2/2 [==============================] - 0s 75ms/step - loss: 0.1019 - val_loss: 0.1886\n",
      "\n",
      "Epoch 00004: val_loss did not improve from 0.05169\n",
      "Epoch 5/30\n",
      "2/2 [==============================] - 0s 72ms/step - loss: 0.1080 - val_loss: 0.2095\n",
      "\n",
      "Epoch 00005: val_loss did not improve from 0.05169\n",
      "Epoch 6/30\n",
      "2/2 [==============================] - 0s 70ms/step - loss: 0.0856 - val_loss: 0.2744\n",
      "\n",
      "Epoch 00006: val_loss did not improve from 0.05169\n",
      "Epoch 7/30\n",
      "2/2 [==============================] - 0s 72ms/step - loss: 0.0763 - val_loss: 0.2864\n",
      "\n",
      "Epoch 00007: val_loss did not improve from 0.05169\n",
      "Epoch 8/30\n",
      "2/2 [==============================] - 0s 73ms/step - loss: 0.0830 - val_loss: 0.3376\n",
      "\n",
      "Epoch 00008: val_loss did not improve from 0.05169\n",
      "Epoch 9/30\n",
      "2/2 [==============================] - 0s 74ms/step - loss: 0.0594 - val_loss: 0.2980\n",
      "\n",
      "Epoch 00009: val_loss did not improve from 0.05169\n",
      "Epoch 10/30\n",
      "2/2 [==============================] - 0s 72ms/step - loss: 0.0643 - val_loss: 0.2637\n",
      "\n",
      "Epoch 00010: val_loss did not improve from 0.05169\n",
      "Epoch 11/30\n",
      "2/2 [==============================] - 0s 68ms/step - loss: 0.0588 - val_loss: 0.2610\n",
      "\n",
      "Epoch 00011: ReduceLROnPlateau reducing learning rate to 0.004999999888241291.\n",
      "\n",
      "Epoch 00011: val_loss did not improve from 0.05169\n",
      "Epoch 00011: early stopping\n",
      "CPU times: user 7.82 s, sys: 713 ms, total: 8.54 s\n",
      "Wall time: 4.89 s\n"
     ]
    }
   ],
   "source": [
    "%%time\n",
    "es = EarlyStopping(monitor='val_loss', min_delta=1e-10, patience=10, verbose=1)\n",
    "rlr = ReduceLROnPlateau(monitor='val_loss', factor=0.5, patience=10, verbose=1)\n",
    "mcp = ModelCheckpoint(filepath='weights.h5', monitor='val_loss', verbose=1, save_best_only=True, save_weights_only=True)\n",
    "\n",
    "tb = TensorBoard('logs')\n",
    "\n",
    "history = model.fit(X_train, y_train, shuffle=True, epochs=30, callbacks=[es, rlr, mcp, tb], validation_split=0.2, verbose=1, batch_size=256)"
   ]
  },
  {
   "cell_type": "code",
   "execution_count": null,
   "id": "00acd7a5-5eaa-41b8-8a27-e8e6d9ccce06",
   "metadata": {},
   "outputs": [],
   "source": []
  },
  {
   "cell_type": "markdown",
   "id": "0f90774b-ee17-48e9-ba1d-0e0e5cbae150",
   "metadata": {
    "tags": []
   },
   "source": [
    "# Date processing methods"
   ]
  },
  {
   "cell_type": "code",
   "execution_count": null,
   "id": "e8f6e3df-023b-490c-9b18-ee7ba6daa86e",
   "metadata": {},
   "outputs": [],
   "source": []
  },
  {
   "cell_type": "code",
   "execution_count": null,
   "id": "54ff89a0-5c4c-48fb-bc2f-aa09e98e0bd5",
   "metadata": {},
   "outputs": [],
   "source": []
  },
  {
   "cell_type": "code",
   "execution_count": null,
   "id": "74efd877-82ad-4251-9873-3871c2dc8099",
   "metadata": {},
   "outputs": [],
   "source": []
  },
  {
   "cell_type": "code",
   "execution_count": null,
   "id": "2ed5eabd-6a57-424f-b463-78c27d57e0c5",
   "metadata": {},
   "outputs": [],
   "source": []
  },
  {
   "cell_type": "code",
   "execution_count": 28,
   "id": "2c17fabf-0da3-4ef8-bea9-229e87aeefac",
   "metadata": {},
   "outputs": [],
   "source": [
    "# # Get data for multiple ticker symbols\n",
    "# data = get_stock_data(ticker_symbols, start_date)\n",
    "# formated_data = tickers_as_columns(data)\n",
    "\n",
    "# plot_data(title=\"Tech companies\", df = formated_data)"
   ]
  },
  {
   "cell_type": "markdown",
   "id": "c55aa2db-9c24-4d34-a28d-74592634e382",
   "metadata": {
    "tags": []
   },
   "source": [
    "## Train and store models"
   ]
  },
  {
   "cell_type": "code",
   "execution_count": 29,
   "id": "12b3d2a2-bd77-4aff-8117-d7cdb541f3ce",
   "metadata": {},
   "outputs": [],
   "source": [
    "\n",
    "# ABNB_model = create_model(\"ABNB\", \"AirBNB Model\", start_date, end_date = datetime.today(), pred_base_range = pred_base_range)\n",
    "# BTC_USD_model = create_model(\"BTC-USD\", \"BTC-USD Model\", start_date, end_date = datetime.today(), pred_base_range = pred_base_range)\n",
    "# GOOG_model = create_model(\"GOOG\", \"Google Model\", start_date, end_date = datetime.today(), pred_base_range = pred_base_range)\n",
    "# AAPL_model = create_model(\"AAPL\", \"Apple Model\", start_date, end_date = datetime.today(), pred_base_range = pred_base_range)\n",
    "# save_model_dict(ABNB_model)\n",
    "# save_model_dict(BTC_USD_model)\n",
    "# save_model_dict(GOOG_model)\n",
    "# save_model_dict(AAPL_model)"
   ]
  },
  {
   "cell_type": "markdown",
   "id": "86a39dbf-315b-45fb-8db8-cb91d4842b2c",
   "metadata": {
    "tags": []
   },
   "source": [
    "## Predict future data based on model"
   ]
  },
  {
   "cell_type": "code",
   "execution_count": 30,
   "id": "9f40761f-2a14-489d-9339-c641d1d53fb9",
   "metadata": {},
   "outputs": [],
   "source": [
    "# df_btc_usd = get_adj_close_df([\"BTC-USD\"], start_date, end_date = datetime.today())\n",
    "# df_btc_usd_values = df_btc_usd.values\n",
    "# predict_future(df_values, loaded_model, n_days = 20)"
   ]
  },
  {
   "cell_type": "markdown",
   "id": "d03ec76e-7395-474e-a8c1-d4c45a7ef0f2",
   "metadata": {
    "tags": []
   },
   "source": [
    "## Test Bitcoin prediction for 500 days"
   ]
  },
  {
   "cell_type": "code",
   "execution_count": 31,
   "id": "76a7730f-7269-41ab-a2b4-47f59dad54bb",
   "metadata": {},
   "outputs": [],
   "source": [
    "# BTC_USD_model_500 = create_model(\"BTC-USD\", \"BTC-USD Model 500d\", start_date, end_date = datetime.today(), pred_base_range = 500)\n",
    "# save_model_dict(BTC_USD_model_500)"
   ]
  },
  {
   "cell_type": "code",
   "execution_count": 32,
   "id": "a1a5e693-b70a-4e16-a0bb-e4b6dcc383c8",
   "metadata": {},
   "outputs": [],
   "source": [
    "# predictions = predict_future(df_btc_usd_values, BTC_USD_model_500, n_days = 5)\n",
    "# timerange = create_timerange_from_now(include_today = False, weekends = True)\n",
    "# extend_df(df, predictions, timerange)"
   ]
  },
  {
   "cell_type": "code",
   "execution_count": null,
   "id": "a51bcb42-a59c-491a-94a8-9f14251e4a86",
   "metadata": {},
   "outputs": [],
   "source": []
  },
  {
   "cell_type": "markdown",
   "id": "6168e33f-05c0-407b-bdc9-70b29ad7923f",
   "metadata": {
    "tags": []
   },
   "source": [
    "# Implement stock predictor\n",
    "For your core stock predictor, implement:\n",
    "\n",
    "A training interface that accepts a data range (start_date, end_date) and a list of ticker symbols (e.g. GOOG, AAPL), and builds a model of stock behavior. Your code should read the desired historical prices from the data source of your choice.\n",
    "A query interface that accepts a list of dates and a list of ticker symbols, and outputs the predicted stock prices for each of those stocks on the given dates. Note that the query dates passed in must be after the training date range, and ticker symbols must be a subset of the ones trained on."
   ]
  },
  {
   "cell_type": "code",
   "execution_count": 33,
   "id": "abd7c044-84a9-4a13-ac0d-f9bde7c06908",
   "metadata": {},
   "outputs": [],
   "source": [
    "start_date = datetime(year = 2019, month = 11, day = 10)\n",
    "end_date = datetime(year = 2021, month = 11, day = 10)\n",
    "ticker_symbols = [\"AAPL\", \"GOOG\"]"
   ]
  },
  {
   "cell_type": "code",
   "execution_count": 35,
   "id": "b50353de-8189-4a23-a0a1-4a231b5a89f0",
   "metadata": {},
   "outputs": [],
   "source": [
    "data = api.get_adj_close_df(ticker_symbols, start_date, end_date).T.values"
   ]
  },
  {
   "cell_type": "code",
   "execution_count": 39,
   "id": "965cb72d-6d64-47c0-b455-2ef34a93c345",
   "metadata": {},
   "outputs": [
    {
     "data": {
      "text/plain": [
       "array([[  64.59056854,   64.53144836,   65.14975739, ...,  150.44000244,\n",
       "         150.80999756,  147.91999817],\n",
       "       [1299.18994141, 1298.80004883, 1298.        , ..., 2987.0300293 ,\n",
       "        2984.9699707 , 2932.52001953]])"
      ]
     },
     "execution_count": 39,
     "metadata": {},
     "output_type": "execute_result"
    }
   ],
   "source": [
    "api.get_adj_close_df(ticker_symbols, start_date, end_date).T.values"
   ]
  },
  {
   "cell_type": "code",
   "execution_count": 38,
   "id": "a0569f9f-710d-44d3-b96a-0126740a7e21",
   "metadata": {},
   "outputs": [
    {
     "data": {
      "text/plain": [
       "array([[  64.59056854,   64.53144836,   65.14976501, ...,  150.44000244,\n",
       "         150.80999756,  147.91999817],\n",
       "       [1299.18994141, 1298.80004883, 1298.        , ..., 2987.0300293 ,\n",
       "        2984.9699707 , 2932.52001953]])"
      ]
     },
     "execution_count": 38,
     "metadata": {},
     "output_type": "execute_result"
    }
   ],
   "source": [
    "data.T.values"
   ]
  },
  {
   "cell_type": "code",
   "execution_count": null,
   "id": "82bd1424-7254-4653-b9b9-fbd1fd8c596e",
   "metadata": {},
   "outputs": [],
   "source": [
    "def training_interface(start_date, end_date, ticker_symbols):\n",
    "    # Read historical prices\n",
    "    data_df = api.get_adj_close_df(ticker_symbols, start_date, end_date)\n",
    "    # Create array which has the tickers on the x-axis and the days on the y-axis \n",
    "    data_array = data_df.T.values\n",
    "    # Caution - Currently we assume that we have a value for each ticker on each day - otherwise we need to either fill the missing values or traing with missing values (not sure how this could be done)\n",
    "    \n",
    "    \n",
    "    # Create X_train, X_test and y_train and y_test\n",
    "    \n",
    "    # Option A - Create a own network for each ticker and use it for prediction of that ticker\n",
    "    \n",
    "    # Option B - Create one network which takes all the data in consideration\n",
    "    \n",
    "    "
   ]
  },
  {
   "cell_type": "code",
   "execution_count": null,
   "id": "faa35548-dc5b-45a4-9e2c-0c915f41d7f5",
   "metadata": {},
   "outputs": [],
   "source": [
    "def query_interface(date_list, ticker_symbols)"
   ]
  },
  {
   "cell_type": "code",
   "execution_count": null,
   "id": "fe2b334c-74b3-4f6f-81a4-62c44cc35825",
   "metadata": {},
   "outputs": [],
   "source": []
  },
  {
   "cell_type": "code",
   "execution_count": null,
   "id": "5b6622a7-bbbc-4734-b549-2e175cbb508c",
   "metadata": {},
   "outputs": [],
   "source": []
  },
  {
   "cell_type": "code",
   "execution_count": null,
   "id": "4999f7bb-1a71-4437-894e-ca8c094118df",
   "metadata": {},
   "outputs": [],
   "source": []
  },
  {
   "cell_type": "code",
   "execution_count": null,
   "id": "f929591a-ce90-4085-8a45-3aec54b21406",
   "metadata": {},
   "outputs": [],
   "source": []
  },
  {
   "cell_type": "code",
   "execution_count": null,
   "id": "c5bc84cc-8fbd-432e-9ac3-5fa7ef1bdf88",
   "metadata": {},
   "outputs": [],
   "source": []
  },
  {
   "cell_type": "code",
   "execution_count": null,
   "id": "b39e0dcc-fb2a-4632-bd69-f3835688fea4",
   "metadata": {},
   "outputs": [],
   "source": []
  },
  {
   "cell_type": "code",
   "execution_count": null,
   "id": "a41860bc-c5db-454e-b7fb-116bd55a6672",
   "metadata": {},
   "outputs": [],
   "source": []
  },
  {
   "cell_type": "code",
   "execution_count": null,
   "id": "e159cfcb-c046-4fff-a8e9-067fc8e5e212",
   "metadata": {},
   "outputs": [],
   "source": []
  },
  {
   "cell_type": "code",
   "execution_count": null,
   "id": "41836dfd-6655-45d1-8867-096f838c5e1a",
   "metadata": {},
   "outputs": [],
   "source": []
  },
  {
   "cell_type": "code",
   "execution_count": null,
   "id": "cb2906f1-27a5-444c-9984-87d01e6bb5a3",
   "metadata": {},
   "outputs": [],
   "source": []
  },
  {
   "cell_type": "code",
   "execution_count": null,
   "id": "635a07f7-d257-4cb6-8492-33710e56699e",
   "metadata": {},
   "outputs": [],
   "source": []
  },
  {
   "cell_type": "code",
   "execution_count": null,
   "id": "c11b4388-3ec5-4d05-b3f3-0dbbaeb8c931",
   "metadata": {},
   "outputs": [],
   "source": []
  },
  {
   "cell_type": "code",
   "execution_count": null,
   "id": "df8044b4-a6c7-4998-8824-2f3a71ac309f",
   "metadata": {},
   "outputs": [],
   "source": []
  },
  {
   "cell_type": "code",
   "execution_count": null,
   "id": "67cb33f3-b4ab-42b4-969e-a170a501a66a",
   "metadata": {},
   "outputs": [],
   "source": []
  },
  {
   "cell_type": "code",
   "execution_count": null,
   "id": "1dc2de3d-ddbf-4bbd-9519-c7055e3bc16b",
   "metadata": {},
   "outputs": [],
   "source": []
  },
  {
   "cell_type": "code",
   "execution_count": null,
   "id": "036cb902-52de-4e57-8ce4-e7fd36735014",
   "metadata": {},
   "outputs": [],
   "source": []
  },
  {
   "cell_type": "code",
   "execution_count": null,
   "id": "cf7d8387-39c3-42a6-9b63-4610ea04a238",
   "metadata": {},
   "outputs": [],
   "source": []
  },
  {
   "cell_type": "code",
   "execution_count": null,
   "id": "2be454c0-9f61-4d59-92f4-3e435903bf27",
   "metadata": {},
   "outputs": [],
   "source": []
  },
  {
   "cell_type": "code",
   "execution_count": null,
   "id": "2692587c-e687-4315-b505-8820993f9b1b",
   "metadata": {},
   "outputs": [],
   "source": []
  },
  {
   "cell_type": "markdown",
   "id": "7f2f96d6-ecd4-4482-8f73-99a32083b66c",
   "metadata": {},
   "source": [
    "## Preprocess the data and divide it into train and test set"
   ]
  },
  {
   "cell_type": "code",
   "execution_count": null,
   "id": "54e02094-f576-40d5-9919-153e1913afd2",
   "metadata": {},
   "outputs": [],
   "source": []
  },
  {
   "cell_type": "markdown",
   "id": "508f2e86-338d-405d-a94e-669e364826a3",
   "metadata": {
    "tags": []
   },
   "source": [
    "### Create model"
   ]
  },
  {
   "cell_type": "code",
   "execution_count": null,
   "id": "409bb86f-34b7-4cb3-ad38-d551dad66fd0",
   "metadata": {},
   "outputs": [],
   "source": [
    "# first_lstm = create_model(input_shape = x_train.shape[1])\n",
    "# first_lstm.fit(x_train, y_train, batch_size=1, epochs=1)\n",
    "# store_model_keras(\"first_lstm\", first_lstm)"
   ]
  },
  {
   "cell_type": "markdown",
   "id": "636cdb83-4e12-4d15-b302-11f561aa18e4",
   "metadata": {},
   "source": [
    "### Load model from disk"
   ]
  },
  {
   "cell_type": "code",
   "execution_count": null,
   "id": "96362401-feb1-4d9a-80b0-4ddde77bf843",
   "metadata": {},
   "outputs": [],
   "source": [
    "# google_model = load_model(\"Google Model\")"
   ]
  },
  {
   "cell_type": "code",
   "execution_count": null,
   "id": "7a69488e-558a-4763-9eaa-e1375a478201",
   "metadata": {},
   "outputs": [],
   "source": [
    "# model_dict = {}\n",
    "# model_dict[\"name\"] = \"Google Model\"\n",
    "# model_dict[\"model\"] = google_model\n",
    "# model_dict[\"start_date\"] = start_date\n",
    "# model_dict[\"end_date\"] = end_date\n",
    "# model_dict[\"ticker_symbols\"] = [\"GOOG\"]\n",
    "# model_dict[\"pred_base_range\"] =  pred_base_range"
   ]
  },
  {
   "cell_type": "code",
   "execution_count": null,
   "id": "96578c46-5261-421c-9255-7db74e975ada",
   "metadata": {},
   "outputs": [],
   "source": [
    "# test_dates = []\n",
    "# test_dates.append(datetime(year = 2021, month = 9, day = 15))\n",
    "# test_dates.append(datetime(year = 2021, month = 9, day = 17))\n",
    "# test_dates.append(datetime(year = 2020, month = 9, day = 17))\n",
    "# test_dates.append(datetime(year = 2021, month = 10, day = 17))"
   ]
  },
  {
   "cell_type": "code",
   "execution_count": null,
   "id": "381cfc4f-c1f0-4323-bdd2-d79c7cdd94e0",
   "metadata": {},
   "outputs": [],
   "source": [
    "# # Making predictions on the testing data\n",
    "# prediction = make_predictions(first_lstm, x_test)\n",
    "# predictions = rescale_data(prediction, scaler)"
   ]
  },
  {
   "cell_type": "code",
   "execution_count": null,
   "id": "bd9150ff-cc5a-4d45-aef3-91aae6960dba",
   "metadata": {},
   "outputs": [],
   "source": [
    "# prediction.shape"
   ]
  },
  {
   "cell_type": "code",
   "execution_count": null,
   "id": "aac4ed5a-1ec0-4f3e-9c24-5d0e8fa12f0e",
   "metadata": {},
   "outputs": [],
   "source": [
    "# plot_approximation(filtered_data=filtered_data, training_data_len= training_data_len, predictions=predictions)"
   ]
  },
  {
   "cell_type": "code",
   "execution_count": null,
   "id": "aa18fc33-5955-4387-b17e-edeacc762ee7",
   "metadata": {},
   "outputs": [],
   "source": [
    "# goog_price = predict_future(dataset, google_model)"
   ]
  },
  {
   "cell_type": "code",
   "execution_count": null,
   "id": "504d5a31-11bb-4c54-94a6-33111f742f04",
   "metadata": {},
   "outputs": [],
   "source": [
    "# dt1 = datetime(year = 2021, month = 9, day=20)\n",
    "# dt2 = datetime(year = 2021, month = 9, day=24)\n",
    "# dt_range  = pd.date_range(start = dt1, end = dt2)"
   ]
  },
  {
   "cell_type": "code",
   "execution_count": null,
   "id": "913fc934-3d7f-497d-8867-b3d289126007",
   "metadata": {},
   "outputs": [],
   "source": [
    "# google_prediction_df = pd.DataFrame(goog_price, index = dt_range, columns = [\"Predicted GOOG price\"])"
   ]
  },
  {
   "cell_type": "code",
   "execution_count": null,
   "id": "fe322a24-919c-47f5-9f93-caf642f8432a",
   "metadata": {},
   "outputs": [],
   "source": [
    "# google_prediction_df"
   ]
  }
 ],
 "metadata": {
  "kernelspec": {
   "display_name": "Python 3 (ipykernel)",
   "language": "python",
   "name": "python3"
  },
  "language_info": {
   "codemirror_mode": {
    "name": "ipython",
    "version": 3
   },
   "file_extension": ".py",
   "mimetype": "text/x-python",
   "name": "python",
   "nbconvert_exporter": "python",
   "pygments_lexer": "ipython3",
   "version": "3.8.11"
  }
 },
 "nbformat": 4,
 "nbformat_minor": 5
}
